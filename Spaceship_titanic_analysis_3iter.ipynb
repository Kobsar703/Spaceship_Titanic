{
 "cells": [
  {
   "cell_type": "markdown",
   "id": "6ae85fdc",
   "metadata": {},
   "source": [
    "# Analysis of Spaceship Titanic dataset"
   ]
  },
  {
   "cell_type": "markdown",
   "id": "3af9f1f3",
   "metadata": {},
   "source": [
    "We have binary dataset of simulated data. The idea behind the data is transportation of the passangers from the planet Earth to another. Let's see how the data looks like. "
   ]
  },
  {
   "cell_type": "markdown",
   "id": "4e532e70",
   "metadata": {},
   "source": [
    "### In this iteration we drop missing values from the training set and will not create Spend column and keep all columns from the shopping. Plus we try to scale continuous values to extract outliers from the data (Scaling data did not help to improve). We still can modify age as most important feature in the data"
   ]
  },
  {
   "cell_type": "code",
   "execution_count": 179,
   "id": "1eedbad1",
   "metadata": {},
   "outputs": [],
   "source": [
    "import pandas as pd\n",
    "import numpy as np\n",
    "\n",
    "import seaborn as sns\n",
    "import matplotlib.pyplot as plt\n",
    "from xgboost import plot_importance\n",
    "\n",
    "from sklearn.linear_model import LogisticRegression\n",
    "from sklearn.ensemble import RandomForestClassifier\n",
    "from xgboost import XGBClassifier\n",
    "\n",
    "from sklearn.model_selection import GridSearchCV, train_test_split\n",
    "from sklearn.metrics import accuracy_score, recall_score, precision_score, f1_score,\\\n",
    "ConfusionMatrixDisplay, confusion_matrix\n",
    "from sklearn.metrics import roc_auc_score, roc_curve\n",
    "from sklearn.preprocessing import StandardScaler\n",
    "\n",
    "import pickle"
   ]
  },
  {
   "cell_type": "code",
   "execution_count": 180,
   "id": "43d7f651",
   "metadata": {},
   "outputs": [
    {
     "data": {
      "text/html": [
       "<div>\n",
       "<style scoped>\n",
       "    .dataframe tbody tr th:only-of-type {\n",
       "        vertical-align: middle;\n",
       "    }\n",
       "\n",
       "    .dataframe tbody tr th {\n",
       "        vertical-align: top;\n",
       "    }\n",
       "\n",
       "    .dataframe thead th {\n",
       "        text-align: right;\n",
       "    }\n",
       "</style>\n",
       "<table border=\"1\" class=\"dataframe\">\n",
       "  <thead>\n",
       "    <tr style=\"text-align: right;\">\n",
       "      <th></th>\n",
       "      <th>PassengerId</th>\n",
       "      <th>HomePlanet</th>\n",
       "      <th>CryoSleep</th>\n",
       "      <th>Cabin</th>\n",
       "      <th>Destination</th>\n",
       "      <th>Age</th>\n",
       "      <th>VIP</th>\n",
       "      <th>RoomService</th>\n",
       "      <th>FoodCourt</th>\n",
       "      <th>ShoppingMall</th>\n",
       "      <th>Spa</th>\n",
       "      <th>VRDeck</th>\n",
       "      <th>Name</th>\n",
       "      <th>Transported</th>\n",
       "    </tr>\n",
       "  </thead>\n",
       "  <tbody>\n",
       "    <tr>\n",
       "      <th>0</th>\n",
       "      <td>0001_01</td>\n",
       "      <td>Europa</td>\n",
       "      <td>False</td>\n",
       "      <td>B/0/P</td>\n",
       "      <td>TRAPPIST-1e</td>\n",
       "      <td>39.0</td>\n",
       "      <td>False</td>\n",
       "      <td>0.0</td>\n",
       "      <td>0.0</td>\n",
       "      <td>0.0</td>\n",
       "      <td>0.0</td>\n",
       "      <td>0.0</td>\n",
       "      <td>Maham Ofracculy</td>\n",
       "      <td>False</td>\n",
       "    </tr>\n",
       "    <tr>\n",
       "      <th>1</th>\n",
       "      <td>0002_01</td>\n",
       "      <td>Earth</td>\n",
       "      <td>False</td>\n",
       "      <td>F/0/S</td>\n",
       "      <td>TRAPPIST-1e</td>\n",
       "      <td>24.0</td>\n",
       "      <td>False</td>\n",
       "      <td>109.0</td>\n",
       "      <td>9.0</td>\n",
       "      <td>25.0</td>\n",
       "      <td>549.0</td>\n",
       "      <td>44.0</td>\n",
       "      <td>Juanna Vines</td>\n",
       "      <td>True</td>\n",
       "    </tr>\n",
       "    <tr>\n",
       "      <th>2</th>\n",
       "      <td>0003_01</td>\n",
       "      <td>Europa</td>\n",
       "      <td>False</td>\n",
       "      <td>A/0/S</td>\n",
       "      <td>TRAPPIST-1e</td>\n",
       "      <td>58.0</td>\n",
       "      <td>True</td>\n",
       "      <td>43.0</td>\n",
       "      <td>3576.0</td>\n",
       "      <td>0.0</td>\n",
       "      <td>6715.0</td>\n",
       "      <td>49.0</td>\n",
       "      <td>Altark Susent</td>\n",
       "      <td>False</td>\n",
       "    </tr>\n",
       "    <tr>\n",
       "      <th>3</th>\n",
       "      <td>0003_02</td>\n",
       "      <td>Europa</td>\n",
       "      <td>False</td>\n",
       "      <td>A/0/S</td>\n",
       "      <td>TRAPPIST-1e</td>\n",
       "      <td>33.0</td>\n",
       "      <td>False</td>\n",
       "      <td>0.0</td>\n",
       "      <td>1283.0</td>\n",
       "      <td>371.0</td>\n",
       "      <td>3329.0</td>\n",
       "      <td>193.0</td>\n",
       "      <td>Solam Susent</td>\n",
       "      <td>False</td>\n",
       "    </tr>\n",
       "    <tr>\n",
       "      <th>4</th>\n",
       "      <td>0004_01</td>\n",
       "      <td>Earth</td>\n",
       "      <td>False</td>\n",
       "      <td>F/1/S</td>\n",
       "      <td>TRAPPIST-1e</td>\n",
       "      <td>16.0</td>\n",
       "      <td>False</td>\n",
       "      <td>303.0</td>\n",
       "      <td>70.0</td>\n",
       "      <td>151.0</td>\n",
       "      <td>565.0</td>\n",
       "      <td>2.0</td>\n",
       "      <td>Willy Santantines</td>\n",
       "      <td>True</td>\n",
       "    </tr>\n",
       "  </tbody>\n",
       "</table>\n",
       "</div>"
      ],
      "text/plain": [
       "  PassengerId HomePlanet CryoSleep  Cabin  Destination   Age    VIP  \\\n",
       "0     0001_01     Europa     False  B/0/P  TRAPPIST-1e  39.0  False   \n",
       "1     0002_01      Earth     False  F/0/S  TRAPPIST-1e  24.0  False   \n",
       "2     0003_01     Europa     False  A/0/S  TRAPPIST-1e  58.0   True   \n",
       "3     0003_02     Europa     False  A/0/S  TRAPPIST-1e  33.0  False   \n",
       "4     0004_01      Earth     False  F/1/S  TRAPPIST-1e  16.0  False   \n",
       "\n",
       "   RoomService  FoodCourt  ShoppingMall     Spa  VRDeck               Name  \\\n",
       "0          0.0        0.0           0.0     0.0     0.0    Maham Ofracculy   \n",
       "1        109.0        9.0          25.0   549.0    44.0       Juanna Vines   \n",
       "2         43.0     3576.0           0.0  6715.0    49.0      Altark Susent   \n",
       "3          0.0     1283.0         371.0  3329.0   193.0       Solam Susent   \n",
       "4        303.0       70.0         151.0   565.0     2.0  Willy Santantines   \n",
       "\n",
       "   Transported  \n",
       "0        False  \n",
       "1         True  \n",
       "2        False  \n",
       "3        False  \n",
       "4         True  "
      ]
     },
     "execution_count": 180,
     "metadata": {},
     "output_type": "execute_result"
    }
   ],
   "source": [
    "df_train = pd.read_csv(\"train.csv\")\n",
    "df_train.head()"
   ]
  },
  {
   "cell_type": "code",
   "execution_count": 181,
   "id": "00a7e2b4",
   "metadata": {},
   "outputs": [
    {
     "data": {
      "text/html": [
       "<div>\n",
       "<style scoped>\n",
       "    .dataframe tbody tr th:only-of-type {\n",
       "        vertical-align: middle;\n",
       "    }\n",
       "\n",
       "    .dataframe tbody tr th {\n",
       "        vertical-align: top;\n",
       "    }\n",
       "\n",
       "    .dataframe thead th {\n",
       "        text-align: right;\n",
       "    }\n",
       "</style>\n",
       "<table border=\"1\" class=\"dataframe\">\n",
       "  <thead>\n",
       "    <tr style=\"text-align: right;\">\n",
       "      <th></th>\n",
       "      <th>PassengerId</th>\n",
       "      <th>HomePlanet</th>\n",
       "      <th>CryoSleep</th>\n",
       "      <th>Cabin</th>\n",
       "      <th>Destination</th>\n",
       "      <th>Age</th>\n",
       "      <th>VIP</th>\n",
       "      <th>RoomService</th>\n",
       "      <th>FoodCourt</th>\n",
       "      <th>ShoppingMall</th>\n",
       "      <th>Spa</th>\n",
       "      <th>VRDeck</th>\n",
       "      <th>Name</th>\n",
       "    </tr>\n",
       "  </thead>\n",
       "  <tbody>\n",
       "    <tr>\n",
       "      <th>0</th>\n",
       "      <td>0013_01</td>\n",
       "      <td>Earth</td>\n",
       "      <td>True</td>\n",
       "      <td>G/3/S</td>\n",
       "      <td>TRAPPIST-1e</td>\n",
       "      <td>27.0</td>\n",
       "      <td>False</td>\n",
       "      <td>0.0</td>\n",
       "      <td>0.0</td>\n",
       "      <td>0.0</td>\n",
       "      <td>0.0</td>\n",
       "      <td>0.0</td>\n",
       "      <td>Nelly Carsoning</td>\n",
       "    </tr>\n",
       "    <tr>\n",
       "      <th>1</th>\n",
       "      <td>0018_01</td>\n",
       "      <td>Earth</td>\n",
       "      <td>False</td>\n",
       "      <td>F/4/S</td>\n",
       "      <td>TRAPPIST-1e</td>\n",
       "      <td>19.0</td>\n",
       "      <td>False</td>\n",
       "      <td>0.0</td>\n",
       "      <td>9.0</td>\n",
       "      <td>0.0</td>\n",
       "      <td>2823.0</td>\n",
       "      <td>0.0</td>\n",
       "      <td>Lerome Peckers</td>\n",
       "    </tr>\n",
       "    <tr>\n",
       "      <th>2</th>\n",
       "      <td>0019_01</td>\n",
       "      <td>Europa</td>\n",
       "      <td>True</td>\n",
       "      <td>C/0/S</td>\n",
       "      <td>55 Cancri e</td>\n",
       "      <td>31.0</td>\n",
       "      <td>False</td>\n",
       "      <td>0.0</td>\n",
       "      <td>0.0</td>\n",
       "      <td>0.0</td>\n",
       "      <td>0.0</td>\n",
       "      <td>0.0</td>\n",
       "      <td>Sabih Unhearfus</td>\n",
       "    </tr>\n",
       "    <tr>\n",
       "      <th>3</th>\n",
       "      <td>0021_01</td>\n",
       "      <td>Europa</td>\n",
       "      <td>False</td>\n",
       "      <td>C/1/S</td>\n",
       "      <td>TRAPPIST-1e</td>\n",
       "      <td>38.0</td>\n",
       "      <td>False</td>\n",
       "      <td>0.0</td>\n",
       "      <td>6652.0</td>\n",
       "      <td>0.0</td>\n",
       "      <td>181.0</td>\n",
       "      <td>585.0</td>\n",
       "      <td>Meratz Caltilter</td>\n",
       "    </tr>\n",
       "    <tr>\n",
       "      <th>4</th>\n",
       "      <td>0023_01</td>\n",
       "      <td>Earth</td>\n",
       "      <td>False</td>\n",
       "      <td>F/5/S</td>\n",
       "      <td>TRAPPIST-1e</td>\n",
       "      <td>20.0</td>\n",
       "      <td>False</td>\n",
       "      <td>10.0</td>\n",
       "      <td>0.0</td>\n",
       "      <td>635.0</td>\n",
       "      <td>0.0</td>\n",
       "      <td>0.0</td>\n",
       "      <td>Brence Harperez</td>\n",
       "    </tr>\n",
       "  </tbody>\n",
       "</table>\n",
       "</div>"
      ],
      "text/plain": [
       "  PassengerId HomePlanet CryoSleep  Cabin  Destination   Age    VIP  \\\n",
       "0     0013_01      Earth      True  G/3/S  TRAPPIST-1e  27.0  False   \n",
       "1     0018_01      Earth     False  F/4/S  TRAPPIST-1e  19.0  False   \n",
       "2     0019_01     Europa      True  C/0/S  55 Cancri e  31.0  False   \n",
       "3     0021_01     Europa     False  C/1/S  TRAPPIST-1e  38.0  False   \n",
       "4     0023_01      Earth     False  F/5/S  TRAPPIST-1e  20.0  False   \n",
       "\n",
       "   RoomService  FoodCourt  ShoppingMall     Spa  VRDeck              Name  \n",
       "0          0.0        0.0           0.0     0.0     0.0   Nelly Carsoning  \n",
       "1          0.0        9.0           0.0  2823.0     0.0    Lerome Peckers  \n",
       "2          0.0        0.0           0.0     0.0     0.0   Sabih Unhearfus  \n",
       "3          0.0     6652.0           0.0   181.0   585.0  Meratz Caltilter  \n",
       "4         10.0        0.0         635.0     0.0     0.0   Brence Harperez  "
      ]
     },
     "execution_count": 181,
     "metadata": {},
     "output_type": "execute_result"
    }
   ],
   "source": [
    "df_test = pd.read_csv(\"test.csv\")\n",
    "df_test.head()"
   ]
  },
  {
   "cell_type": "code",
   "execution_count": 182,
   "id": "011354e1",
   "metadata": {},
   "outputs": [
    {
     "name": "stdout",
     "output_type": "stream",
     "text": [
      "PassengerId       0\n",
      "HomePlanet      201\n",
      "CryoSleep       217\n",
      "Cabin           199\n",
      "Destination     182\n",
      "Age             179\n",
      "VIP             203\n",
      "RoomService     181\n",
      "FoodCourt       183\n",
      "ShoppingMall    208\n",
      "Spa             183\n",
      "VRDeck          188\n",
      "Name            200\n",
      "Transported       0\n",
      "dtype: int64\n"
     ]
    },
    {
     "data": {
      "text/plain": [
       "PassengerId       0\n",
       "HomePlanet       87\n",
       "CryoSleep        93\n",
       "Cabin           100\n",
       "Destination      92\n",
       "Age              91\n",
       "VIP              93\n",
       "RoomService      82\n",
       "FoodCourt       106\n",
       "ShoppingMall     98\n",
       "Spa             101\n",
       "VRDeck           80\n",
       "Name             94\n",
       "dtype: int64"
      ]
     },
     "execution_count": 182,
     "metadata": {},
     "output_type": "execute_result"
    }
   ],
   "source": [
    "print(df_train.isna().sum())\n",
    "df_test.isna().sum()"
   ]
  },
  {
   "cell_type": "markdown",
   "id": "e50059b8",
   "metadata": {},
   "source": [
    "We have around 200 observation with missing values in training dataset and 100 observations in test dataset. Since we have to upload prediction for all passengers drop missing values is not the right case and we will try to generate this values for proper analysis"
   ]
  },
  {
   "cell_type": "code",
   "execution_count": 183,
   "id": "b4be349a",
   "metadata": {},
   "outputs": [
    {
     "name": "stdout",
     "output_type": "stream",
     "text": [
      "<class 'pandas.core.frame.DataFrame'>\n",
      "Int64Index: 6606 entries, 0 to 8692\n",
      "Data columns (total 14 columns):\n",
      " #   Column        Non-Null Count  Dtype  \n",
      "---  ------        --------------  -----  \n",
      " 0   PassengerId   6606 non-null   object \n",
      " 1   HomePlanet    6606 non-null   object \n",
      " 2   CryoSleep     6606 non-null   object \n",
      " 3   Cabin         6606 non-null   object \n",
      " 4   Destination   6606 non-null   object \n",
      " 5   Age           6606 non-null   float64\n",
      " 6   VIP           6606 non-null   object \n",
      " 7   RoomService   6606 non-null   float64\n",
      " 8   FoodCourt     6606 non-null   float64\n",
      " 9   ShoppingMall  6606 non-null   float64\n",
      " 10  Spa           6606 non-null   float64\n",
      " 11  VRDeck        6606 non-null   float64\n",
      " 12  Name          6606 non-null   object \n",
      " 13  Transported   6606 non-null   bool   \n",
      "dtypes: bool(1), float64(6), object(7)\n",
      "memory usage: 729.0+ KB\n"
     ]
    }
   ],
   "source": [
    "df_train = df_train.dropna(axis=0)\n",
    "df_train.info()"
   ]
  },
  {
   "cell_type": "code",
   "execution_count": 184,
   "id": "b9a22dfb",
   "metadata": {},
   "outputs": [
    {
     "name": "stdout",
     "output_type": "stream",
     "text": [
      "<class 'pandas.core.frame.DataFrame'>\n",
      "Int64Index: 10883 entries, 0 to 4276\n",
      "Data columns (total 14 columns):\n",
      " #   Column        Non-Null Count  Dtype  \n",
      "---  ------        --------------  -----  \n",
      " 0   PassengerId   10883 non-null  object \n",
      " 1   HomePlanet    10796 non-null  object \n",
      " 2   CryoSleep     10790 non-null  object \n",
      " 3   Cabin         10783 non-null  object \n",
      " 4   Destination   10791 non-null  object \n",
      " 5   Age           10792 non-null  float64\n",
      " 6   VIP           10790 non-null  object \n",
      " 7   RoomService   10801 non-null  float64\n",
      " 8   FoodCourt     10777 non-null  float64\n",
      " 9   ShoppingMall  10785 non-null  float64\n",
      " 10  Spa           10782 non-null  float64\n",
      " 11  VRDeck        10803 non-null  float64\n",
      " 12  Name          10789 non-null  object \n",
      " 13  Transported   6606 non-null   object \n",
      "dtypes: float64(6), object(8)\n",
      "memory usage: 1.2+ MB\n"
     ]
    }
   ],
   "source": [
    "df_full = pd.concat([df_train, df_test], axis=0)\n",
    "df_full.info()"
   ]
  },
  {
   "cell_type": "code",
   "execution_count": 185,
   "id": "e1d2ce7b",
   "metadata": {},
   "outputs": [
    {
     "data": {
      "text/html": [
       "<div>\n",
       "<style scoped>\n",
       "    .dataframe tbody tr th:only-of-type {\n",
       "        vertical-align: middle;\n",
       "    }\n",
       "\n",
       "    .dataframe tbody tr th {\n",
       "        vertical-align: top;\n",
       "    }\n",
       "\n",
       "    .dataframe thead th {\n",
       "        text-align: right;\n",
       "    }\n",
       "</style>\n",
       "<table border=\"1\" class=\"dataframe\">\n",
       "  <thead>\n",
       "    <tr style=\"text-align: right;\">\n",
       "      <th></th>\n",
       "      <th>PassengerId</th>\n",
       "      <th>HomePlanet</th>\n",
       "      <th>CryoSleep</th>\n",
       "      <th>Cabin</th>\n",
       "      <th>Destination</th>\n",
       "      <th>Age</th>\n",
       "      <th>VIP</th>\n",
       "      <th>RoomService</th>\n",
       "      <th>FoodCourt</th>\n",
       "      <th>ShoppingMall</th>\n",
       "      <th>Spa</th>\n",
       "      <th>VRDeck</th>\n",
       "      <th>Name</th>\n",
       "      <th>Transported</th>\n",
       "    </tr>\n",
       "  </thead>\n",
       "  <tbody>\n",
       "    <tr>\n",
       "      <th>8691</th>\n",
       "      <td>9280_01</td>\n",
       "      <td>Europa</td>\n",
       "      <td>False</td>\n",
       "      <td>E/608/S</td>\n",
       "      <td>55 Cancri e</td>\n",
       "      <td>32.0</td>\n",
       "      <td>False</td>\n",
       "      <td>0.0</td>\n",
       "      <td>1049.0</td>\n",
       "      <td>0.0</td>\n",
       "      <td>353.0</td>\n",
       "      <td>3235.0</td>\n",
       "      <td>Celeon Hontichre</td>\n",
       "      <td>False</td>\n",
       "    </tr>\n",
       "    <tr>\n",
       "      <th>8692</th>\n",
       "      <td>9280_02</td>\n",
       "      <td>Europa</td>\n",
       "      <td>False</td>\n",
       "      <td>E/608/S</td>\n",
       "      <td>TRAPPIST-1e</td>\n",
       "      <td>44.0</td>\n",
       "      <td>False</td>\n",
       "      <td>126.0</td>\n",
       "      <td>4688.0</td>\n",
       "      <td>0.0</td>\n",
       "      <td>0.0</td>\n",
       "      <td>12.0</td>\n",
       "      <td>Propsh Hontichre</td>\n",
       "      <td>True</td>\n",
       "    </tr>\n",
       "    <tr>\n",
       "      <th>0</th>\n",
       "      <td>0013_01</td>\n",
       "      <td>Earth</td>\n",
       "      <td>True</td>\n",
       "      <td>G/3/S</td>\n",
       "      <td>TRAPPIST-1e</td>\n",
       "      <td>27.0</td>\n",
       "      <td>False</td>\n",
       "      <td>0.0</td>\n",
       "      <td>0.0</td>\n",
       "      <td>0.0</td>\n",
       "      <td>0.0</td>\n",
       "      <td>0.0</td>\n",
       "      <td>Nelly Carsoning</td>\n",
       "      <td>NaN</td>\n",
       "    </tr>\n",
       "    <tr>\n",
       "      <th>1</th>\n",
       "      <td>0018_01</td>\n",
       "      <td>Earth</td>\n",
       "      <td>False</td>\n",
       "      <td>F/4/S</td>\n",
       "      <td>TRAPPIST-1e</td>\n",
       "      <td>19.0</td>\n",
       "      <td>False</td>\n",
       "      <td>0.0</td>\n",
       "      <td>9.0</td>\n",
       "      <td>0.0</td>\n",
       "      <td>2823.0</td>\n",
       "      <td>0.0</td>\n",
       "      <td>Lerome Peckers</td>\n",
       "      <td>NaN</td>\n",
       "    </tr>\n",
       "  </tbody>\n",
       "</table>\n",
       "</div>"
      ],
      "text/plain": [
       "     PassengerId HomePlanet CryoSleep    Cabin  Destination   Age    VIP  \\\n",
       "8691     9280_01     Europa     False  E/608/S  55 Cancri e  32.0  False   \n",
       "8692     9280_02     Europa     False  E/608/S  TRAPPIST-1e  44.0  False   \n",
       "0        0013_01      Earth      True    G/3/S  TRAPPIST-1e  27.0  False   \n",
       "1        0018_01      Earth     False    F/4/S  TRAPPIST-1e  19.0  False   \n",
       "\n",
       "      RoomService  FoodCourt  ShoppingMall     Spa  VRDeck              Name  \\\n",
       "8691          0.0     1049.0           0.0   353.0  3235.0  Celeon Hontichre   \n",
       "8692        126.0     4688.0           0.0     0.0    12.0  Propsh Hontichre   \n",
       "0             0.0        0.0           0.0     0.0     0.0   Nelly Carsoning   \n",
       "1             0.0        9.0           0.0  2823.0     0.0    Lerome Peckers   \n",
       "\n",
       "     Transported  \n",
       "8691       False  \n",
       "8692        True  \n",
       "0            NaN  \n",
       "1            NaN  "
      ]
     },
     "execution_count": 185,
     "metadata": {},
     "output_type": "execute_result"
    }
   ],
   "source": [
    "df_full.iloc[6604:6608, :]"
   ]
  },
  {
   "cell_type": "markdown",
   "id": "f3a65621",
   "metadata": {},
   "source": [
    "### We start from analysis of each column and replace missing values"
   ]
  },
  {
   "cell_type": "markdown",
   "id": "20eac23c",
   "metadata": {},
   "source": [
    "#### Since we will not consider Passenger ID for model simulation which could introduce bias, first column will be Home Planet"
   ]
  },
  {
   "cell_type": "code",
   "execution_count": 186,
   "id": "deca6f61",
   "metadata": {},
   "outputs": [
    {
     "data": {
      "text/plain": [
       "Earth     5829\n",
       "Europa    2675\n",
       "Mars      2292\n",
       "Name: HomePlanet, dtype: int64"
      ]
     },
     "execution_count": 186,
     "metadata": {},
     "output_type": "execute_result"
    }
   ],
   "source": [
    "df_full[\"HomePlanet\"].value_counts()"
   ]
  },
  {
   "cell_type": "code",
   "execution_count": 187,
   "id": "acb64c59",
   "metadata": {},
   "outputs": [
    {
     "data": {
      "text/plain": [
       "87"
      ]
     },
     "execution_count": 187,
     "metadata": {},
     "output_type": "execute_result"
    }
   ],
   "source": [
    "df_full[\"HomePlanet\"].isna().sum()"
   ]
  },
  {
   "cell_type": "markdown",
   "id": "c29f260e",
   "metadata": {},
   "source": [
    "I lean towards replacements all values with Earth, since majority of the passengers ~60% is from Earth, so on avarage we will be right in 60 % observations. So for 170 observation we have a good data and rest 100 will not have large impact on data compare to 12K observations"
   ]
  },
  {
   "cell_type": "code",
   "execution_count": 188,
   "id": "1911810a",
   "metadata": {},
   "outputs": [
    {
     "data": {
      "text/plain": [
       "Earth     5916\n",
       "Europa    2675\n",
       "Mars      2292\n",
       "Name: HomePlanet, dtype: int64"
      ]
     },
     "execution_count": 188,
     "metadata": {},
     "output_type": "execute_result"
    }
   ],
   "source": [
    "df_full.loc[df_full[\"HomePlanet\"].isna(), \"HomePlanet\"] = \"Earth\"\n",
    "df_full[\"HomePlanet\"].value_counts()"
   ]
  },
  {
   "cell_type": "markdown",
   "id": "988f9e52",
   "metadata": {},
   "source": [
    "### For the second column we examine CryoSleep as False and True value and later convert it to 1 and 0 values"
   ]
  },
  {
   "cell_type": "code",
   "execution_count": 189,
   "id": "4103caed",
   "metadata": {},
   "outputs": [
    {
     "data": {
      "text/plain": [
       "False    6914\n",
       "True     3876\n",
       "Name: CryoSleep, dtype: int64"
      ]
     },
     "execution_count": 189,
     "metadata": {},
     "output_type": "execute_result"
    }
   ],
   "source": [
    "df_full[\"CryoSleep\"].value_counts()"
   ]
  },
  {
   "cell_type": "code",
   "execution_count": 190,
   "id": "fbee4517",
   "metadata": {},
   "outputs": [
    {
     "data": {
      "text/plain": [
       "93"
      ]
     },
     "execution_count": 190,
     "metadata": {},
     "output_type": "execute_result"
    }
   ],
   "source": [
    "df_full[\"CryoSleep\"].isna().sum()"
   ]
  },
  {
   "cell_type": "markdown",
   "id": "4b4236cc",
   "metadata": {},
   "source": [
    "In this case we replace missing data with False as for 65% of the data it will be right approach and for rest 140 missrepresented value will not probably have large imapact "
   ]
  },
  {
   "cell_type": "code",
   "execution_count": 191,
   "id": "eabfa139",
   "metadata": {},
   "outputs": [
    {
     "data": {
      "text/plain": [
       "0    7007\n",
       "1    3876\n",
       "Name: CryoSleep, dtype: int64"
      ]
     },
     "execution_count": 191,
     "metadata": {},
     "output_type": "execute_result"
    }
   ],
   "source": [
    "df_full.loc[df_full[\"CryoSleep\"].isna(), \"CryoSleep\"] = False\n",
    "df_full[\"CryoSleep\"] = df_full[\"CryoSleep\"].astype(int)\n",
    "df_full[\"CryoSleep\"].value_counts()"
   ]
  },
  {
   "cell_type": "markdown",
   "id": "4a583df3",
   "metadata": {},
   "source": [
    "### Column Cabin as itself does not provide much of the information, so we separate this into columns Deck and Side. "
   ]
  },
  {
   "cell_type": "markdown",
   "id": "798598e7",
   "metadata": {},
   "source": [
    "Number of the room is not well understood since have many 0's and 1's which can be misrepresented by model. So we create new columns and drop Cabin. Later we examine each of newly created "
   ]
  },
  {
   "cell_type": "code",
   "execution_count": 192,
   "id": "4ac5a036",
   "metadata": {},
   "outputs": [],
   "source": [
    "df_full.loc[df_full[\"Cabin\"].isna(), \"Cabin\"] = \"F/JD/S\""
   ]
  },
  {
   "cell_type": "code",
   "execution_count": 193,
   "id": "6c19d166",
   "metadata": {},
   "outputs": [
    {
     "data": {
      "text/plain": [
       "F    3697\n",
       "G    3195\n",
       "E    1130\n",
       "B     990\n",
       "C     942\n",
       "D     616\n",
       "A     305\n",
       "T       8\n",
       "Name: Deck, dtype: int64"
      ]
     },
     "execution_count": 193,
     "metadata": {},
     "output_type": "execute_result"
    }
   ],
   "source": [
    "df_full[\"Deck\"] = df_full[\"Cabin\"].apply(lambda x: str(x).split(\"/\")[0])\n",
    "df_full[\"Deck\"].value_counts()"
   ]
  },
  {
   "cell_type": "code",
   "execution_count": 194,
   "id": "8f7dc254",
   "metadata": {},
   "outputs": [
    {
     "data": {
      "text/plain": [
       "S    5538\n",
       "P    5345\n",
       "Name: Side, dtype: int64"
      ]
     },
     "execution_count": 194,
     "metadata": {},
     "output_type": "execute_result"
    }
   ],
   "source": [
    "def find_value(row):\n",
    "    try:\n",
    "        return str(row).split(\"/\")[2]\n",
    "    except IndexError:\n",
    "        return None\n",
    "\n",
    "df_full[\"Side\"] = df_full[\"Cabin\"].apply(find_value)    \n",
    "df_full[\"Side\"].value_counts()"
   ]
  },
  {
   "cell_type": "code",
   "execution_count": 195,
   "id": "2da1459a",
   "metadata": {},
   "outputs": [
    {
     "data": {
      "text/plain": [
       "0"
      ]
     },
     "execution_count": 195,
     "metadata": {},
     "output_type": "execute_result"
    }
   ],
   "source": [
    "df_full[\"Side\"].isna().sum()"
   ]
  },
  {
   "cell_type": "markdown",
   "id": "1f50e042",
   "metadata": {},
   "source": [
    "I replaced Deck with F value and Side with S as most common and for majority will be correct. Another approach would be just drop values in training set and replace values in test."
   ]
  },
  {
   "cell_type": "code",
   "execution_count": 196,
   "id": "8bc3d59a",
   "metadata": {},
   "outputs": [
    {
     "data": {
      "text/html": [
       "<div>\n",
       "<style scoped>\n",
       "    .dataframe tbody tr th:only-of-type {\n",
       "        vertical-align: middle;\n",
       "    }\n",
       "\n",
       "    .dataframe tbody tr th {\n",
       "        vertical-align: top;\n",
       "    }\n",
       "\n",
       "    .dataframe thead th {\n",
       "        text-align: right;\n",
       "    }\n",
       "</style>\n",
       "<table border=\"1\" class=\"dataframe\">\n",
       "  <thead>\n",
       "    <tr style=\"text-align: right;\">\n",
       "      <th></th>\n",
       "      <th>PassengerId</th>\n",
       "      <th>HomePlanet</th>\n",
       "      <th>CryoSleep</th>\n",
       "      <th>Destination</th>\n",
       "      <th>Age</th>\n",
       "      <th>VIP</th>\n",
       "      <th>RoomService</th>\n",
       "      <th>FoodCourt</th>\n",
       "      <th>ShoppingMall</th>\n",
       "      <th>Spa</th>\n",
       "      <th>VRDeck</th>\n",
       "      <th>Name</th>\n",
       "      <th>Transported</th>\n",
       "      <th>Deck</th>\n",
       "      <th>Side</th>\n",
       "    </tr>\n",
       "  </thead>\n",
       "  <tbody>\n",
       "    <tr>\n",
       "      <th>0</th>\n",
       "      <td>0001_01</td>\n",
       "      <td>Europa</td>\n",
       "      <td>0</td>\n",
       "      <td>TRAPPIST-1e</td>\n",
       "      <td>39.0</td>\n",
       "      <td>False</td>\n",
       "      <td>0.0</td>\n",
       "      <td>0.0</td>\n",
       "      <td>0.0</td>\n",
       "      <td>0.0</td>\n",
       "      <td>0.0</td>\n",
       "      <td>Maham Ofracculy</td>\n",
       "      <td>False</td>\n",
       "      <td>B</td>\n",
       "      <td>P</td>\n",
       "    </tr>\n",
       "    <tr>\n",
       "      <th>1</th>\n",
       "      <td>0002_01</td>\n",
       "      <td>Earth</td>\n",
       "      <td>0</td>\n",
       "      <td>TRAPPIST-1e</td>\n",
       "      <td>24.0</td>\n",
       "      <td>False</td>\n",
       "      <td>109.0</td>\n",
       "      <td>9.0</td>\n",
       "      <td>25.0</td>\n",
       "      <td>549.0</td>\n",
       "      <td>44.0</td>\n",
       "      <td>Juanna Vines</td>\n",
       "      <td>True</td>\n",
       "      <td>F</td>\n",
       "      <td>S</td>\n",
       "    </tr>\n",
       "    <tr>\n",
       "      <th>2</th>\n",
       "      <td>0003_01</td>\n",
       "      <td>Europa</td>\n",
       "      <td>0</td>\n",
       "      <td>TRAPPIST-1e</td>\n",
       "      <td>58.0</td>\n",
       "      <td>True</td>\n",
       "      <td>43.0</td>\n",
       "      <td>3576.0</td>\n",
       "      <td>0.0</td>\n",
       "      <td>6715.0</td>\n",
       "      <td>49.0</td>\n",
       "      <td>Altark Susent</td>\n",
       "      <td>False</td>\n",
       "      <td>A</td>\n",
       "      <td>S</td>\n",
       "    </tr>\n",
       "    <tr>\n",
       "      <th>3</th>\n",
       "      <td>0003_02</td>\n",
       "      <td>Europa</td>\n",
       "      <td>0</td>\n",
       "      <td>TRAPPIST-1e</td>\n",
       "      <td>33.0</td>\n",
       "      <td>False</td>\n",
       "      <td>0.0</td>\n",
       "      <td>1283.0</td>\n",
       "      <td>371.0</td>\n",
       "      <td>3329.0</td>\n",
       "      <td>193.0</td>\n",
       "      <td>Solam Susent</td>\n",
       "      <td>False</td>\n",
       "      <td>A</td>\n",
       "      <td>S</td>\n",
       "    </tr>\n",
       "    <tr>\n",
       "      <th>4</th>\n",
       "      <td>0004_01</td>\n",
       "      <td>Earth</td>\n",
       "      <td>0</td>\n",
       "      <td>TRAPPIST-1e</td>\n",
       "      <td>16.0</td>\n",
       "      <td>False</td>\n",
       "      <td>303.0</td>\n",
       "      <td>70.0</td>\n",
       "      <td>151.0</td>\n",
       "      <td>565.0</td>\n",
       "      <td>2.0</td>\n",
       "      <td>Willy Santantines</td>\n",
       "      <td>True</td>\n",
       "      <td>F</td>\n",
       "      <td>S</td>\n",
       "    </tr>\n",
       "  </tbody>\n",
       "</table>\n",
       "</div>"
      ],
      "text/plain": [
       "  PassengerId HomePlanet  CryoSleep  Destination   Age    VIP  RoomService  \\\n",
       "0     0001_01     Europa          0  TRAPPIST-1e  39.0  False          0.0   \n",
       "1     0002_01      Earth          0  TRAPPIST-1e  24.0  False        109.0   \n",
       "2     0003_01     Europa          0  TRAPPIST-1e  58.0   True         43.0   \n",
       "3     0003_02     Europa          0  TRAPPIST-1e  33.0  False          0.0   \n",
       "4     0004_01      Earth          0  TRAPPIST-1e  16.0  False        303.0   \n",
       "\n",
       "   FoodCourt  ShoppingMall     Spa  VRDeck               Name Transported  \\\n",
       "0        0.0           0.0     0.0     0.0    Maham Ofracculy       False   \n",
       "1        9.0          25.0   549.0    44.0       Juanna Vines        True   \n",
       "2     3576.0           0.0  6715.0    49.0      Altark Susent       False   \n",
       "3     1283.0         371.0  3329.0   193.0       Solam Susent       False   \n",
       "4       70.0         151.0   565.0     2.0  Willy Santantines        True   \n",
       "\n",
       "  Deck Side  \n",
       "0    B    P  \n",
       "1    F    S  \n",
       "2    A    S  \n",
       "3    A    S  \n",
       "4    F    S  "
      ]
     },
     "execution_count": 196,
     "metadata": {},
     "output_type": "execute_result"
    }
   ],
   "source": [
    "df_full = df_full.drop(columns=\"Cabin\", axis=1)\n",
    "df_full.head()"
   ]
  },
  {
   "cell_type": "markdown",
   "id": "3dc7ddce",
   "metadata": {},
   "source": [
    "#### Next column will be Destination. "
   ]
  },
  {
   "cell_type": "code",
   "execution_count": 197,
   "id": "a35dfd7f",
   "metadata": {},
   "outputs": [
    {
     "data": {
      "text/plain": [
       "TRAPPIST-1e      7532\n",
       "55 Cancri e      2248\n",
       "PSO J318.5-22    1011\n",
       "Name: Destination, dtype: int64"
      ]
     },
     "execution_count": 197,
     "metadata": {},
     "output_type": "execute_result"
    }
   ],
   "source": [
    "df_full[\"Destination\"].value_counts()"
   ]
  },
  {
   "cell_type": "code",
   "execution_count": 198,
   "id": "eedbb1e2",
   "metadata": {},
   "outputs": [
    {
     "data": {
      "text/plain": [
       "92"
      ]
     },
     "execution_count": 198,
     "metadata": {},
     "output_type": "execute_result"
    }
   ],
   "source": [
    "df_full[\"Destination\"].isna().sum()"
   ]
  },
  {
   "cell_type": "markdown",
   "id": "99419292",
   "metadata": {},
   "source": [
    "We have majority who is moving to the planet Trappist and 70% we have a good chance for replacing missing values for this planet. Later we will use dummy variables to trasform this column. "
   ]
  },
  {
   "cell_type": "code",
   "execution_count": 199,
   "id": "b8afb42b",
   "metadata": {},
   "outputs": [
    {
     "data": {
      "text/plain": [
       "TRAPPIST-1e      7624\n",
       "55 Cancri e      2248\n",
       "PSO J318.5-22    1011\n",
       "Name: Destination, dtype: int64"
      ]
     },
     "execution_count": 199,
     "metadata": {},
     "output_type": "execute_result"
    }
   ],
   "source": [
    "df_full.loc[df_full[\"Destination\"].isna(), \"Destination\"] = \"TRAPPIST-1e\"\n",
    "df_full[\"Destination\"].value_counts()"
   ]
  },
  {
   "cell_type": "code",
   "execution_count": 200,
   "id": "96278080",
   "metadata": {},
   "outputs": [
    {
     "data": {
      "text/plain": [
       "TRAPPIST    7624\n",
       "Cancri      2248\n",
       "PSO         1011\n",
       "Name: Destination, dtype: int64"
      ]
     },
     "execution_count": 200,
     "metadata": {},
     "output_type": "execute_result"
    }
   ],
   "source": [
    "df_full[\"Destination\"] = df_full[\"Destination\"].replace(\"TRAPPIST-1e\", \"TRAPPIST\").replace(\"55 Cancri e\", \"Cancri\").replace(\"PSO J318.5-22\", \"PSO\")\n",
    "df_full[\"Destination\"].value_counts()"
   ]
  },
  {
   "cell_type": "markdown",
   "id": "9ad38a5c",
   "metadata": {},
   "source": [
    "#### Next column age. For this case we use avarage age for the population."
   ]
  },
  {
   "cell_type": "code",
   "execution_count": 201,
   "id": "8cabf241",
   "metadata": {},
   "outputs": [
    {
     "data": {
      "text/plain": [
       "count    10792.000000\n",
       "mean        28.802539\n",
       "std         14.396816\n",
       "min          0.000000\n",
       "25%         19.000000\n",
       "50%         27.000000\n",
       "75%         38.000000\n",
       "max         79.000000\n",
       "Name: Age, dtype: float64"
      ]
     },
     "execution_count": 201,
     "metadata": {},
     "output_type": "execute_result"
    }
   ],
   "source": [
    "df_full[\"Age\"].describe()"
   ]
  },
  {
   "cell_type": "code",
   "execution_count": 202,
   "id": "907926b3",
   "metadata": {},
   "outputs": [
    {
     "data": {
      "text/plain": [
       "91"
      ]
     },
     "execution_count": 202,
     "metadata": {},
     "output_type": "execute_result"
    }
   ],
   "source": [
    "df_full[\"Age\"].isna().sum()"
   ]
  },
  {
   "cell_type": "code",
   "execution_count": 203,
   "id": "997f6c35",
   "metadata": {},
   "outputs": [
    {
     "data": {
      "text/html": [
       "<div>\n",
       "<style scoped>\n",
       "    .dataframe tbody tr th:only-of-type {\n",
       "        vertical-align: middle;\n",
       "    }\n",
       "\n",
       "    .dataframe tbody tr th {\n",
       "        vertical-align: top;\n",
       "    }\n",
       "\n",
       "    .dataframe thead th {\n",
       "        text-align: right;\n",
       "    }\n",
       "</style>\n",
       "<table border=\"1\" class=\"dataframe\">\n",
       "  <thead>\n",
       "    <tr style=\"text-align: right;\">\n",
       "      <th></th>\n",
       "      <th>CryoSleep</th>\n",
       "      <th>Age</th>\n",
       "      <th>RoomService</th>\n",
       "      <th>FoodCourt</th>\n",
       "      <th>ShoppingMall</th>\n",
       "      <th>Spa</th>\n",
       "      <th>VRDeck</th>\n",
       "    </tr>\n",
       "  </thead>\n",
       "  <tbody>\n",
       "    <tr>\n",
       "      <th>count</th>\n",
       "      <td>10883.000000</td>\n",
       "      <td>10883.000000</td>\n",
       "      <td>10801.000000</td>\n",
       "      <td>10777.000000</td>\n",
       "      <td>10785.000000</td>\n",
       "      <td>10782.000000</td>\n",
       "      <td>10803.000000</td>\n",
       "    </tr>\n",
       "    <tr>\n",
       "      <th>mean</th>\n",
       "      <td>0.356152</td>\n",
       "      <td>28.795828</td>\n",
       "      <td>221.544764</td>\n",
       "      <td>463.680894</td>\n",
       "      <td>177.945387</td>\n",
       "      <td>309.246151</td>\n",
       "      <td>306.472369</td>\n",
       "    </tr>\n",
       "    <tr>\n",
       "      <th>std</th>\n",
       "      <td>0.478883</td>\n",
       "      <td>14.336679</td>\n",
       "      <td>630.484127</td>\n",
       "      <td>1621.887223</td>\n",
       "      <td>570.343750</td>\n",
       "      <td>1133.658617</td>\n",
       "      <td>1175.106100</td>\n",
       "    </tr>\n",
       "    <tr>\n",
       "      <th>min</th>\n",
       "      <td>0.000000</td>\n",
       "      <td>0.000000</td>\n",
       "      <td>0.000000</td>\n",
       "      <td>0.000000</td>\n",
       "      <td>0.000000</td>\n",
       "      <td>0.000000</td>\n",
       "      <td>0.000000</td>\n",
       "    </tr>\n",
       "    <tr>\n",
       "      <th>25%</th>\n",
       "      <td>0.000000</td>\n",
       "      <td>19.000000</td>\n",
       "      <td>0.000000</td>\n",
       "      <td>0.000000</td>\n",
       "      <td>0.000000</td>\n",
       "      <td>0.000000</td>\n",
       "      <td>0.000000</td>\n",
       "    </tr>\n",
       "    <tr>\n",
       "      <th>50%</th>\n",
       "      <td>0.000000</td>\n",
       "      <td>27.000000</td>\n",
       "      <td>0.000000</td>\n",
       "      <td>0.000000</td>\n",
       "      <td>0.000000</td>\n",
       "      <td>0.000000</td>\n",
       "      <td>0.000000</td>\n",
       "    </tr>\n",
       "    <tr>\n",
       "      <th>75%</th>\n",
       "      <td>1.000000</td>\n",
       "      <td>37.000000</td>\n",
       "      <td>51.000000</td>\n",
       "      <td>81.000000</td>\n",
       "      <td>31.000000</td>\n",
       "      <td>59.000000</td>\n",
       "      <td>44.000000</td>\n",
       "    </tr>\n",
       "    <tr>\n",
       "      <th>max</th>\n",
       "      <td>1.000000</td>\n",
       "      <td>79.000000</td>\n",
       "      <td>11567.000000</td>\n",
       "      <td>29813.000000</td>\n",
       "      <td>12253.000000</td>\n",
       "      <td>22408.000000</td>\n",
       "      <td>22272.000000</td>\n",
       "    </tr>\n",
       "  </tbody>\n",
       "</table>\n",
       "</div>"
      ],
      "text/plain": [
       "          CryoSleep           Age   RoomService     FoodCourt  ShoppingMall  \\\n",
       "count  10883.000000  10883.000000  10801.000000  10777.000000  10785.000000   \n",
       "mean       0.356152     28.795828    221.544764    463.680894    177.945387   \n",
       "std        0.478883     14.336679    630.484127   1621.887223    570.343750   \n",
       "min        0.000000      0.000000      0.000000      0.000000      0.000000   \n",
       "25%        0.000000     19.000000      0.000000      0.000000      0.000000   \n",
       "50%        0.000000     27.000000      0.000000      0.000000      0.000000   \n",
       "75%        1.000000     37.000000     51.000000     81.000000     31.000000   \n",
       "max        1.000000     79.000000  11567.000000  29813.000000  12253.000000   \n",
       "\n",
       "                Spa        VRDeck  \n",
       "count  10782.000000  10803.000000  \n",
       "mean     309.246151    306.472369  \n",
       "std     1133.658617   1175.106100  \n",
       "min        0.000000      0.000000  \n",
       "25%        0.000000      0.000000  \n",
       "50%        0.000000      0.000000  \n",
       "75%       59.000000     44.000000  \n",
       "max    22408.000000  22272.000000  "
      ]
     },
     "execution_count": 203,
     "metadata": {},
     "output_type": "execute_result"
    }
   ],
   "source": [
    "df_full.loc[df_full[\"Age\"].isna(), \"Age\"] = 28\n",
    "df_full.describe()"
   ]
  },
  {
   "cell_type": "code",
   "execution_count": 204,
   "id": "b2de9a55",
   "metadata": {},
   "outputs": [
    {
     "data": {
      "image/png": "[encoded data removed]",
      "text/plain": [
       "<Figure size 600x400 with 1 Axes>"
      ]
     },
     "metadata": {},
     "output_type": "display_data"
    }
   ],
   "source": [
    "plt.figure(figsize=(6, 4))  \n",
    "sns.boxplot(y = df_full[\"Age\"])\n",
    "\n",
    "plt.ylabel(\"Age\")  \n",
    "\n",
    "plt.show()"
   ]
  },
  {
   "cell_type": "code",
   "execution_count": 205,
   "id": "78e3fe9a",
   "metadata": {},
   "outputs": [
    {
     "name": "stdout",
     "output_type": "stream",
     "text": [
      "Upper limit 64.0\n",
      "Lower limit -8.0\n",
      "Number of outliers in the Age section 137\n",
      "27.0\n"
     ]
    }
   ],
   "source": [
    "percentile25 = df_full[\"Age\"].quantile(0.25)\n",
    "percentile75 = df_full[\"Age\"].quantile(0.75)\n",
    "\n",
    "iqr = percentile75 - percentile25\n",
    "\n",
    "upper_limit = percentile75 + 1.5 * iqr\n",
    "lower_limit = percentile25 - 1.5 * iqr\n",
    "print(\"Upper limit\", upper_limit)\n",
    "print(\"Lower limit\", lower_limit)\n",
    "\n",
    "outlier_age = df_full[(df_full[\"Age\"] > upper_limit) | (df_full[\"Age\"] < lower_limit)]\n",
    "\n",
    "print(\"Number of outliers in the Age section\", len(outlier_age))\n",
    "print(1.5 * iqr)"
   ]
  },
  {
   "cell_type": "markdown",
   "id": "fc403fe6",
   "metadata": {},
   "source": [
    "We replaced missing values from dataset by average age of the population. Also notible that Age has outliers (237) which could affect some models like Logistic Regression and Naive Bayes. For Random Forest it will affect only in extreme cases, so we stick with this and correct in case of nessacity."
   ]
  },
  {
   "cell_type": "code",
   "execution_count": 206,
   "id": "594bf190",
   "metadata": {},
   "outputs": [
    {
     "data": {
      "text/plain": [
       "15.0    5037\n",
       "30.0    2944\n",
       "0.0     1340\n",
       "45.0    1241\n",
       "60.0     305\n",
       "75.0      16\n",
       "Name: AgeBucket, dtype: int64"
      ]
     },
     "execution_count": 206,
     "metadata": {},
     "output_type": "execute_result"
    }
   ],
   "source": [
    "df_full[\"AgeBucket\"] = df_full[\"Age\"] // 15 * 15\n",
    "df_full[\"AgeBucket\"].value_counts()"
   ]
  },
  {
   "cell_type": "code",
   "execution_count": 207,
   "id": "c20bc988",
   "metadata": {},
   "outputs": [
    {
     "data": {
      "image/png": "[encoded data removed]",
      "text/plain": [
       "<Figure size 600x400 with 1 Axes>"
      ]
     },
     "metadata": {},
     "output_type": "display_data"
    }
   ],
   "source": [
    "plt.figure(figsize=(6,4))\n",
    "sns.histplot(df_full[\"AgeBucket\"])\n",
    "plt.show()"
   ]
  },
  {
   "cell_type": "markdown",
   "id": "a28c8466",
   "metadata": {},
   "source": [
    "### Next we explore VIP"
   ]
  },
  {
   "cell_type": "code",
   "execution_count": 208,
   "id": "4ab95801",
   "metadata": {},
   "outputs": [
    {
     "data": {
      "text/plain": [
       "False    10554\n",
       "True       236\n",
       "Name: VIP, dtype: int64"
      ]
     },
     "execution_count": 208,
     "metadata": {},
     "output_type": "execute_result"
    }
   ],
   "source": [
    "df_full[\"VIP\"].value_counts()"
   ]
  },
  {
   "cell_type": "code",
   "execution_count": 209,
   "id": "a40bcf45",
   "metadata": {},
   "outputs": [
    {
     "data": {
      "text/plain": [
       "93"
      ]
     },
     "execution_count": 209,
     "metadata": {},
     "output_type": "execute_result"
    }
   ],
   "source": [
    "df_full[\"VIP\"].isna().sum()"
   ]
  },
  {
   "cell_type": "code",
   "execution_count": 210,
   "id": "b5488406",
   "metadata": {},
   "outputs": [
    {
     "data": {
      "text/plain": [
       "0    10647\n",
       "1      236\n",
       "Name: VIP, dtype: int64"
      ]
     },
     "execution_count": 210,
     "metadata": {},
     "output_type": "execute_result"
    }
   ],
   "source": [
    "df_full.loc[df_full[\"VIP\"].isna(), \"VIP\"] = False\n",
    "df_full[\"VIP\"] = df_full[\"VIP\"].astype(int)\n",
    "df_full[\"VIP\"].value_counts()"
   ]
  },
  {
   "cell_type": "code",
   "execution_count": 211,
   "id": "06d2abb5",
   "metadata": {},
   "outputs": [
    {
     "data": {
      "text/html": [
       "<div>\n",
       "<style scoped>\n",
       "    .dataframe tbody tr th:only-of-type {\n",
       "        vertical-align: middle;\n",
       "    }\n",
       "\n",
       "    .dataframe tbody tr th {\n",
       "        vertical-align: top;\n",
       "    }\n",
       "\n",
       "    .dataframe thead th {\n",
       "        text-align: right;\n",
       "    }\n",
       "</style>\n",
       "<table border=\"1\" class=\"dataframe\">\n",
       "  <thead>\n",
       "    <tr style=\"text-align: right;\">\n",
       "      <th></th>\n",
       "      <th>PassengerId</th>\n",
       "      <th>HomePlanet</th>\n",
       "      <th>CryoSleep</th>\n",
       "      <th>Destination</th>\n",
       "      <th>Age</th>\n",
       "      <th>VIP</th>\n",
       "      <th>RoomService</th>\n",
       "      <th>FoodCourt</th>\n",
       "      <th>ShoppingMall</th>\n",
       "      <th>Spa</th>\n",
       "      <th>VRDeck</th>\n",
       "      <th>Name</th>\n",
       "      <th>Transported</th>\n",
       "      <th>Deck</th>\n",
       "      <th>Side</th>\n",
       "      <th>AgeBucket</th>\n",
       "    </tr>\n",
       "  </thead>\n",
       "  <tbody>\n",
       "    <tr>\n",
       "      <th>0</th>\n",
       "      <td>0001_01</td>\n",
       "      <td>Europa</td>\n",
       "      <td>0</td>\n",
       "      <td>TRAPPIST</td>\n",
       "      <td>39.0</td>\n",
       "      <td>0</td>\n",
       "      <td>0.0</td>\n",
       "      <td>0.0</td>\n",
       "      <td>0.0</td>\n",
       "      <td>0.0</td>\n",
       "      <td>0.0</td>\n",
       "      <td>Maham Ofracculy</td>\n",
       "      <td>False</td>\n",
       "      <td>B</td>\n",
       "      <td>P</td>\n",
       "      <td>30.0</td>\n",
       "    </tr>\n",
       "    <tr>\n",
       "      <th>1</th>\n",
       "      <td>0002_01</td>\n",
       "      <td>Earth</td>\n",
       "      <td>0</td>\n",
       "      <td>TRAPPIST</td>\n",
       "      <td>24.0</td>\n",
       "      <td>0</td>\n",
       "      <td>109.0</td>\n",
       "      <td>9.0</td>\n",
       "      <td>25.0</td>\n",
       "      <td>549.0</td>\n",
       "      <td>44.0</td>\n",
       "      <td>Juanna Vines</td>\n",
       "      <td>True</td>\n",
       "      <td>F</td>\n",
       "      <td>S</td>\n",
       "      <td>15.0</td>\n",
       "    </tr>\n",
       "    <tr>\n",
       "      <th>2</th>\n",
       "      <td>0003_01</td>\n",
       "      <td>Europa</td>\n",
       "      <td>0</td>\n",
       "      <td>TRAPPIST</td>\n",
       "      <td>58.0</td>\n",
       "      <td>1</td>\n",
       "      <td>43.0</td>\n",
       "      <td>3576.0</td>\n",
       "      <td>0.0</td>\n",
       "      <td>6715.0</td>\n",
       "      <td>49.0</td>\n",
       "      <td>Altark Susent</td>\n",
       "      <td>False</td>\n",
       "      <td>A</td>\n",
       "      <td>S</td>\n",
       "      <td>45.0</td>\n",
       "    </tr>\n",
       "    <tr>\n",
       "      <th>3</th>\n",
       "      <td>0003_02</td>\n",
       "      <td>Europa</td>\n",
       "      <td>0</td>\n",
       "      <td>TRAPPIST</td>\n",
       "      <td>33.0</td>\n",
       "      <td>0</td>\n",
       "      <td>0.0</td>\n",
       "      <td>1283.0</td>\n",
       "      <td>371.0</td>\n",
       "      <td>3329.0</td>\n",
       "      <td>193.0</td>\n",
       "      <td>Solam Susent</td>\n",
       "      <td>False</td>\n",
       "      <td>A</td>\n",
       "      <td>S</td>\n",
       "      <td>30.0</td>\n",
       "    </tr>\n",
       "    <tr>\n",
       "      <th>4</th>\n",
       "      <td>0004_01</td>\n",
       "      <td>Earth</td>\n",
       "      <td>0</td>\n",
       "      <td>TRAPPIST</td>\n",
       "      <td>16.0</td>\n",
       "      <td>0</td>\n",
       "      <td>303.0</td>\n",
       "      <td>70.0</td>\n",
       "      <td>151.0</td>\n",
       "      <td>565.0</td>\n",
       "      <td>2.0</td>\n",
       "      <td>Willy Santantines</td>\n",
       "      <td>True</td>\n",
       "      <td>F</td>\n",
       "      <td>S</td>\n",
       "      <td>15.0</td>\n",
       "    </tr>\n",
       "  </tbody>\n",
       "</table>\n",
       "</div>"
      ],
      "text/plain": [
       "  PassengerId HomePlanet  CryoSleep Destination   Age  VIP  RoomService  \\\n",
       "0     0001_01     Europa          0    TRAPPIST  39.0    0          0.0   \n",
       "1     0002_01      Earth          0    TRAPPIST  24.0    0        109.0   \n",
       "2     0003_01     Europa          0    TRAPPIST  58.0    1         43.0   \n",
       "3     0003_02     Europa          0    TRAPPIST  33.0    0          0.0   \n",
       "4     0004_01      Earth          0    TRAPPIST  16.0    0        303.0   \n",
       "\n",
       "   FoodCourt  ShoppingMall     Spa  VRDeck               Name Transported  \\\n",
       "0        0.0           0.0     0.0     0.0    Maham Ofracculy       False   \n",
       "1        9.0          25.0   549.0    44.0       Juanna Vines        True   \n",
       "2     3576.0           0.0  6715.0    49.0      Altark Susent       False   \n",
       "3     1283.0         371.0  3329.0   193.0       Solam Susent       False   \n",
       "4       70.0         151.0   565.0     2.0  Willy Santantines        True   \n",
       "\n",
       "  Deck Side  AgeBucket  \n",
       "0    B    P       30.0  \n",
       "1    F    S       15.0  \n",
       "2    A    S       45.0  \n",
       "3    A    S       30.0  \n",
       "4    F    S       15.0  "
      ]
     },
     "execution_count": 211,
     "metadata": {},
     "output_type": "execute_result"
    }
   ],
   "source": [
    "df_full.head()"
   ]
  },
  {
   "cell_type": "markdown",
   "id": "79a9f38d",
   "metadata": {},
   "source": [
    "### Room Service, Food Court, Shopping Mall, Spa, VR Deck"
   ]
  },
  {
   "cell_type": "markdown",
   "id": "de6279d1",
   "metadata": {},
   "source": [
    "All these columns have consecutive values and we replace missing values with median value in each column"
   ]
  },
  {
   "cell_type": "code",
   "execution_count": 212,
   "id": "58e68d84",
   "metadata": {},
   "outputs": [
    {
     "data": {
      "text/plain": [
       "count    10801.000000\n",
       "mean       221.544764\n",
       "std        630.484127\n",
       "min          0.000000\n",
       "25%          0.000000\n",
       "50%          0.000000\n",
       "75%         51.000000\n",
       "max      11567.000000\n",
       "Name: RoomService, dtype: float64"
      ]
     },
     "execution_count": 212,
     "metadata": {},
     "output_type": "execute_result"
    }
   ],
   "source": [
    "df_full[\"RoomService\"].describe()"
   ]
  },
  {
   "cell_type": "code",
   "execution_count": 213,
   "id": "0e8388e2",
   "metadata": {},
   "outputs": [
    {
     "data": {
      "text/plain": [
       "82"
      ]
     },
     "execution_count": 213,
     "metadata": {},
     "output_type": "execute_result"
    }
   ],
   "source": [
    "df_full[\"RoomService\"].isna().sum()"
   ]
  },
  {
   "cell_type": "code",
   "execution_count": 214,
   "id": "d7d26a20",
   "metadata": {},
   "outputs": [
    {
     "data": {
      "text/plain": [
       "0.0"
      ]
     },
     "execution_count": 214,
     "metadata": {},
     "output_type": "execute_result"
    }
   ],
   "source": [
    "df_full[\"RoomService\"].median()"
   ]
  },
  {
   "cell_type": "code",
   "execution_count": 215,
   "id": "fdb9aae3",
   "metadata": {},
   "outputs": [
    {
     "data": {
      "text/plain": [
       "0"
      ]
     },
     "execution_count": 215,
     "metadata": {},
     "output_type": "execute_result"
    }
   ],
   "source": [
    "df_full.loc[df_full[\"RoomService\"].isna(), \"RoomService\"] = 0.0\n",
    "df_full[\"RoomService\"].isna().sum()"
   ]
  },
  {
   "cell_type": "code",
   "execution_count": 216,
   "id": "9962d2d3",
   "metadata": {},
   "outputs": [
    {
     "data": {
      "image/png": "[encoded data removed]",
      "text/plain": [
       "<Figure size 600x400 with 1 Axes>"
      ]
     },
     "metadata": {},
     "output_type": "display_data"
    }
   ],
   "source": [
    "plt.figure(figsize=(6, 4))  \n",
    "sns.boxplot(y = df_full[\"RoomService\"], showfliers=False)\n",
    "\n",
    "plt.ylabel(\"Room Service\")  \n",
    "\n",
    "plt.show()"
   ]
  },
  {
   "cell_type": "markdown",
   "id": "9ef7dbf3",
   "metadata": {},
   "source": [
    "As we can see majority of the values are outliers and most probably it is introduce large bias"
   ]
  },
  {
   "cell_type": "code",
   "execution_count": 217,
   "id": "3715dfbc",
   "metadata": {},
   "outputs": [
    {
     "data": {
      "text/plain": [
       "count    10777.000000\n",
       "mean       463.680894\n",
       "std       1621.887223\n",
       "min          0.000000\n",
       "25%          0.000000\n",
       "50%          0.000000\n",
       "75%         81.000000\n",
       "max      29813.000000\n",
       "Name: FoodCourt, dtype: float64"
      ]
     },
     "execution_count": 217,
     "metadata": {},
     "output_type": "execute_result"
    }
   ],
   "source": [
    "df_full[\"FoodCourt\"].describe()"
   ]
  },
  {
   "cell_type": "code",
   "execution_count": 218,
   "id": "b2d691c4",
   "metadata": {},
   "outputs": [
    {
     "data": {
      "text/plain": [
       "106"
      ]
     },
     "execution_count": 218,
     "metadata": {},
     "output_type": "execute_result"
    }
   ],
   "source": [
    "df_full[\"FoodCourt\"].isna().sum()"
   ]
  },
  {
   "cell_type": "code",
   "execution_count": 219,
   "id": "a711c948",
   "metadata": {},
   "outputs": [
    {
     "data": {
      "text/plain": [
       "0.0"
      ]
     },
     "execution_count": 219,
     "metadata": {},
     "output_type": "execute_result"
    }
   ],
   "source": [
    "df_full[\"FoodCourt\"].median()"
   ]
  },
  {
   "cell_type": "code",
   "execution_count": 220,
   "id": "24ba3af9",
   "metadata": {},
   "outputs": [],
   "source": [
    "df_full.loc[df_full[\"FoodCourt\"].isna(), \"FoodCourt\"] = 0.0"
   ]
  },
  {
   "cell_type": "code",
   "execution_count": 221,
   "id": "a62334e6",
   "metadata": {},
   "outputs": [
    {
     "data": {
      "image/png": "[encoded data removed]",
      "text/plain": [
       "<Figure size 600x400 with 1 Axes>"
      ]
     },
     "metadata": {},
     "output_type": "display_data"
    }
   ],
   "source": [
    "plt.figure(figsize=(6, 4))  \n",
    "sns.boxplot(y = df_full[\"FoodCourt\"], showfliers=False)\n",
    "\n",
    "plt.ylabel(\"Food Court\")  \n",
    "\n",
    "plt.show()"
   ]
  },
  {
   "cell_type": "markdown",
   "id": "bb227757",
   "metadata": {},
   "source": [
    "Similar case for Food Court"
   ]
  },
  {
   "cell_type": "code",
   "execution_count": 222,
   "id": "6a49bde2",
   "metadata": {},
   "outputs": [
    {
     "data": {
      "text/plain": [
       "count    10785.000000\n",
       "mean       177.945387\n",
       "std        570.343750\n",
       "min          0.000000\n",
       "25%          0.000000\n",
       "50%          0.000000\n",
       "75%         31.000000\n",
       "max      12253.000000\n",
       "Name: ShoppingMall, dtype: float64"
      ]
     },
     "execution_count": 222,
     "metadata": {},
     "output_type": "execute_result"
    }
   ],
   "source": [
    "df_full[\"ShoppingMall\"].describe()"
   ]
  },
  {
   "cell_type": "code",
   "execution_count": 223,
   "id": "9305cf96",
   "metadata": {},
   "outputs": [
    {
     "data": {
      "text/plain": [
       "98"
      ]
     },
     "execution_count": 223,
     "metadata": {},
     "output_type": "execute_result"
    }
   ],
   "source": [
    "df_full[\"ShoppingMall\"].isna().sum()"
   ]
  },
  {
   "cell_type": "code",
   "execution_count": 224,
   "id": "04220939",
   "metadata": {},
   "outputs": [
    {
     "data": {
      "text/plain": [
       "0"
      ]
     },
     "execution_count": 224,
     "metadata": {},
     "output_type": "execute_result"
    }
   ],
   "source": [
    "df_full.loc[df_full[\"ShoppingMall\"].isna(), \"ShoppingMall\"] = 0.0\n",
    "df_full[\"ShoppingMall\"].isna().sum()"
   ]
  },
  {
   "cell_type": "code",
   "execution_count": 225,
   "id": "2fd6fc9a",
   "metadata": {},
   "outputs": [
    {
     "data": {
      "image/png": "[encoded data removed]",
      "text/plain": [
       "<Figure size 600x400 with 1 Axes>"
      ]
     },
     "metadata": {},
     "output_type": "display_data"
    }
   ],
   "source": [
    "plt.figure(figsize=(6, 4))  \n",
    "sns.boxplot(y = df_full[\"ShoppingMall\"], showfliers=False)\n",
    "\n",
    "plt.ylabel(\"Shopping Mall\")  \n",
    "\n",
    "plt.show()"
   ]
  },
  {
   "cell_type": "code",
   "execution_count": 226,
   "id": "57f4052a",
   "metadata": {},
   "outputs": [
    {
     "data": {
      "text/plain": [
       "count    10782.000000\n",
       "mean       309.246151\n",
       "std       1133.658617\n",
       "min          0.000000\n",
       "25%          0.000000\n",
       "50%          0.000000\n",
       "75%         59.000000\n",
       "max      22408.000000\n",
       "Name: Spa, dtype: float64"
      ]
     },
     "execution_count": 226,
     "metadata": {},
     "output_type": "execute_result"
    }
   ],
   "source": [
    "df_full[\"Spa\"].describe()"
   ]
  },
  {
   "cell_type": "code",
   "execution_count": 227,
   "id": "737127d3",
   "metadata": {},
   "outputs": [
    {
     "data": {
      "text/plain": [
       "101"
      ]
     },
     "execution_count": 227,
     "metadata": {},
     "output_type": "execute_result"
    }
   ],
   "source": [
    "df_full[\"Spa\"].isna().sum()"
   ]
  },
  {
   "cell_type": "code",
   "execution_count": 228,
   "id": "4b276e73",
   "metadata": {},
   "outputs": [
    {
     "data": {
      "text/plain": [
       "0"
      ]
     },
     "execution_count": 228,
     "metadata": {},
     "output_type": "execute_result"
    }
   ],
   "source": [
    "df_full.loc[df_full[\"Spa\"].isna(), \"Spa\"] = 0.0\n",
    "df_full[\"Spa\"].isna().sum()"
   ]
  },
  {
   "cell_type": "code",
   "execution_count": 229,
   "id": "a9d03785",
   "metadata": {},
   "outputs": [
    {
     "data": {
      "image/png": "[encoded data removed]",
      "text/plain": [
       "<Figure size 600x400 with 1 Axes>"
      ]
     },
     "metadata": {},
     "output_type": "display_data"
    }
   ],
   "source": [
    "plt.figure(figsize=(6, 4))  \n",
    "sns.boxplot(y = df_full[\"Spa\"], showfliers=False)\n",
    "\n",
    "plt.ylabel(\"Spa\")  \n",
    "\n",
    "plt.show()"
   ]
  },
  {
   "cell_type": "code",
   "execution_count": 230,
   "id": "d5037d26",
   "metadata": {},
   "outputs": [
    {
     "data": {
      "text/plain": [
       "count    10803.000000\n",
       "mean       306.472369\n",
       "std       1175.106100\n",
       "min          0.000000\n",
       "25%          0.000000\n",
       "50%          0.000000\n",
       "75%         44.000000\n",
       "max      22272.000000\n",
       "Name: VRDeck, dtype: float64"
      ]
     },
     "execution_count": 230,
     "metadata": {},
     "output_type": "execute_result"
    }
   ],
   "source": [
    "df_full[\"VRDeck\"].describe()"
   ]
  },
  {
   "cell_type": "code",
   "execution_count": 231,
   "id": "d42f325f",
   "metadata": {},
   "outputs": [
    {
     "data": {
      "text/plain": [
       "0"
      ]
     },
     "execution_count": 231,
     "metadata": {},
     "output_type": "execute_result"
    }
   ],
   "source": [
    "df_full.loc[df_full[\"VRDeck\"].isna(), \"VRDeck\"] = 0.0\n",
    "df_full[\"VRDeck\"].isna().sum()"
   ]
  },
  {
   "cell_type": "code",
   "execution_count": 232,
   "id": "95670754",
   "metadata": {},
   "outputs": [
    {
     "data": {
      "image/png": "[encoded data removed]",
      "text/plain": [
       "<Figure size 600x400 with 1 Axes>"
      ]
     },
     "metadata": {},
     "output_type": "display_data"
    }
   ],
   "source": [
    "plt.figure(figsize=(6, 4))  \n",
    "sns.boxplot(y = df_full[\"VRDeck\"], showfliers=False)\n",
    "\n",
    "plt.ylabel(\"VR Deck\")  \n",
    "\n",
    "plt.show()"
   ]
  },
  {
   "cell_type": "markdown",
   "id": "3bc5bbe1",
   "metadata": {},
   "source": [
    "As we can see every of this column has extensive outliers which can affect our model prediction. We can make one column as TotalSpend"
   ]
  },
  {
   "cell_type": "code",
   "execution_count": 233,
   "id": "5bd92f48",
   "metadata": {},
   "outputs": [
    {
     "data": {
      "text/plain": [
       "count    10883.000000\n",
       "mean      1465.978866\n",
       "std       2843.459361\n",
       "min          0.000000\n",
       "25%          0.000000\n",
       "50%        724.000000\n",
       "75%       1467.500000\n",
       "max      35987.000000\n",
       "Name: TotalSpend, dtype: float64"
      ]
     },
     "execution_count": 233,
     "metadata": {},
     "output_type": "execute_result"
    }
   ],
   "source": [
    "df_full[\"TotalSpend\"] = (\n",
    "    df_full[\"RoomService\"] + \n",
    "    df_full[\"FoodCourt\"] + \n",
    "    df_full[\"ShoppingMall\"] + \n",
    "    df_full[\"Spa\"] + \n",
    "    df_full[\"VRDeck\"]\n",
    ")\n",
    "df_full[\"TotalSpend\"].describe()"
   ]
  },
  {
   "cell_type": "code",
   "execution_count": 234,
   "id": "292bbbd2",
   "metadata": {},
   "outputs": [
    {
     "data": {
      "text/plain": [
       "0"
      ]
     },
     "execution_count": 234,
     "metadata": {},
     "output_type": "execute_result"
    }
   ],
   "source": [
    "df_full[\"TotalSpend\"].isna().sum()"
   ]
  },
  {
   "cell_type": "code",
   "execution_count": 235,
   "id": "56ed1944",
   "metadata": {},
   "outputs": [
    {
     "data": {
      "image/png": "[encoded data removed]",
      "text/plain": [
       "<Figure size 600x400 with 1 Axes>"
      ]
     },
     "metadata": {},
     "output_type": "display_data"
    }
   ],
   "source": [
    "plt.figure(figsize=(6, 4))  \n",
    "sns.boxplot(y = df_full[\"TotalSpend\"], showfliers=True)\n",
    "\n",
    "plt.ylabel(\"Total Spend\")  \n",
    "\n",
    "plt.show()"
   ]
  },
  {
   "cell_type": "code",
   "execution_count": 236,
   "id": "9d4810be",
   "metadata": {},
   "outputs": [
    {
     "name": "stdout",
     "output_type": "stream",
     "text": [
      "Number of obs that have 0 spend 4540\n"
     ]
    }
   ],
   "source": [
    "zeros_TotalSpend = df_full[df_full[\"TotalSpend\"] == 0.0]\n",
    "print(\"Number of obs that have 0 spend\", len(zeros_TotalSpend))"
   ]
  },
  {
   "cell_type": "code",
   "execution_count": 237,
   "id": "78b4bf2f",
   "metadata": {},
   "outputs": [
    {
     "data": {
      "image/png": "[encoded data removed]",
      "text/plain": [
       "<Figure size 600x400 with 1 Axes>"
      ]
     },
     "metadata": {},
     "output_type": "display_data"
    }
   ],
   "source": [
    "not_zeros = df_full[df_full[\"TotalSpend\"] > 0]\n",
    "plt.figure(figsize=(6, 4))  \n",
    "sns.boxplot(y = not_zeros[\"TotalSpend\"], showfliers=True)\n",
    "\n",
    "plt.ylabel(\"Total Spend expet zeros\")  \n",
    "\n",
    "plt.show()"
   ]
  },
  {
   "cell_type": "markdown",
   "id": "d4dad7c1",
   "metadata": {},
   "source": [
    "##### I have decided to create new column Rich as to describe outliers in this data and rest of the column just drop."
   ]
  },
  {
   "cell_type": "code",
   "execution_count": 238,
   "id": "d1796cc7",
   "metadata": {},
   "outputs": [],
   "source": [
    "# df_full[\"Spend\"] = df_full[\"TotalSpend\"].apply(lambda x: False if x == 0.0 else True)\n",
    "# df_full.head()"
   ]
  },
  {
   "cell_type": "code",
   "execution_count": 239,
   "id": "dd028ceb",
   "metadata": {},
   "outputs": [],
   "source": [
    "# df_full[\"Spend\"] = df_full[\"Spend\"].astype(int)\n",
    "# df_full[\"Spend\"].value_counts()"
   ]
  },
  {
   "cell_type": "code",
   "execution_count": 240,
   "id": "10e7eedb",
   "metadata": {},
   "outputs": [
    {
     "name": "stdout",
     "output_type": "stream",
     "text": [
      "Upper limit 3668.75\n",
      "Lower limit -2201.25\n",
      "Number of outliers in the TotalSpend section 1153\n"
     ]
    }
   ],
   "source": [
    "percentile25 = df_full[\"TotalSpend\"].quantile(0.25)\n",
    "percentile75 = df_full[\"TotalSpend\"].quantile(0.75)\n",
    "\n",
    "iqr = percentile75 - percentile25\n",
    "\n",
    "upper_limit = percentile75 + 1.5 * iqr\n",
    "lower_limit = percentile25 - 1.5 * iqr\n",
    "print(\"Upper limit\", upper_limit)\n",
    "print(\"Lower limit\", lower_limit)\n",
    "\n",
    "outlier_total_spend = df_full[(df_full[\"TotalSpend\"] > upper_limit) | (df_full[\"TotalSpend\"] < lower_limit)]\n",
    "\n",
    "print(\"Number of outliers in the TotalSpend section\", len(outlier_total_spend))"
   ]
  },
  {
   "cell_type": "markdown",
   "id": "59fabd5c",
   "metadata": {},
   "source": [
    "We will identify Rich people as someone who spend more 3668 over the trip on accomodation."
   ]
  },
  {
   "cell_type": "code",
   "execution_count": 241,
   "id": "65f03eb3",
   "metadata": {},
   "outputs": [
    {
     "data": {
      "text/html": [
       "<div>\n",
       "<style scoped>\n",
       "    .dataframe tbody tr th:only-of-type {\n",
       "        vertical-align: middle;\n",
       "    }\n",
       "\n",
       "    .dataframe tbody tr th {\n",
       "        vertical-align: top;\n",
       "    }\n",
       "\n",
       "    .dataframe thead th {\n",
       "        text-align: right;\n",
       "    }\n",
       "</style>\n",
       "<table border=\"1\" class=\"dataframe\">\n",
       "  <thead>\n",
       "    <tr style=\"text-align: right;\">\n",
       "      <th></th>\n",
       "      <th>PassengerId</th>\n",
       "      <th>HomePlanet</th>\n",
       "      <th>CryoSleep</th>\n",
       "      <th>Destination</th>\n",
       "      <th>Age</th>\n",
       "      <th>VIP</th>\n",
       "      <th>RoomService</th>\n",
       "      <th>FoodCourt</th>\n",
       "      <th>ShoppingMall</th>\n",
       "      <th>Spa</th>\n",
       "      <th>VRDeck</th>\n",
       "      <th>Name</th>\n",
       "      <th>Transported</th>\n",
       "      <th>Deck</th>\n",
       "      <th>Side</th>\n",
       "      <th>AgeBucket</th>\n",
       "      <th>TotalSpend</th>\n",
       "      <th>Rich</th>\n",
       "    </tr>\n",
       "  </thead>\n",
       "  <tbody>\n",
       "    <tr>\n",
       "      <th>0</th>\n",
       "      <td>0001_01</td>\n",
       "      <td>Europa</td>\n",
       "      <td>0</td>\n",
       "      <td>TRAPPIST</td>\n",
       "      <td>39.0</td>\n",
       "      <td>0</td>\n",
       "      <td>0.0</td>\n",
       "      <td>0.0</td>\n",
       "      <td>0.0</td>\n",
       "      <td>0.0</td>\n",
       "      <td>0.0</td>\n",
       "      <td>Maham Ofracculy</td>\n",
       "      <td>False</td>\n",
       "      <td>B</td>\n",
       "      <td>P</td>\n",
       "      <td>30.0</td>\n",
       "      <td>0.0</td>\n",
       "      <td>0</td>\n",
       "    </tr>\n",
       "    <tr>\n",
       "      <th>1</th>\n",
       "      <td>0002_01</td>\n",
       "      <td>Earth</td>\n",
       "      <td>0</td>\n",
       "      <td>TRAPPIST</td>\n",
       "      <td>24.0</td>\n",
       "      <td>0</td>\n",
       "      <td>109.0</td>\n",
       "      <td>9.0</td>\n",
       "      <td>25.0</td>\n",
       "      <td>549.0</td>\n",
       "      <td>44.0</td>\n",
       "      <td>Juanna Vines</td>\n",
       "      <td>True</td>\n",
       "      <td>F</td>\n",
       "      <td>S</td>\n",
       "      <td>15.0</td>\n",
       "      <td>736.0</td>\n",
       "      <td>0</td>\n",
       "    </tr>\n",
       "    <tr>\n",
       "      <th>2</th>\n",
       "      <td>0003_01</td>\n",
       "      <td>Europa</td>\n",
       "      <td>0</td>\n",
       "      <td>TRAPPIST</td>\n",
       "      <td>58.0</td>\n",
       "      <td>1</td>\n",
       "      <td>43.0</td>\n",
       "      <td>3576.0</td>\n",
       "      <td>0.0</td>\n",
       "      <td>6715.0</td>\n",
       "      <td>49.0</td>\n",
       "      <td>Altark Susent</td>\n",
       "      <td>False</td>\n",
       "      <td>A</td>\n",
       "      <td>S</td>\n",
       "      <td>45.0</td>\n",
       "      <td>10383.0</td>\n",
       "      <td>1</td>\n",
       "    </tr>\n",
       "    <tr>\n",
       "      <th>3</th>\n",
       "      <td>0003_02</td>\n",
       "      <td>Europa</td>\n",
       "      <td>0</td>\n",
       "      <td>TRAPPIST</td>\n",
       "      <td>33.0</td>\n",
       "      <td>0</td>\n",
       "      <td>0.0</td>\n",
       "      <td>1283.0</td>\n",
       "      <td>371.0</td>\n",
       "      <td>3329.0</td>\n",
       "      <td>193.0</td>\n",
       "      <td>Solam Susent</td>\n",
       "      <td>False</td>\n",
       "      <td>A</td>\n",
       "      <td>S</td>\n",
       "      <td>30.0</td>\n",
       "      <td>5176.0</td>\n",
       "      <td>1</td>\n",
       "    </tr>\n",
       "    <tr>\n",
       "      <th>4</th>\n",
       "      <td>0004_01</td>\n",
       "      <td>Earth</td>\n",
       "      <td>0</td>\n",
       "      <td>TRAPPIST</td>\n",
       "      <td>16.0</td>\n",
       "      <td>0</td>\n",
       "      <td>303.0</td>\n",
       "      <td>70.0</td>\n",
       "      <td>151.0</td>\n",
       "      <td>565.0</td>\n",
       "      <td>2.0</td>\n",
       "      <td>Willy Santantines</td>\n",
       "      <td>True</td>\n",
       "      <td>F</td>\n",
       "      <td>S</td>\n",
       "      <td>15.0</td>\n",
       "      <td>1091.0</td>\n",
       "      <td>0</td>\n",
       "    </tr>\n",
       "  </tbody>\n",
       "</table>\n",
       "</div>"
      ],
      "text/plain": [
       "  PassengerId HomePlanet  CryoSleep Destination   Age  VIP  RoomService  \\\n",
       "0     0001_01     Europa          0    TRAPPIST  39.0    0          0.0   \n",
       "1     0002_01      Earth          0    TRAPPIST  24.0    0        109.0   \n",
       "2     0003_01     Europa          0    TRAPPIST  58.0    1         43.0   \n",
       "3     0003_02     Europa          0    TRAPPIST  33.0    0          0.0   \n",
       "4     0004_01      Earth          0    TRAPPIST  16.0    0        303.0   \n",
       "\n",
       "   FoodCourt  ShoppingMall     Spa  VRDeck               Name Transported  \\\n",
       "0        0.0           0.0     0.0     0.0    Maham Ofracculy       False   \n",
       "1        9.0          25.0   549.0    44.0       Juanna Vines        True   \n",
       "2     3576.0           0.0  6715.0    49.0      Altark Susent       False   \n",
       "3     1283.0         371.0  3329.0   193.0       Solam Susent       False   \n",
       "4       70.0         151.0   565.0     2.0  Willy Santantines        True   \n",
       "\n",
       "  Deck Side  AgeBucket  TotalSpend  Rich  \n",
       "0    B    P       30.0         0.0     0  \n",
       "1    F    S       15.0       736.0     0  \n",
       "2    A    S       45.0     10383.0     1  \n",
       "3    A    S       30.0      5176.0     1  \n",
       "4    F    S       15.0      1091.0     0  "
      ]
     },
     "execution_count": 241,
     "metadata": {},
     "output_type": "execute_result"
    }
   ],
   "source": [
    "df_full[\"Rich\"] = df_full[\"TotalSpend\"].apply(lambda x: True if x >= 3668 else False)\n",
    "df_full[\"Rich\"] = df_full[\"Rich\"].astype(int)\n",
    "df_full.head()"
   ]
  },
  {
   "cell_type": "markdown",
   "id": "0760895e",
   "metadata": {},
   "source": [
    "Now we can drop columns room service, food court, shopping mall, spa, vr deck and total spend"
   ]
  },
  {
   "cell_type": "code",
   "execution_count": 242,
   "id": "d9be0271",
   "metadata": {},
   "outputs": [
    {
     "data": {
      "text/html": [
       "<div>\n",
       "<style scoped>\n",
       "    .dataframe tbody tr th:only-of-type {\n",
       "        vertical-align: middle;\n",
       "    }\n",
       "\n",
       "    .dataframe tbody tr th {\n",
       "        vertical-align: top;\n",
       "    }\n",
       "\n",
       "    .dataframe thead th {\n",
       "        text-align: right;\n",
       "    }\n",
       "</style>\n",
       "<table border=\"1\" class=\"dataframe\">\n",
       "  <thead>\n",
       "    <tr style=\"text-align: right;\">\n",
       "      <th></th>\n",
       "      <th>PassengerId</th>\n",
       "      <th>HomePlanet</th>\n",
       "      <th>CryoSleep</th>\n",
       "      <th>Destination</th>\n",
       "      <th>Age</th>\n",
       "      <th>VIP</th>\n",
       "      <th>RoomService</th>\n",
       "      <th>FoodCourt</th>\n",
       "      <th>ShoppingMall</th>\n",
       "      <th>Spa</th>\n",
       "      <th>VRDeck</th>\n",
       "      <th>Name</th>\n",
       "      <th>Transported</th>\n",
       "      <th>Deck</th>\n",
       "      <th>Side</th>\n",
       "      <th>AgeBucket</th>\n",
       "      <th>Rich</th>\n",
       "    </tr>\n",
       "  </thead>\n",
       "  <tbody>\n",
       "    <tr>\n",
       "      <th>0</th>\n",
       "      <td>0001_01</td>\n",
       "      <td>Europa</td>\n",
       "      <td>0</td>\n",
       "      <td>TRAPPIST</td>\n",
       "      <td>39.0</td>\n",
       "      <td>0</td>\n",
       "      <td>0.0</td>\n",
       "      <td>0.0</td>\n",
       "      <td>0.0</td>\n",
       "      <td>0.0</td>\n",
       "      <td>0.0</td>\n",
       "      <td>Maham Ofracculy</td>\n",
       "      <td>False</td>\n",
       "      <td>B</td>\n",
       "      <td>P</td>\n",
       "      <td>30.0</td>\n",
       "      <td>0</td>\n",
       "    </tr>\n",
       "    <tr>\n",
       "      <th>1</th>\n",
       "      <td>0002_01</td>\n",
       "      <td>Earth</td>\n",
       "      <td>0</td>\n",
       "      <td>TRAPPIST</td>\n",
       "      <td>24.0</td>\n",
       "      <td>0</td>\n",
       "      <td>109.0</td>\n",
       "      <td>9.0</td>\n",
       "      <td>25.0</td>\n",
       "      <td>549.0</td>\n",
       "      <td>44.0</td>\n",
       "      <td>Juanna Vines</td>\n",
       "      <td>True</td>\n",
       "      <td>F</td>\n",
       "      <td>S</td>\n",
       "      <td>15.0</td>\n",
       "      <td>0</td>\n",
       "    </tr>\n",
       "    <tr>\n",
       "      <th>2</th>\n",
       "      <td>0003_01</td>\n",
       "      <td>Europa</td>\n",
       "      <td>0</td>\n",
       "      <td>TRAPPIST</td>\n",
       "      <td>58.0</td>\n",
       "      <td>1</td>\n",
       "      <td>43.0</td>\n",
       "      <td>3576.0</td>\n",
       "      <td>0.0</td>\n",
       "      <td>6715.0</td>\n",
       "      <td>49.0</td>\n",
       "      <td>Altark Susent</td>\n",
       "      <td>False</td>\n",
       "      <td>A</td>\n",
       "      <td>S</td>\n",
       "      <td>45.0</td>\n",
       "      <td>1</td>\n",
       "    </tr>\n",
       "    <tr>\n",
       "      <th>3</th>\n",
       "      <td>0003_02</td>\n",
       "      <td>Europa</td>\n",
       "      <td>0</td>\n",
       "      <td>TRAPPIST</td>\n",
       "      <td>33.0</td>\n",
       "      <td>0</td>\n",
       "      <td>0.0</td>\n",
       "      <td>1283.0</td>\n",
       "      <td>371.0</td>\n",
       "      <td>3329.0</td>\n",
       "      <td>193.0</td>\n",
       "      <td>Solam Susent</td>\n",
       "      <td>False</td>\n",
       "      <td>A</td>\n",
       "      <td>S</td>\n",
       "      <td>30.0</td>\n",
       "      <td>1</td>\n",
       "    </tr>\n",
       "    <tr>\n",
       "      <th>4</th>\n",
       "      <td>0004_01</td>\n",
       "      <td>Earth</td>\n",
       "      <td>0</td>\n",
       "      <td>TRAPPIST</td>\n",
       "      <td>16.0</td>\n",
       "      <td>0</td>\n",
       "      <td>303.0</td>\n",
       "      <td>70.0</td>\n",
       "      <td>151.0</td>\n",
       "      <td>565.0</td>\n",
       "      <td>2.0</td>\n",
       "      <td>Willy Santantines</td>\n",
       "      <td>True</td>\n",
       "      <td>F</td>\n",
       "      <td>S</td>\n",
       "      <td>15.0</td>\n",
       "      <td>0</td>\n",
       "    </tr>\n",
       "  </tbody>\n",
       "</table>\n",
       "</div>"
      ],
      "text/plain": [
       "  PassengerId HomePlanet  CryoSleep Destination   Age  VIP  RoomService  \\\n",
       "0     0001_01     Europa          0    TRAPPIST  39.0    0          0.0   \n",
       "1     0002_01      Earth          0    TRAPPIST  24.0    0        109.0   \n",
       "2     0003_01     Europa          0    TRAPPIST  58.0    1         43.0   \n",
       "3     0003_02     Europa          0    TRAPPIST  33.0    0          0.0   \n",
       "4     0004_01      Earth          0    TRAPPIST  16.0    0        303.0   \n",
       "\n",
       "   FoodCourt  ShoppingMall     Spa  VRDeck               Name Transported  \\\n",
       "0        0.0           0.0     0.0     0.0    Maham Ofracculy       False   \n",
       "1        9.0          25.0   549.0    44.0       Juanna Vines        True   \n",
       "2     3576.0           0.0  6715.0    49.0      Altark Susent       False   \n",
       "3     1283.0         371.0  3329.0   193.0       Solam Susent       False   \n",
       "4       70.0         151.0   565.0     2.0  Willy Santantines        True   \n",
       "\n",
       "  Deck Side  AgeBucket  Rich  \n",
       "0    B    P       30.0     0  \n",
       "1    F    S       15.0     0  \n",
       "2    A    S       45.0     1  \n",
       "3    A    S       30.0     1  \n",
       "4    F    S       15.0     0  "
      ]
     },
     "execution_count": 242,
     "metadata": {},
     "output_type": "execute_result"
    }
   ],
   "source": [
    "df_full = df_full.drop(columns=[\"TotalSpend\"], axis=1)\n",
    "df_full.head()"
   ]
  },
  {
   "cell_type": "markdown",
   "id": "b4b620f2",
   "metadata": {},
   "source": [
    "#### Usualy name does not provide much of useful information, so we drop this column together with passenger id"
   ]
  },
  {
   "cell_type": "code",
   "execution_count": 243,
   "id": "5b3925e7",
   "metadata": {},
   "outputs": [
    {
     "data": {
      "text/html": [
       "<div>\n",
       "<style scoped>\n",
       "    .dataframe tbody tr th:only-of-type {\n",
       "        vertical-align: middle;\n",
       "    }\n",
       "\n",
       "    .dataframe tbody tr th {\n",
       "        vertical-align: top;\n",
       "    }\n",
       "\n",
       "    .dataframe thead th {\n",
       "        text-align: right;\n",
       "    }\n",
       "</style>\n",
       "<table border=\"1\" class=\"dataframe\">\n",
       "  <thead>\n",
       "    <tr style=\"text-align: right;\">\n",
       "      <th></th>\n",
       "      <th>HomePlanet</th>\n",
       "      <th>CryoSleep</th>\n",
       "      <th>Destination</th>\n",
       "      <th>VIP</th>\n",
       "      <th>RoomService</th>\n",
       "      <th>FoodCourt</th>\n",
       "      <th>ShoppingMall</th>\n",
       "      <th>Spa</th>\n",
       "      <th>VRDeck</th>\n",
       "      <th>Transported</th>\n",
       "      <th>Deck</th>\n",
       "      <th>Side</th>\n",
       "      <th>AgeBucket</th>\n",
       "      <th>Rich</th>\n",
       "    </tr>\n",
       "  </thead>\n",
       "  <tbody>\n",
       "    <tr>\n",
       "      <th>0</th>\n",
       "      <td>Europa</td>\n",
       "      <td>0</td>\n",
       "      <td>TRAPPIST</td>\n",
       "      <td>0</td>\n",
       "      <td>0.0</td>\n",
       "      <td>0.0</td>\n",
       "      <td>0.0</td>\n",
       "      <td>0.0</td>\n",
       "      <td>0.0</td>\n",
       "      <td>False</td>\n",
       "      <td>B</td>\n",
       "      <td>P</td>\n",
       "      <td>30.0</td>\n",
       "      <td>0</td>\n",
       "    </tr>\n",
       "    <tr>\n",
       "      <th>1</th>\n",
       "      <td>Earth</td>\n",
       "      <td>0</td>\n",
       "      <td>TRAPPIST</td>\n",
       "      <td>0</td>\n",
       "      <td>109.0</td>\n",
       "      <td>9.0</td>\n",
       "      <td>25.0</td>\n",
       "      <td>549.0</td>\n",
       "      <td>44.0</td>\n",
       "      <td>True</td>\n",
       "      <td>F</td>\n",
       "      <td>S</td>\n",
       "      <td>15.0</td>\n",
       "      <td>0</td>\n",
       "    </tr>\n",
       "    <tr>\n",
       "      <th>2</th>\n",
       "      <td>Europa</td>\n",
       "      <td>0</td>\n",
       "      <td>TRAPPIST</td>\n",
       "      <td>1</td>\n",
       "      <td>43.0</td>\n",
       "      <td>3576.0</td>\n",
       "      <td>0.0</td>\n",
       "      <td>6715.0</td>\n",
       "      <td>49.0</td>\n",
       "      <td>False</td>\n",
       "      <td>A</td>\n",
       "      <td>S</td>\n",
       "      <td>45.0</td>\n",
       "      <td>1</td>\n",
       "    </tr>\n",
       "    <tr>\n",
       "      <th>3</th>\n",
       "      <td>Europa</td>\n",
       "      <td>0</td>\n",
       "      <td>TRAPPIST</td>\n",
       "      <td>0</td>\n",
       "      <td>0.0</td>\n",
       "      <td>1283.0</td>\n",
       "      <td>371.0</td>\n",
       "      <td>3329.0</td>\n",
       "      <td>193.0</td>\n",
       "      <td>False</td>\n",
       "      <td>A</td>\n",
       "      <td>S</td>\n",
       "      <td>30.0</td>\n",
       "      <td>1</td>\n",
       "    </tr>\n",
       "    <tr>\n",
       "      <th>4</th>\n",
       "      <td>Earth</td>\n",
       "      <td>0</td>\n",
       "      <td>TRAPPIST</td>\n",
       "      <td>0</td>\n",
       "      <td>303.0</td>\n",
       "      <td>70.0</td>\n",
       "      <td>151.0</td>\n",
       "      <td>565.0</td>\n",
       "      <td>2.0</td>\n",
       "      <td>True</td>\n",
       "      <td>F</td>\n",
       "      <td>S</td>\n",
       "      <td>15.0</td>\n",
       "      <td>0</td>\n",
       "    </tr>\n",
       "  </tbody>\n",
       "</table>\n",
       "</div>"
      ],
      "text/plain": [
       "  HomePlanet  CryoSleep Destination  VIP  RoomService  FoodCourt  \\\n",
       "0     Europa          0    TRAPPIST    0          0.0        0.0   \n",
       "1      Earth          0    TRAPPIST    0        109.0        9.0   \n",
       "2     Europa          0    TRAPPIST    1         43.0     3576.0   \n",
       "3     Europa          0    TRAPPIST    0          0.0     1283.0   \n",
       "4      Earth          0    TRAPPIST    0        303.0       70.0   \n",
       "\n",
       "   ShoppingMall     Spa  VRDeck Transported Deck Side  AgeBucket  Rich  \n",
       "0           0.0     0.0     0.0       False    B    P       30.0     0  \n",
       "1          25.0   549.0    44.0        True    F    S       15.0     0  \n",
       "2           0.0  6715.0    49.0       False    A    S       45.0     1  \n",
       "3         371.0  3329.0   193.0       False    A    S       30.0     1  \n",
       "4         151.0   565.0     2.0        True    F    S       15.0     0  "
      ]
     },
     "execution_count": 243,
     "metadata": {},
     "output_type": "execute_result"
    }
   ],
   "source": [
    "df_full = df_full.drop(columns=[\"PassengerId\", \"Name\", \"Age\"], axis=1)\n",
    "df_full.head()"
   ]
  },
  {
   "cell_type": "code",
   "execution_count": 244,
   "id": "c4d5cede",
   "metadata": {},
   "outputs": [
    {
     "data": {
      "image/png": "[encoded data removed]",
      "text/plain": [
       "<Figure size 1000x600 with 2 Axes>"
      ]
     },
     "metadata": {},
     "output_type": "display_data"
    }
   ],
   "source": [
    "plt.figure(figsize=(10, 6))\n",
    "heatmap = sns.heatmap(df_full.corr(), vmin=-1, vmax=1, annot=True, cmap=sns.color_palette(\"vlag\", as_cmap=True))\n",
    "heatmap.set_title('Correlation Heatmap', fontdict={'fontsize':14}, pad=12);"
   ]
  },
  {
   "cell_type": "markdown",
   "id": "7aebaf32",
   "metadata": {},
   "source": [
    "#### Now we do not have strong correlation between variables which we expect would help with the model"
   ]
  },
  {
   "cell_type": "markdown",
   "id": "6e9c8304",
   "metadata": {},
   "source": [
    "### Only categorical data left, so we apply dummy encoding to columns Home planet, Destination, Deck and Side"
   ]
  },
  {
   "cell_type": "code",
   "execution_count": 245,
   "id": "75e083f0",
   "metadata": {},
   "outputs": [
    {
     "data": {
      "text/html": [
       "<div>\n",
       "<style scoped>\n",
       "    .dataframe tbody tr th:only-of-type {\n",
       "        vertical-align: middle;\n",
       "    }\n",
       "\n",
       "    .dataframe tbody tr th {\n",
       "        vertical-align: top;\n",
       "    }\n",
       "\n",
       "    .dataframe thead th {\n",
       "        text-align: right;\n",
       "    }\n",
       "</style>\n",
       "<table border=\"1\" class=\"dataframe\">\n",
       "  <thead>\n",
       "    <tr style=\"text-align: right;\">\n",
       "      <th></th>\n",
       "      <th>CryoSleep</th>\n",
       "      <th>VIP</th>\n",
       "      <th>RoomService</th>\n",
       "      <th>FoodCourt</th>\n",
       "      <th>ShoppingMall</th>\n",
       "      <th>Spa</th>\n",
       "      <th>VRDeck</th>\n",
       "      <th>Transported</th>\n",
       "      <th>Rich</th>\n",
       "      <th>HomePlanet_Earth</th>\n",
       "      <th>...</th>\n",
       "      <th>Deck_G</th>\n",
       "      <th>Deck_T</th>\n",
       "      <th>Side_P</th>\n",
       "      <th>Side_S</th>\n",
       "      <th>AgeBucket_0.0</th>\n",
       "      <th>AgeBucket_15.0</th>\n",
       "      <th>AgeBucket_30.0</th>\n",
       "      <th>AgeBucket_45.0</th>\n",
       "      <th>AgeBucket_60.0</th>\n",
       "      <th>AgeBucket_75.0</th>\n",
       "    </tr>\n",
       "  </thead>\n",
       "  <tbody>\n",
       "    <tr>\n",
       "      <th>0</th>\n",
       "      <td>0</td>\n",
       "      <td>0</td>\n",
       "      <td>0.0</td>\n",
       "      <td>0.0</td>\n",
       "      <td>0.0</td>\n",
       "      <td>0.0</td>\n",
       "      <td>0.0</td>\n",
       "      <td>False</td>\n",
       "      <td>0</td>\n",
       "      <td>0</td>\n",
       "      <td>...</td>\n",
       "      <td>0</td>\n",
       "      <td>0</td>\n",
       "      <td>1</td>\n",
       "      <td>0</td>\n",
       "      <td>0</td>\n",
       "      <td>0</td>\n",
       "      <td>1</td>\n",
       "      <td>0</td>\n",
       "      <td>0</td>\n",
       "      <td>0</td>\n",
       "    </tr>\n",
       "    <tr>\n",
       "      <th>1</th>\n",
       "      <td>0</td>\n",
       "      <td>0</td>\n",
       "      <td>109.0</td>\n",
       "      <td>9.0</td>\n",
       "      <td>25.0</td>\n",
       "      <td>549.0</td>\n",
       "      <td>44.0</td>\n",
       "      <td>True</td>\n",
       "      <td>0</td>\n",
       "      <td>1</td>\n",
       "      <td>...</td>\n",
       "      <td>0</td>\n",
       "      <td>0</td>\n",
       "      <td>0</td>\n",
       "      <td>1</td>\n",
       "      <td>0</td>\n",
       "      <td>1</td>\n",
       "      <td>0</td>\n",
       "      <td>0</td>\n",
       "      <td>0</td>\n",
       "      <td>0</td>\n",
       "    </tr>\n",
       "    <tr>\n",
       "      <th>2</th>\n",
       "      <td>0</td>\n",
       "      <td>1</td>\n",
       "      <td>43.0</td>\n",
       "      <td>3576.0</td>\n",
       "      <td>0.0</td>\n",
       "      <td>6715.0</td>\n",
       "      <td>49.0</td>\n",
       "      <td>False</td>\n",
       "      <td>1</td>\n",
       "      <td>0</td>\n",
       "      <td>...</td>\n",
       "      <td>0</td>\n",
       "      <td>0</td>\n",
       "      <td>0</td>\n",
       "      <td>1</td>\n",
       "      <td>0</td>\n",
       "      <td>0</td>\n",
       "      <td>0</td>\n",
       "      <td>1</td>\n",
       "      <td>0</td>\n",
       "      <td>0</td>\n",
       "    </tr>\n",
       "    <tr>\n",
       "      <th>3</th>\n",
       "      <td>0</td>\n",
       "      <td>0</td>\n",
       "      <td>0.0</td>\n",
       "      <td>1283.0</td>\n",
       "      <td>371.0</td>\n",
       "      <td>3329.0</td>\n",
       "      <td>193.0</td>\n",
       "      <td>False</td>\n",
       "      <td>1</td>\n",
       "      <td>0</td>\n",
       "      <td>...</td>\n",
       "      <td>0</td>\n",
       "      <td>0</td>\n",
       "      <td>0</td>\n",
       "      <td>1</td>\n",
       "      <td>0</td>\n",
       "      <td>0</td>\n",
       "      <td>1</td>\n",
       "      <td>0</td>\n",
       "      <td>0</td>\n",
       "      <td>0</td>\n",
       "    </tr>\n",
       "    <tr>\n",
       "      <th>4</th>\n",
       "      <td>0</td>\n",
       "      <td>0</td>\n",
       "      <td>303.0</td>\n",
       "      <td>70.0</td>\n",
       "      <td>151.0</td>\n",
       "      <td>565.0</td>\n",
       "      <td>2.0</td>\n",
       "      <td>True</td>\n",
       "      <td>0</td>\n",
       "      <td>1</td>\n",
       "      <td>...</td>\n",
       "      <td>0</td>\n",
       "      <td>0</td>\n",
       "      <td>0</td>\n",
       "      <td>1</td>\n",
       "      <td>0</td>\n",
       "      <td>1</td>\n",
       "      <td>0</td>\n",
       "      <td>0</td>\n",
       "      <td>0</td>\n",
       "      <td>0</td>\n",
       "    </tr>\n",
       "  </tbody>\n",
       "</table>\n",
       "<p>5 rows × 31 columns</p>\n",
       "</div>"
      ],
      "text/plain": [
       "   CryoSleep  VIP  RoomService  FoodCourt  ShoppingMall     Spa  VRDeck  \\\n",
       "0          0    0          0.0        0.0           0.0     0.0     0.0   \n",
       "1          0    0        109.0        9.0          25.0   549.0    44.0   \n",
       "2          0    1         43.0     3576.0           0.0  6715.0    49.0   \n",
       "3          0    0          0.0     1283.0         371.0  3329.0   193.0   \n",
       "4          0    0        303.0       70.0         151.0   565.0     2.0   \n",
       "\n",
       "  Transported  Rich  HomePlanet_Earth  ...  Deck_G  Deck_T  Side_P  Side_S  \\\n",
       "0       False     0                 0  ...       0       0       1       0   \n",
       "1        True     0                 1  ...       0       0       0       1   \n",
       "2       False     1                 0  ...       0       0       0       1   \n",
       "3       False     1                 0  ...       0       0       0       1   \n",
       "4        True     0                 1  ...       0       0       0       1   \n",
       "\n",
       "   AgeBucket_0.0  AgeBucket_15.0  AgeBucket_30.0  AgeBucket_45.0  \\\n",
       "0              0               0               1               0   \n",
       "1              0               1               0               0   \n",
       "2              0               0               0               1   \n",
       "3              0               0               1               0   \n",
       "4              0               1               0               0   \n",
       "\n",
       "   AgeBucket_60.0  AgeBucket_75.0  \n",
       "0               0               0  \n",
       "1               0               0  \n",
       "2               0               0  \n",
       "3               0               0  \n",
       "4               0               0  \n",
       "\n",
       "[5 rows x 31 columns]"
      ]
     },
     "execution_count": 245,
     "metadata": {},
     "output_type": "execute_result"
    }
   ],
   "source": [
    "df_full_enc = pd.get_dummies(df_full, columns=[\"HomePlanet\", \"Destination\", \"Deck\", \"Side\", \"AgeBucket\"], drop_first=False)\n",
    "df_full_enc.head()"
   ]
  },
  {
   "cell_type": "code",
   "execution_count": 246,
   "id": "35aa2890",
   "metadata": {},
   "outputs": [
    {
     "name": "stdout",
     "output_type": "stream",
     "text": [
      "<class 'pandas.core.frame.DataFrame'>\n",
      "Int64Index: 10883 entries, 0 to 4276\n",
      "Data columns (total 31 columns):\n",
      " #   Column                Non-Null Count  Dtype  \n",
      "---  ------                --------------  -----  \n",
      " 0   CryoSleep             10883 non-null  int64  \n",
      " 1   VIP                   10883 non-null  int64  \n",
      " 2   RoomService           10883 non-null  float64\n",
      " 3   FoodCourt             10883 non-null  float64\n",
      " 4   ShoppingMall          10883 non-null  float64\n",
      " 5   Spa                   10883 non-null  float64\n",
      " 6   VRDeck                10883 non-null  float64\n",
      " 7   Transported           6606 non-null   object \n",
      " 8   Rich                  10883 non-null  int64  \n",
      " 9   HomePlanet_Earth      10883 non-null  uint8  \n",
      " 10  HomePlanet_Europa     10883 non-null  uint8  \n",
      " 11  HomePlanet_Mars       10883 non-null  uint8  \n",
      " 12  Destination_Cancri    10883 non-null  uint8  \n",
      " 13  Destination_PSO       10883 non-null  uint8  \n",
      " 14  Destination_TRAPPIST  10883 non-null  uint8  \n",
      " 15  Deck_A                10883 non-null  uint8  \n",
      " 16  Deck_B                10883 non-null  uint8  \n",
      " 17  Deck_C                10883 non-null  uint8  \n",
      " 18  Deck_D                10883 non-null  uint8  \n",
      " 19  Deck_E                10883 non-null  uint8  \n",
      " 20  Deck_F                10883 non-null  uint8  \n",
      " 21  Deck_G                10883 non-null  uint8  \n",
      " 22  Deck_T                10883 non-null  uint8  \n",
      " 23  Side_P                10883 non-null  uint8  \n",
      " 24  Side_S                10883 non-null  uint8  \n",
      " 25  AgeBucket_0.0         10883 non-null  uint8  \n",
      " 26  AgeBucket_15.0        10883 non-null  uint8  \n",
      " 27  AgeBucket_30.0        10883 non-null  uint8  \n",
      " 28  AgeBucket_45.0        10883 non-null  uint8  \n",
      " 29  AgeBucket_60.0        10883 non-null  uint8  \n",
      " 30  AgeBucket_75.0        10883 non-null  uint8  \n",
      "dtypes: float64(5), int64(3), object(1), uint8(22)\n",
      "memory usage: 1.1+ MB\n"
     ]
    }
   ],
   "source": [
    "df_full_enc.info()"
   ]
  },
  {
   "cell_type": "markdown",
   "id": "0599ec2b",
   "metadata": {},
   "source": [
    "Six columns has consecutive values with outstanding outliers which we can eliminate by scaling. Now we apply Standart Scaler to reduce bias in the data"
   ]
  },
  {
   "cell_type": "code",
   "execution_count": 247,
   "id": "640127eb",
   "metadata": {},
   "outputs": [
    {
     "data": {
      "text/html": [
       "<div>\n",
       "<style scoped>\n",
       "    .dataframe tbody tr th:only-of-type {\n",
       "        vertical-align: middle;\n",
       "    }\n",
       "\n",
       "    .dataframe tbody tr th {\n",
       "        vertical-align: top;\n",
       "    }\n",
       "\n",
       "    .dataframe thead th {\n",
       "        text-align: right;\n",
       "    }\n",
       "</style>\n",
       "<table border=\"1\" class=\"dataframe\">\n",
       "  <thead>\n",
       "    <tr style=\"text-align: right;\">\n",
       "      <th></th>\n",
       "      <th>CryoSleep</th>\n",
       "      <th>VIP</th>\n",
       "      <th>RoomService</th>\n",
       "      <th>FoodCourt</th>\n",
       "      <th>ShoppingMall</th>\n",
       "      <th>Spa</th>\n",
       "      <th>VRDeck</th>\n",
       "      <th>Transported</th>\n",
       "      <th>Rich</th>\n",
       "      <th>HomePlanet_Earth</th>\n",
       "      <th>...</th>\n",
       "      <th>Deck_G</th>\n",
       "      <th>Deck_T</th>\n",
       "      <th>Side_P</th>\n",
       "      <th>Side_S</th>\n",
       "      <th>AgeBucket_0.0</th>\n",
       "      <th>AgeBucket_15.0</th>\n",
       "      <th>AgeBucket_30.0</th>\n",
       "      <th>AgeBucket_45.0</th>\n",
       "      <th>AgeBucket_60.0</th>\n",
       "      <th>AgeBucket_75.0</th>\n",
       "    </tr>\n",
       "  </thead>\n",
       "  <tbody>\n",
       "    <tr>\n",
       "      <th>0</th>\n",
       "      <td>0</td>\n",
       "      <td>0</td>\n",
       "      <td>-0.349915</td>\n",
       "      <td>-0.284394</td>\n",
       "      <td>-0.310467</td>\n",
       "      <td>-0.271436</td>\n",
       "      <td>-0.259791</td>\n",
       "      <td>False</td>\n",
       "      <td>0</td>\n",
       "      <td>0</td>\n",
       "      <td>...</td>\n",
       "      <td>0</td>\n",
       "      <td>0</td>\n",
       "      <td>1</td>\n",
       "      <td>0</td>\n",
       "      <td>0</td>\n",
       "      <td>0</td>\n",
       "      <td>1</td>\n",
       "      <td>0</td>\n",
       "      <td>0</td>\n",
       "      <td>0</td>\n",
       "    </tr>\n",
       "    <tr>\n",
       "      <th>1</th>\n",
       "      <td>0</td>\n",
       "      <td>0</td>\n",
       "      <td>-0.176450</td>\n",
       "      <td>-0.278820</td>\n",
       "      <td>-0.266452</td>\n",
       "      <td>0.214954</td>\n",
       "      <td>-0.222217</td>\n",
       "      <td>True</td>\n",
       "      <td>0</td>\n",
       "      <td>1</td>\n",
       "      <td>...</td>\n",
       "      <td>0</td>\n",
       "      <td>0</td>\n",
       "      <td>0</td>\n",
       "      <td>1</td>\n",
       "      <td>0</td>\n",
       "      <td>1</td>\n",
       "      <td>0</td>\n",
       "      <td>0</td>\n",
       "      <td>0</td>\n",
       "      <td>0</td>\n",
       "    </tr>\n",
       "    <tr>\n",
       "      <th>2</th>\n",
       "      <td>0</td>\n",
       "      <td>1</td>\n",
       "      <td>-0.281484</td>\n",
       "      <td>1.930483</td>\n",
       "      <td>-0.310467</td>\n",
       "      <td>5.677764</td>\n",
       "      <td>-0.217947</td>\n",
       "      <td>False</td>\n",
       "      <td>1</td>\n",
       "      <td>0</td>\n",
       "      <td>...</td>\n",
       "      <td>0</td>\n",
       "      <td>0</td>\n",
       "      <td>0</td>\n",
       "      <td>1</td>\n",
       "      <td>0</td>\n",
       "      <td>0</td>\n",
       "      <td>0</td>\n",
       "      <td>1</td>\n",
       "      <td>0</td>\n",
       "      <td>0</td>\n",
       "    </tr>\n",
       "    <tr>\n",
       "      <th>3</th>\n",
       "      <td>0</td>\n",
       "      <td>0</td>\n",
       "      <td>-0.349915</td>\n",
       "      <td>0.510261</td>\n",
       "      <td>0.342711</td>\n",
       "      <td>2.677914</td>\n",
       "      <td>-0.094977</td>\n",
       "      <td>False</td>\n",
       "      <td>1</td>\n",
       "      <td>0</td>\n",
       "      <td>...</td>\n",
       "      <td>0</td>\n",
       "      <td>0</td>\n",
       "      <td>0</td>\n",
       "      <td>1</td>\n",
       "      <td>0</td>\n",
       "      <td>0</td>\n",
       "      <td>1</td>\n",
       "      <td>0</td>\n",
       "      <td>0</td>\n",
       "      <td>0</td>\n",
       "    </tr>\n",
       "    <tr>\n",
       "      <th>4</th>\n",
       "      <td>0</td>\n",
       "      <td>0</td>\n",
       "      <td>0.132286</td>\n",
       "      <td>-0.241038</td>\n",
       "      <td>-0.044619</td>\n",
       "      <td>0.229130</td>\n",
       "      <td>-0.258083</td>\n",
       "      <td>True</td>\n",
       "      <td>0</td>\n",
       "      <td>1</td>\n",
       "      <td>...</td>\n",
       "      <td>0</td>\n",
       "      <td>0</td>\n",
       "      <td>0</td>\n",
       "      <td>1</td>\n",
       "      <td>0</td>\n",
       "      <td>1</td>\n",
       "      <td>0</td>\n",
       "      <td>0</td>\n",
       "      <td>0</td>\n",
       "      <td>0</td>\n",
       "    </tr>\n",
       "  </tbody>\n",
       "</table>\n",
       "<p>5 rows × 31 columns</p>\n",
       "</div>"
      ],
      "text/plain": [
       "   CryoSleep  VIP  RoomService  FoodCourt  ShoppingMall       Spa    VRDeck  \\\n",
       "0          0    0    -0.349915  -0.284394     -0.310467 -0.271436 -0.259791   \n",
       "1          0    0    -0.176450  -0.278820     -0.266452  0.214954 -0.222217   \n",
       "2          0    1    -0.281484   1.930483     -0.310467  5.677764 -0.217947   \n",
       "3          0    0    -0.349915   0.510261      0.342711  2.677914 -0.094977   \n",
       "4          0    0     0.132286  -0.241038     -0.044619  0.229130 -0.258083   \n",
       "\n",
       "  Transported  Rich  HomePlanet_Earth  ...  Deck_G  Deck_T  Side_P  Side_S  \\\n",
       "0       False     0                 0  ...       0       0       1       0   \n",
       "1        True     0                 1  ...       0       0       0       1   \n",
       "2       False     1                 0  ...       0       0       0       1   \n",
       "3       False     1                 0  ...       0       0       0       1   \n",
       "4        True     0                 1  ...       0       0       0       1   \n",
       "\n",
       "   AgeBucket_0.0  AgeBucket_15.0  AgeBucket_30.0  AgeBucket_45.0  \\\n",
       "0              0               0               1               0   \n",
       "1              0               1               0               0   \n",
       "2              0               0               0               1   \n",
       "3              0               0               1               0   \n",
       "4              0               1               0               0   \n",
       "\n",
       "   AgeBucket_60.0  AgeBucket_75.0  \n",
       "0               0               0  \n",
       "1               0               0  \n",
       "2               0               0  \n",
       "3               0               0  \n",
       "4               0               0  \n",
       "\n",
       "[5 rows x 31 columns]"
      ]
     },
     "execution_count": 247,
     "metadata": {},
     "output_type": "execute_result"
    }
   ],
   "source": [
    "columns_to_scale = ['RoomService', 'FoodCourt', 'ShoppingMall', 'Spa', 'VRDeck']\n",
    "\n",
    "# Create an instance of StandardScaler\n",
    "scaler = StandardScaler()\n",
    "\n",
    "# Fit the scaler to the selected columns\n",
    "scaler.fit(df_full_enc[columns_to_scale])\n",
    "\n",
    "# Transform the selected columns\n",
    "scaled_columns = scaler.transform(df_full_enc[columns_to_scale])\n",
    "\n",
    "# Create a copy of the original data and replace the scaled columns with the scaled values\n",
    "df_full_enc[columns_to_scale] = scaled_columns\n",
    "df_full_enc.head()"
   ]
  },
  {
   "cell_type": "markdown",
   "id": "5fe602f6",
   "metadata": {},
   "source": [
    "Now it is time to separate the test data from train data. Also transform the column Transported into binary."
   ]
  },
  {
   "cell_type": "code",
   "execution_count": 248,
   "id": "fbc9c88c",
   "metadata": {},
   "outputs": [
    {
     "data": {
      "text/html": [
       "<div>\n",
       "<style scoped>\n",
       "    .dataframe tbody tr th:only-of-type {\n",
       "        vertical-align: middle;\n",
       "    }\n",
       "\n",
       "    .dataframe tbody tr th {\n",
       "        vertical-align: top;\n",
       "    }\n",
       "\n",
       "    .dataframe thead th {\n",
       "        text-align: right;\n",
       "    }\n",
       "</style>\n",
       "<table border=\"1\" class=\"dataframe\">\n",
       "  <thead>\n",
       "    <tr style=\"text-align: right;\">\n",
       "      <th></th>\n",
       "      <th>CryoSleep</th>\n",
       "      <th>VIP</th>\n",
       "      <th>RoomService</th>\n",
       "      <th>FoodCourt</th>\n",
       "      <th>ShoppingMall</th>\n",
       "      <th>Spa</th>\n",
       "      <th>VRDeck</th>\n",
       "      <th>Transported</th>\n",
       "      <th>Rich</th>\n",
       "      <th>HomePlanet_Earth</th>\n",
       "      <th>...</th>\n",
       "      <th>Deck_G</th>\n",
       "      <th>Deck_T</th>\n",
       "      <th>Side_P</th>\n",
       "      <th>Side_S</th>\n",
       "      <th>AgeBucket_0.0</th>\n",
       "      <th>AgeBucket_15.0</th>\n",
       "      <th>AgeBucket_30.0</th>\n",
       "      <th>AgeBucket_45.0</th>\n",
       "      <th>AgeBucket_60.0</th>\n",
       "      <th>AgeBucket_75.0</th>\n",
       "    </tr>\n",
       "  </thead>\n",
       "  <tbody>\n",
       "    <tr>\n",
       "      <th>8691</th>\n",
       "      <td>0</td>\n",
       "      <td>0</td>\n",
       "      <td>-0.349915</td>\n",
       "      <td>0.365328</td>\n",
       "      <td>-0.310467</td>\n",
       "      <td>0.041307</td>\n",
       "      <td>2.502764</td>\n",
       "      <td>False</td>\n",
       "      <td>1</td>\n",
       "      <td>0</td>\n",
       "      <td>...</td>\n",
       "      <td>0</td>\n",
       "      <td>0</td>\n",
       "      <td>0</td>\n",
       "      <td>1</td>\n",
       "      <td>0</td>\n",
       "      <td>0</td>\n",
       "      <td>1</td>\n",
       "      <td>0</td>\n",
       "      <td>0</td>\n",
       "      <td>0</td>\n",
       "    </tr>\n",
       "    <tr>\n",
       "      <th>8692</th>\n",
       "      <td>0</td>\n",
       "      <td>0</td>\n",
       "      <td>-0.149396</td>\n",
       "      <td>2.619225</td>\n",
       "      <td>-0.310467</td>\n",
       "      <td>-0.271436</td>\n",
       "      <td>-0.249543</td>\n",
       "      <td>True</td>\n",
       "      <td>1</td>\n",
       "      <td>0</td>\n",
       "      <td>...</td>\n",
       "      <td>0</td>\n",
       "      <td>0</td>\n",
       "      <td>0</td>\n",
       "      <td>1</td>\n",
       "      <td>0</td>\n",
       "      <td>0</td>\n",
       "      <td>1</td>\n",
       "      <td>0</td>\n",
       "      <td>0</td>\n",
       "      <td>0</td>\n",
       "    </tr>\n",
       "    <tr>\n",
       "      <th>0</th>\n",
       "      <td>1</td>\n",
       "      <td>0</td>\n",
       "      <td>-0.349915</td>\n",
       "      <td>-0.284394</td>\n",
       "      <td>-0.310467</td>\n",
       "      <td>-0.271436</td>\n",
       "      <td>-0.259791</td>\n",
       "      <td>NaN</td>\n",
       "      <td>0</td>\n",
       "      <td>1</td>\n",
       "      <td>...</td>\n",
       "      <td>1</td>\n",
       "      <td>0</td>\n",
       "      <td>0</td>\n",
       "      <td>1</td>\n",
       "      <td>0</td>\n",
       "      <td>1</td>\n",
       "      <td>0</td>\n",
       "      <td>0</td>\n",
       "      <td>0</td>\n",
       "      <td>0</td>\n",
       "    </tr>\n",
       "    <tr>\n",
       "      <th>1</th>\n",
       "      <td>0</td>\n",
       "      <td>0</td>\n",
       "      <td>-0.349915</td>\n",
       "      <td>-0.278820</td>\n",
       "      <td>-0.310467</td>\n",
       "      <td>2.229620</td>\n",
       "      <td>-0.259791</td>\n",
       "      <td>NaN</td>\n",
       "      <td>0</td>\n",
       "      <td>1</td>\n",
       "      <td>...</td>\n",
       "      <td>0</td>\n",
       "      <td>0</td>\n",
       "      <td>0</td>\n",
       "      <td>1</td>\n",
       "      <td>0</td>\n",
       "      <td>1</td>\n",
       "      <td>0</td>\n",
       "      <td>0</td>\n",
       "      <td>0</td>\n",
       "      <td>0</td>\n",
       "    </tr>\n",
       "  </tbody>\n",
       "</table>\n",
       "<p>4 rows × 31 columns</p>\n",
       "</div>"
      ],
      "text/plain": [
       "      CryoSleep  VIP  RoomService  FoodCourt  ShoppingMall       Spa  \\\n",
       "8691          0    0    -0.349915   0.365328     -0.310467  0.041307   \n",
       "8692          0    0    -0.149396   2.619225     -0.310467 -0.271436   \n",
       "0             1    0    -0.349915  -0.284394     -0.310467 -0.271436   \n",
       "1             0    0    -0.349915  -0.278820     -0.310467  2.229620   \n",
       "\n",
       "        VRDeck Transported  Rich  HomePlanet_Earth  ...  Deck_G  Deck_T  \\\n",
       "8691  2.502764       False     1                 0  ...       0       0   \n",
       "8692 -0.249543        True     1                 0  ...       0       0   \n",
       "0    -0.259791         NaN     0                 1  ...       1       0   \n",
       "1    -0.259791         NaN     0                 1  ...       0       0   \n",
       "\n",
       "      Side_P  Side_S  AgeBucket_0.0  AgeBucket_15.0  AgeBucket_30.0  \\\n",
       "8691       0       1              0               0               1   \n",
       "8692       0       1              0               0               1   \n",
       "0          0       1              0               1               0   \n",
       "1          0       1              0               1               0   \n",
       "\n",
       "      AgeBucket_45.0  AgeBucket_60.0  AgeBucket_75.0  \n",
       "8691               0               0               0  \n",
       "8692               0               0               0  \n",
       "0                  0               0               0  \n",
       "1                  0               0               0  \n",
       "\n",
       "[4 rows x 31 columns]"
      ]
     },
     "execution_count": 248,
     "metadata": {},
     "output_type": "execute_result"
    }
   ],
   "source": [
    "df_full_enc.iloc[6604:6608, :]"
   ]
  },
  {
   "cell_type": "code",
   "execution_count": 249,
   "id": "b5ed9086",
   "metadata": {},
   "outputs": [
    {
     "data": {
      "text/html": [
       "<div>\n",
       "<style scoped>\n",
       "    .dataframe tbody tr th:only-of-type {\n",
       "        vertical-align: middle;\n",
       "    }\n",
       "\n",
       "    .dataframe tbody tr th {\n",
       "        vertical-align: top;\n",
       "    }\n",
       "\n",
       "    .dataframe thead th {\n",
       "        text-align: right;\n",
       "    }\n",
       "</style>\n",
       "<table border=\"1\" class=\"dataframe\">\n",
       "  <thead>\n",
       "    <tr style=\"text-align: right;\">\n",
       "      <th></th>\n",
       "      <th>CryoSleep</th>\n",
       "      <th>VIP</th>\n",
       "      <th>RoomService</th>\n",
       "      <th>FoodCourt</th>\n",
       "      <th>ShoppingMall</th>\n",
       "      <th>Spa</th>\n",
       "      <th>VRDeck</th>\n",
       "      <th>Transported</th>\n",
       "      <th>Rich</th>\n",
       "      <th>HomePlanet_Earth</th>\n",
       "      <th>...</th>\n",
       "      <th>Deck_G</th>\n",
       "      <th>Deck_T</th>\n",
       "      <th>Side_P</th>\n",
       "      <th>Side_S</th>\n",
       "      <th>AgeBucket_0.0</th>\n",
       "      <th>AgeBucket_15.0</th>\n",
       "      <th>AgeBucket_30.0</th>\n",
       "      <th>AgeBucket_45.0</th>\n",
       "      <th>AgeBucket_60.0</th>\n",
       "      <th>AgeBucket_75.0</th>\n",
       "    </tr>\n",
       "  </thead>\n",
       "  <tbody>\n",
       "    <tr>\n",
       "      <th>0</th>\n",
       "      <td>1</td>\n",
       "      <td>0</td>\n",
       "      <td>-0.349915</td>\n",
       "      <td>-0.284394</td>\n",
       "      <td>-0.310467</td>\n",
       "      <td>-0.271436</td>\n",
       "      <td>-0.259791</td>\n",
       "      <td>NaN</td>\n",
       "      <td>0</td>\n",
       "      <td>1</td>\n",
       "      <td>...</td>\n",
       "      <td>1</td>\n",
       "      <td>0</td>\n",
       "      <td>0</td>\n",
       "      <td>1</td>\n",
       "      <td>0</td>\n",
       "      <td>1</td>\n",
       "      <td>0</td>\n",
       "      <td>0</td>\n",
       "      <td>0</td>\n",
       "      <td>0</td>\n",
       "    </tr>\n",
       "    <tr>\n",
       "      <th>1</th>\n",
       "      <td>0</td>\n",
       "      <td>0</td>\n",
       "      <td>-0.349915</td>\n",
       "      <td>-0.278820</td>\n",
       "      <td>-0.310467</td>\n",
       "      <td>2.229620</td>\n",
       "      <td>-0.259791</td>\n",
       "      <td>NaN</td>\n",
       "      <td>0</td>\n",
       "      <td>1</td>\n",
       "      <td>...</td>\n",
       "      <td>0</td>\n",
       "      <td>0</td>\n",
       "      <td>0</td>\n",
       "      <td>1</td>\n",
       "      <td>0</td>\n",
       "      <td>1</td>\n",
       "      <td>0</td>\n",
       "      <td>0</td>\n",
       "      <td>0</td>\n",
       "      <td>0</td>\n",
       "    </tr>\n",
       "    <tr>\n",
       "      <th>2</th>\n",
       "      <td>1</td>\n",
       "      <td>0</td>\n",
       "      <td>-0.349915</td>\n",
       "      <td>-0.284394</td>\n",
       "      <td>-0.310467</td>\n",
       "      <td>-0.271436</td>\n",
       "      <td>-0.259791</td>\n",
       "      <td>NaN</td>\n",
       "      <td>0</td>\n",
       "      <td>0</td>\n",
       "      <td>...</td>\n",
       "      <td>0</td>\n",
       "      <td>0</td>\n",
       "      <td>0</td>\n",
       "      <td>1</td>\n",
       "      <td>0</td>\n",
       "      <td>0</td>\n",
       "      <td>1</td>\n",
       "      <td>0</td>\n",
       "      <td>0</td>\n",
       "      <td>0</td>\n",
       "    </tr>\n",
       "    <tr>\n",
       "      <th>3</th>\n",
       "      <td>0</td>\n",
       "      <td>0</td>\n",
       "      <td>-0.349915</td>\n",
       "      <td>3.835673</td>\n",
       "      <td>-0.310467</td>\n",
       "      <td>-0.111078</td>\n",
       "      <td>0.239775</td>\n",
       "      <td>NaN</td>\n",
       "      <td>1</td>\n",
       "      <td>0</td>\n",
       "      <td>...</td>\n",
       "      <td>0</td>\n",
       "      <td>0</td>\n",
       "      <td>0</td>\n",
       "      <td>1</td>\n",
       "      <td>0</td>\n",
       "      <td>0</td>\n",
       "      <td>1</td>\n",
       "      <td>0</td>\n",
       "      <td>0</td>\n",
       "      <td>0</td>\n",
       "    </tr>\n",
       "    <tr>\n",
       "      <th>4</th>\n",
       "      <td>0</td>\n",
       "      <td>0</td>\n",
       "      <td>-0.334001</td>\n",
       "      <td>-0.284394</td>\n",
       "      <td>0.807505</td>\n",
       "      <td>-0.271436</td>\n",
       "      <td>-0.259791</td>\n",
       "      <td>NaN</td>\n",
       "      <td>0</td>\n",
       "      <td>1</td>\n",
       "      <td>...</td>\n",
       "      <td>0</td>\n",
       "      <td>0</td>\n",
       "      <td>0</td>\n",
       "      <td>1</td>\n",
       "      <td>0</td>\n",
       "      <td>1</td>\n",
       "      <td>0</td>\n",
       "      <td>0</td>\n",
       "      <td>0</td>\n",
       "      <td>0</td>\n",
       "    </tr>\n",
       "  </tbody>\n",
       "</table>\n",
       "<p>5 rows × 31 columns</p>\n",
       "</div>"
      ],
      "text/plain": [
       "   CryoSleep  VIP  RoomService  FoodCourt  ShoppingMall       Spa    VRDeck  \\\n",
       "0          1    0    -0.349915  -0.284394     -0.310467 -0.271436 -0.259791   \n",
       "1          0    0    -0.349915  -0.278820     -0.310467  2.229620 -0.259791   \n",
       "2          1    0    -0.349915  -0.284394     -0.310467 -0.271436 -0.259791   \n",
       "3          0    0    -0.349915   3.835673     -0.310467 -0.111078  0.239775   \n",
       "4          0    0    -0.334001  -0.284394      0.807505 -0.271436 -0.259791   \n",
       "\n",
       "  Transported  Rich  HomePlanet_Earth  ...  Deck_G  Deck_T  Side_P  Side_S  \\\n",
       "0         NaN     0                 1  ...       1       0       0       1   \n",
       "1         NaN     0                 1  ...       0       0       0       1   \n",
       "2         NaN     0                 0  ...       0       0       0       1   \n",
       "3         NaN     1                 0  ...       0       0       0       1   \n",
       "4         NaN     0                 1  ...       0       0       0       1   \n",
       "\n",
       "   AgeBucket_0.0  AgeBucket_15.0  AgeBucket_30.0  AgeBucket_45.0  \\\n",
       "0              0               1               0               0   \n",
       "1              0               1               0               0   \n",
       "2              0               0               1               0   \n",
       "3              0               0               1               0   \n",
       "4              0               1               0               0   \n",
       "\n",
       "   AgeBucket_60.0  AgeBucket_75.0  \n",
       "0               0               0  \n",
       "1               0               0  \n",
       "2               0               0  \n",
       "3               0               0  \n",
       "4               0               0  \n",
       "\n",
       "[5 rows x 31 columns]"
      ]
     },
     "execution_count": 249,
     "metadata": {},
     "output_type": "execute_result"
    }
   ],
   "source": [
    "df_train_corr = df_full_enc.iloc[:6606, :]\n",
    "df_test_corr = df_full_enc.iloc[6606:, :]\n",
    "df_test_corr.head()"
   ]
  },
  {
   "cell_type": "code",
   "execution_count": 250,
   "id": "b8119f34",
   "metadata": {},
   "outputs": [
    {
     "data": {
      "text/html": [
       "<div>\n",
       "<style scoped>\n",
       "    .dataframe tbody tr th:only-of-type {\n",
       "        vertical-align: middle;\n",
       "    }\n",
       "\n",
       "    .dataframe tbody tr th {\n",
       "        vertical-align: top;\n",
       "    }\n",
       "\n",
       "    .dataframe thead th {\n",
       "        text-align: right;\n",
       "    }\n",
       "</style>\n",
       "<table border=\"1\" class=\"dataframe\">\n",
       "  <thead>\n",
       "    <tr style=\"text-align: right;\">\n",
       "      <th></th>\n",
       "      <th>CryoSleep</th>\n",
       "      <th>VIP</th>\n",
       "      <th>RoomService</th>\n",
       "      <th>FoodCourt</th>\n",
       "      <th>ShoppingMall</th>\n",
       "      <th>Spa</th>\n",
       "      <th>VRDeck</th>\n",
       "      <th>Transported</th>\n",
       "      <th>Rich</th>\n",
       "      <th>HomePlanet_Earth</th>\n",
       "      <th>...</th>\n",
       "      <th>Deck_G</th>\n",
       "      <th>Deck_T</th>\n",
       "      <th>Side_P</th>\n",
       "      <th>Side_S</th>\n",
       "      <th>AgeBucket_0.0</th>\n",
       "      <th>AgeBucket_15.0</th>\n",
       "      <th>AgeBucket_30.0</th>\n",
       "      <th>AgeBucket_45.0</th>\n",
       "      <th>AgeBucket_60.0</th>\n",
       "      <th>AgeBucket_75.0</th>\n",
       "    </tr>\n",
       "  </thead>\n",
       "  <tbody>\n",
       "    <tr>\n",
       "      <th>8689</th>\n",
       "      <td>1</td>\n",
       "      <td>0</td>\n",
       "      <td>-0.349915</td>\n",
       "      <td>-0.284394</td>\n",
       "      <td>-0.310467</td>\n",
       "      <td>-0.271436</td>\n",
       "      <td>-0.259791</td>\n",
       "      <td>False</td>\n",
       "      <td>0</td>\n",
       "      <td>1</td>\n",
       "      <td>...</td>\n",
       "      <td>1</td>\n",
       "      <td>0</td>\n",
       "      <td>0</td>\n",
       "      <td>1</td>\n",
       "      <td>0</td>\n",
       "      <td>1</td>\n",
       "      <td>0</td>\n",
       "      <td>0</td>\n",
       "      <td>0</td>\n",
       "      <td>0</td>\n",
       "    </tr>\n",
       "    <tr>\n",
       "      <th>8690</th>\n",
       "      <td>0</td>\n",
       "      <td>0</td>\n",
       "      <td>-0.349915</td>\n",
       "      <td>-0.284394</td>\n",
       "      <td>2.985351</td>\n",
       "      <td>-0.270550</td>\n",
       "      <td>-0.259791</td>\n",
       "      <td>True</td>\n",
       "      <td>0</td>\n",
       "      <td>1</td>\n",
       "      <td>...</td>\n",
       "      <td>1</td>\n",
       "      <td>0</td>\n",
       "      <td>0</td>\n",
       "      <td>1</td>\n",
       "      <td>0</td>\n",
       "      <td>1</td>\n",
       "      <td>0</td>\n",
       "      <td>0</td>\n",
       "      <td>0</td>\n",
       "      <td>0</td>\n",
       "    </tr>\n",
       "    <tr>\n",
       "      <th>8691</th>\n",
       "      <td>0</td>\n",
       "      <td>0</td>\n",
       "      <td>-0.349915</td>\n",
       "      <td>0.365328</td>\n",
       "      <td>-0.310467</td>\n",
       "      <td>0.041307</td>\n",
       "      <td>2.502764</td>\n",
       "      <td>False</td>\n",
       "      <td>1</td>\n",
       "      <td>0</td>\n",
       "      <td>...</td>\n",
       "      <td>0</td>\n",
       "      <td>0</td>\n",
       "      <td>0</td>\n",
       "      <td>1</td>\n",
       "      <td>0</td>\n",
       "      <td>0</td>\n",
       "      <td>1</td>\n",
       "      <td>0</td>\n",
       "      <td>0</td>\n",
       "      <td>0</td>\n",
       "    </tr>\n",
       "    <tr>\n",
       "      <th>8692</th>\n",
       "      <td>0</td>\n",
       "      <td>0</td>\n",
       "      <td>-0.149396</td>\n",
       "      <td>2.619225</td>\n",
       "      <td>-0.310467</td>\n",
       "      <td>-0.271436</td>\n",
       "      <td>-0.249543</td>\n",
       "      <td>True</td>\n",
       "      <td>1</td>\n",
       "      <td>0</td>\n",
       "      <td>...</td>\n",
       "      <td>0</td>\n",
       "      <td>0</td>\n",
       "      <td>0</td>\n",
       "      <td>1</td>\n",
       "      <td>0</td>\n",
       "      <td>0</td>\n",
       "      <td>1</td>\n",
       "      <td>0</td>\n",
       "      <td>0</td>\n",
       "      <td>0</td>\n",
       "    </tr>\n",
       "  </tbody>\n",
       "</table>\n",
       "<p>4 rows × 31 columns</p>\n",
       "</div>"
      ],
      "text/plain": [
       "      CryoSleep  VIP  RoomService  FoodCourt  ShoppingMall       Spa  \\\n",
       "8689          1    0    -0.349915  -0.284394     -0.310467 -0.271436   \n",
       "8690          0    0    -0.349915  -0.284394      2.985351 -0.270550   \n",
       "8691          0    0    -0.349915   0.365328     -0.310467  0.041307   \n",
       "8692          0    0    -0.149396   2.619225     -0.310467 -0.271436   \n",
       "\n",
       "        VRDeck Transported  Rich  HomePlanet_Earth  ...  Deck_G  Deck_T  \\\n",
       "8689 -0.259791       False     0                 1  ...       1       0   \n",
       "8690 -0.259791        True     0                 1  ...       1       0   \n",
       "8691  2.502764       False     1                 0  ...       0       0   \n",
       "8692 -0.249543        True     1                 0  ...       0       0   \n",
       "\n",
       "      Side_P  Side_S  AgeBucket_0.0  AgeBucket_15.0  AgeBucket_30.0  \\\n",
       "8689       0       1              0               1               0   \n",
       "8690       0       1              0               1               0   \n",
       "8691       0       1              0               0               1   \n",
       "8692       0       1              0               0               1   \n",
       "\n",
       "      AgeBucket_45.0  AgeBucket_60.0  AgeBucket_75.0  \n",
       "8689               0               0               0  \n",
       "8690               0               0               0  \n",
       "8691               0               0               0  \n",
       "8692               0               0               0  \n",
       "\n",
       "[4 rows x 31 columns]"
      ]
     },
     "execution_count": 250,
     "metadata": {},
     "output_type": "execute_result"
    }
   ],
   "source": [
    "df_train_corr.iloc[6602:6607, :]"
   ]
  },
  {
   "cell_type": "code",
   "execution_count": 251,
   "id": "48bc8ea1",
   "metadata": {},
   "outputs": [
    {
     "name": "stdout",
     "output_type": "stream",
     "text": [
      "<class 'pandas.core.frame.DataFrame'>\n",
      "Int64Index: 4277 entries, 0 to 4276\n",
      "Data columns (total 30 columns):\n",
      " #   Column                Non-Null Count  Dtype  \n",
      "---  ------                --------------  -----  \n",
      " 0   CryoSleep             4277 non-null   int64  \n",
      " 1   VIP                   4277 non-null   int64  \n",
      " 2   RoomService           4277 non-null   float64\n",
      " 3   FoodCourt             4277 non-null   float64\n",
      " 4   ShoppingMall          4277 non-null   float64\n",
      " 5   Spa                   4277 non-null   float64\n",
      " 6   VRDeck                4277 non-null   float64\n",
      " 7   Rich                  4277 non-null   int64  \n",
      " 8   HomePlanet_Earth      4277 non-null   uint8  \n",
      " 9   HomePlanet_Europa     4277 non-null   uint8  \n",
      " 10  HomePlanet_Mars       4277 non-null   uint8  \n",
      " 11  Destination_Cancri    4277 non-null   uint8  \n",
      " 12  Destination_PSO       4277 non-null   uint8  \n",
      " 13  Destination_TRAPPIST  4277 non-null   uint8  \n",
      " 14  Deck_A                4277 non-null   uint8  \n",
      " 15  Deck_B                4277 non-null   uint8  \n",
      " 16  Deck_C                4277 non-null   uint8  \n",
      " 17  Deck_D                4277 non-null   uint8  \n",
      " 18  Deck_E                4277 non-null   uint8  \n",
      " 19  Deck_F                4277 non-null   uint8  \n",
      " 20  Deck_G                4277 non-null   uint8  \n",
      " 21  Deck_T                4277 non-null   uint8  \n",
      " 22  Side_P                4277 non-null   uint8  \n",
      " 23  Side_S                4277 non-null   uint8  \n",
      " 24  AgeBucket_0.0         4277 non-null   uint8  \n",
      " 25  AgeBucket_15.0        4277 non-null   uint8  \n",
      " 26  AgeBucket_30.0        4277 non-null   uint8  \n",
      " 27  AgeBucket_45.0        4277 non-null   uint8  \n",
      " 28  AgeBucket_60.0        4277 non-null   uint8  \n",
      " 29  AgeBucket_75.0        4277 non-null   uint8  \n",
      "dtypes: float64(5), int64(3), uint8(22)\n",
      "memory usage: 392.6 KB\n"
     ]
    }
   ],
   "source": [
    "df_test_corr = df_test_corr.drop(columns=[\"Transported\"], axis=1)\n",
    "df_test_corr.info()"
   ]
  },
  {
   "cell_type": "code",
   "execution_count": 252,
   "id": "f5ba5b0e",
   "metadata": {},
   "outputs": [
    {
     "name": "stdout",
     "output_type": "stream",
     "text": [
      "<class 'pandas.core.frame.DataFrame'>\n",
      "Int64Index: 6606 entries, 0 to 8692\n",
      "Data columns (total 31 columns):\n",
      " #   Column                Non-Null Count  Dtype  \n",
      "---  ------                --------------  -----  \n",
      " 0   CryoSleep             6606 non-null   int64  \n",
      " 1   VIP                   6606 non-null   int64  \n",
      " 2   RoomService           6606 non-null   float64\n",
      " 3   FoodCourt             6606 non-null   float64\n",
      " 4   ShoppingMall          6606 non-null   float64\n",
      " 5   Spa                   6606 non-null   float64\n",
      " 6   VRDeck                6606 non-null   float64\n",
      " 7   Transported           6606 non-null   int64  \n",
      " 8   Rich                  6606 non-null   int64  \n",
      " 9   HomePlanet_Earth      6606 non-null   uint8  \n",
      " 10  HomePlanet_Europa     6606 non-null   uint8  \n",
      " 11  HomePlanet_Mars       6606 non-null   uint8  \n",
      " 12  Destination_Cancri    6606 non-null   uint8  \n",
      " 13  Destination_PSO       6606 non-null   uint8  \n",
      " 14  Destination_TRAPPIST  6606 non-null   uint8  \n",
      " 15  Deck_A                6606 non-null   uint8  \n",
      " 16  Deck_B                6606 non-null   uint8  \n",
      " 17  Deck_C                6606 non-null   uint8  \n",
      " 18  Deck_D                6606 non-null   uint8  \n",
      " 19  Deck_E                6606 non-null   uint8  \n",
      " 20  Deck_F                6606 non-null   uint8  \n",
      " 21  Deck_G                6606 non-null   uint8  \n",
      " 22  Deck_T                6606 non-null   uint8  \n",
      " 23  Side_P                6606 non-null   uint8  \n",
      " 24  Side_S                6606 non-null   uint8  \n",
      " 25  AgeBucket_0.0         6606 non-null   uint8  \n",
      " 26  AgeBucket_15.0        6606 non-null   uint8  \n",
      " 27  AgeBucket_30.0        6606 non-null   uint8  \n",
      " 28  AgeBucket_45.0        6606 non-null   uint8  \n",
      " 29  AgeBucket_60.0        6606 non-null   uint8  \n",
      " 30  AgeBucket_75.0        6606 non-null   uint8  \n",
      "dtypes: float64(5), int64(4), uint8(22)\n",
      "memory usage: 658.0 KB\n"
     ]
    },
    {
     "name": "stderr",
     "output_type": "stream",
     "text": [
      "/var/folders/7m/1c5q60f97cx1t7r9pnhv002c0000gn/T/ipykernel_1963/2224148587.py:1: SettingWithCopyWarning: \n",
      "A value is trying to be set on a copy of a slice from a DataFrame.\n",
      "Try using .loc[row_indexer,col_indexer] = value instead\n",
      "\n",
      "See the caveats in the documentation: https://pandas.pydata.org/pandas-docs/stable/user_guide/indexing.html#returning-a-view-versus-a-copy\n",
      "  df_train_corr[\"Transported\"] = df_train_corr[\"Transported\"].astype(int)\n"
     ]
    }
   ],
   "source": [
    "df_train_corr[\"Transported\"] = df_train_corr[\"Transported\"].astype(int)\n",
    "df_train_corr.info()"
   ]
  },
  {
   "cell_type": "code",
   "execution_count": 253,
   "id": "d37cc3e9",
   "metadata": {},
   "outputs": [
    {
     "data": {
      "text/html": [
       "<div>\n",
       "<style scoped>\n",
       "    .dataframe tbody tr th:only-of-type {\n",
       "        vertical-align: middle;\n",
       "    }\n",
       "\n",
       "    .dataframe tbody tr th {\n",
       "        vertical-align: top;\n",
       "    }\n",
       "\n",
       "    .dataframe thead th {\n",
       "        text-align: right;\n",
       "    }\n",
       "</style>\n",
       "<table border=\"1\" class=\"dataframe\">\n",
       "  <thead>\n",
       "    <tr style=\"text-align: right;\">\n",
       "      <th></th>\n",
       "      <th>CryoSleep</th>\n",
       "      <th>VIP</th>\n",
       "      <th>RoomService</th>\n",
       "      <th>FoodCourt</th>\n",
       "      <th>ShoppingMall</th>\n",
       "      <th>Spa</th>\n",
       "      <th>VRDeck</th>\n",
       "      <th>Transported</th>\n",
       "      <th>Rich</th>\n",
       "      <th>HomePlanet_Earth</th>\n",
       "      <th>...</th>\n",
       "      <th>Deck_G</th>\n",
       "      <th>Deck_T</th>\n",
       "      <th>Side_P</th>\n",
       "      <th>Side_S</th>\n",
       "      <th>AgeBucket_0.0</th>\n",
       "      <th>AgeBucket_15.0</th>\n",
       "      <th>AgeBucket_30.0</th>\n",
       "      <th>AgeBucket_45.0</th>\n",
       "      <th>AgeBucket_60.0</th>\n",
       "      <th>AgeBucket_75.0</th>\n",
       "    </tr>\n",
       "  </thead>\n",
       "  <tbody>\n",
       "    <tr>\n",
       "      <th>0</th>\n",
       "      <td>0</td>\n",
       "      <td>0</td>\n",
       "      <td>-0.349915</td>\n",
       "      <td>-0.284394</td>\n",
       "      <td>-0.310467</td>\n",
       "      <td>-0.271436</td>\n",
       "      <td>-0.259791</td>\n",
       "      <td>0</td>\n",
       "      <td>0</td>\n",
       "      <td>0</td>\n",
       "      <td>...</td>\n",
       "      <td>0</td>\n",
       "      <td>0</td>\n",
       "      <td>1</td>\n",
       "      <td>0</td>\n",
       "      <td>0</td>\n",
       "      <td>0</td>\n",
       "      <td>1</td>\n",
       "      <td>0</td>\n",
       "      <td>0</td>\n",
       "      <td>0</td>\n",
       "    </tr>\n",
       "    <tr>\n",
       "      <th>1</th>\n",
       "      <td>0</td>\n",
       "      <td>0</td>\n",
       "      <td>-0.176450</td>\n",
       "      <td>-0.278820</td>\n",
       "      <td>-0.266452</td>\n",
       "      <td>0.214954</td>\n",
       "      <td>-0.222217</td>\n",
       "      <td>1</td>\n",
       "      <td>0</td>\n",
       "      <td>1</td>\n",
       "      <td>...</td>\n",
       "      <td>0</td>\n",
       "      <td>0</td>\n",
       "      <td>0</td>\n",
       "      <td>1</td>\n",
       "      <td>0</td>\n",
       "      <td>1</td>\n",
       "      <td>0</td>\n",
       "      <td>0</td>\n",
       "      <td>0</td>\n",
       "      <td>0</td>\n",
       "    </tr>\n",
       "    <tr>\n",
       "      <th>2</th>\n",
       "      <td>0</td>\n",
       "      <td>1</td>\n",
       "      <td>-0.281484</td>\n",
       "      <td>1.930483</td>\n",
       "      <td>-0.310467</td>\n",
       "      <td>5.677764</td>\n",
       "      <td>-0.217947</td>\n",
       "      <td>0</td>\n",
       "      <td>1</td>\n",
       "      <td>0</td>\n",
       "      <td>...</td>\n",
       "      <td>0</td>\n",
       "      <td>0</td>\n",
       "      <td>0</td>\n",
       "      <td>1</td>\n",
       "      <td>0</td>\n",
       "      <td>0</td>\n",
       "      <td>0</td>\n",
       "      <td>1</td>\n",
       "      <td>0</td>\n",
       "      <td>0</td>\n",
       "    </tr>\n",
       "    <tr>\n",
       "      <th>3</th>\n",
       "      <td>0</td>\n",
       "      <td>0</td>\n",
       "      <td>-0.349915</td>\n",
       "      <td>0.510261</td>\n",
       "      <td>0.342711</td>\n",
       "      <td>2.677914</td>\n",
       "      <td>-0.094977</td>\n",
       "      <td>0</td>\n",
       "      <td>1</td>\n",
       "      <td>0</td>\n",
       "      <td>...</td>\n",
       "      <td>0</td>\n",
       "      <td>0</td>\n",
       "      <td>0</td>\n",
       "      <td>1</td>\n",
       "      <td>0</td>\n",
       "      <td>0</td>\n",
       "      <td>1</td>\n",
       "      <td>0</td>\n",
       "      <td>0</td>\n",
       "      <td>0</td>\n",
       "    </tr>\n",
       "    <tr>\n",
       "      <th>4</th>\n",
       "      <td>0</td>\n",
       "      <td>0</td>\n",
       "      <td>0.132286</td>\n",
       "      <td>-0.241038</td>\n",
       "      <td>-0.044619</td>\n",
       "      <td>0.229130</td>\n",
       "      <td>-0.258083</td>\n",
       "      <td>1</td>\n",
       "      <td>0</td>\n",
       "      <td>1</td>\n",
       "      <td>...</td>\n",
       "      <td>0</td>\n",
       "      <td>0</td>\n",
       "      <td>0</td>\n",
       "      <td>1</td>\n",
       "      <td>0</td>\n",
       "      <td>1</td>\n",
       "      <td>0</td>\n",
       "      <td>0</td>\n",
       "      <td>0</td>\n",
       "      <td>0</td>\n",
       "    </tr>\n",
       "  </tbody>\n",
       "</table>\n",
       "<p>5 rows × 31 columns</p>\n",
       "</div>"
      ],
      "text/plain": [
       "   CryoSleep  VIP  RoomService  FoodCourt  ShoppingMall       Spa    VRDeck  \\\n",
       "0          0    0    -0.349915  -0.284394     -0.310467 -0.271436 -0.259791   \n",
       "1          0    0    -0.176450  -0.278820     -0.266452  0.214954 -0.222217   \n",
       "2          0    1    -0.281484   1.930483     -0.310467  5.677764 -0.217947   \n",
       "3          0    0    -0.349915   0.510261      0.342711  2.677914 -0.094977   \n",
       "4          0    0     0.132286  -0.241038     -0.044619  0.229130 -0.258083   \n",
       "\n",
       "   Transported  Rich  HomePlanet_Earth  ...  Deck_G  Deck_T  Side_P  Side_S  \\\n",
       "0            0     0                 0  ...       0       0       1       0   \n",
       "1            1     0                 1  ...       0       0       0       1   \n",
       "2            0     1                 0  ...       0       0       0       1   \n",
       "3            0     1                 0  ...       0       0       0       1   \n",
       "4            1     0                 1  ...       0       0       0       1   \n",
       "\n",
       "   AgeBucket_0.0  AgeBucket_15.0  AgeBucket_30.0  AgeBucket_45.0  \\\n",
       "0              0               0               1               0   \n",
       "1              0               1               0               0   \n",
       "2              0               0               0               1   \n",
       "3              0               0               1               0   \n",
       "4              0               1               0               0   \n",
       "\n",
       "   AgeBucket_60.0  AgeBucket_75.0  \n",
       "0               0               0  \n",
       "1               0               0  \n",
       "2               0               0  \n",
       "3               0               0  \n",
       "4               0               0  \n",
       "\n",
       "[5 rows x 31 columns]"
      ]
     },
     "execution_count": 253,
     "metadata": {},
     "output_type": "execute_result"
    }
   ],
   "source": [
    "df_train_corr.head()"
   ]
  },
  {
   "cell_type": "markdown",
   "id": "be190152",
   "metadata": {},
   "source": [
    "# Constuct phase "
   ]
  },
  {
   "cell_type": "code",
   "execution_count": 254,
   "id": "555b4dbd",
   "metadata": {},
   "outputs": [
    {
     "data": {
      "text/html": [
       "<div>\n",
       "<style scoped>\n",
       "    .dataframe tbody tr th:only-of-type {\n",
       "        vertical-align: middle;\n",
       "    }\n",
       "\n",
       "    .dataframe tbody tr th {\n",
       "        vertical-align: top;\n",
       "    }\n",
       "\n",
       "    .dataframe thead th {\n",
       "        text-align: right;\n",
       "    }\n",
       "</style>\n",
       "<table border=\"1\" class=\"dataframe\">\n",
       "  <thead>\n",
       "    <tr style=\"text-align: right;\">\n",
       "      <th></th>\n",
       "      <th>CryoSleep</th>\n",
       "      <th>VIP</th>\n",
       "      <th>RoomService</th>\n",
       "      <th>FoodCourt</th>\n",
       "      <th>ShoppingMall</th>\n",
       "      <th>Spa</th>\n",
       "      <th>VRDeck</th>\n",
       "      <th>Rich</th>\n",
       "      <th>HomePlanet_Earth</th>\n",
       "      <th>HomePlanet_Europa</th>\n",
       "      <th>...</th>\n",
       "      <th>Deck_G</th>\n",
       "      <th>Deck_T</th>\n",
       "      <th>Side_P</th>\n",
       "      <th>Side_S</th>\n",
       "      <th>AgeBucket_0.0</th>\n",
       "      <th>AgeBucket_15.0</th>\n",
       "      <th>AgeBucket_30.0</th>\n",
       "      <th>AgeBucket_45.0</th>\n",
       "      <th>AgeBucket_60.0</th>\n",
       "      <th>AgeBucket_75.0</th>\n",
       "    </tr>\n",
       "  </thead>\n",
       "  <tbody>\n",
       "    <tr>\n",
       "      <th>0</th>\n",
       "      <td>0</td>\n",
       "      <td>0</td>\n",
       "      <td>-0.349915</td>\n",
       "      <td>-0.284394</td>\n",
       "      <td>-0.310467</td>\n",
       "      <td>-0.271436</td>\n",
       "      <td>-0.259791</td>\n",
       "      <td>0</td>\n",
       "      <td>0</td>\n",
       "      <td>1</td>\n",
       "      <td>...</td>\n",
       "      <td>0</td>\n",
       "      <td>0</td>\n",
       "      <td>1</td>\n",
       "      <td>0</td>\n",
       "      <td>0</td>\n",
       "      <td>0</td>\n",
       "      <td>1</td>\n",
       "      <td>0</td>\n",
       "      <td>0</td>\n",
       "      <td>0</td>\n",
       "    </tr>\n",
       "    <tr>\n",
       "      <th>1</th>\n",
       "      <td>0</td>\n",
       "      <td>0</td>\n",
       "      <td>-0.176450</td>\n",
       "      <td>-0.278820</td>\n",
       "      <td>-0.266452</td>\n",
       "      <td>0.214954</td>\n",
       "      <td>-0.222217</td>\n",
       "      <td>0</td>\n",
       "      <td>1</td>\n",
       "      <td>0</td>\n",
       "      <td>...</td>\n",
       "      <td>0</td>\n",
       "      <td>0</td>\n",
       "      <td>0</td>\n",
       "      <td>1</td>\n",
       "      <td>0</td>\n",
       "      <td>1</td>\n",
       "      <td>0</td>\n",
       "      <td>0</td>\n",
       "      <td>0</td>\n",
       "      <td>0</td>\n",
       "    </tr>\n",
       "    <tr>\n",
       "      <th>2</th>\n",
       "      <td>0</td>\n",
       "      <td>1</td>\n",
       "      <td>-0.281484</td>\n",
       "      <td>1.930483</td>\n",
       "      <td>-0.310467</td>\n",
       "      <td>5.677764</td>\n",
       "      <td>-0.217947</td>\n",
       "      <td>1</td>\n",
       "      <td>0</td>\n",
       "      <td>1</td>\n",
       "      <td>...</td>\n",
       "      <td>0</td>\n",
       "      <td>0</td>\n",
       "      <td>0</td>\n",
       "      <td>1</td>\n",
       "      <td>0</td>\n",
       "      <td>0</td>\n",
       "      <td>0</td>\n",
       "      <td>1</td>\n",
       "      <td>0</td>\n",
       "      <td>0</td>\n",
       "    </tr>\n",
       "    <tr>\n",
       "      <th>3</th>\n",
       "      <td>0</td>\n",
       "      <td>0</td>\n",
       "      <td>-0.349915</td>\n",
       "      <td>0.510261</td>\n",
       "      <td>0.342711</td>\n",
       "      <td>2.677914</td>\n",
       "      <td>-0.094977</td>\n",
       "      <td>1</td>\n",
       "      <td>0</td>\n",
       "      <td>1</td>\n",
       "      <td>...</td>\n",
       "      <td>0</td>\n",
       "      <td>0</td>\n",
       "      <td>0</td>\n",
       "      <td>1</td>\n",
       "      <td>0</td>\n",
       "      <td>0</td>\n",
       "      <td>1</td>\n",
       "      <td>0</td>\n",
       "      <td>0</td>\n",
       "      <td>0</td>\n",
       "    </tr>\n",
       "    <tr>\n",
       "      <th>4</th>\n",
       "      <td>0</td>\n",
       "      <td>0</td>\n",
       "      <td>0.132286</td>\n",
       "      <td>-0.241038</td>\n",
       "      <td>-0.044619</td>\n",
       "      <td>0.229130</td>\n",
       "      <td>-0.258083</td>\n",
       "      <td>0</td>\n",
       "      <td>1</td>\n",
       "      <td>0</td>\n",
       "      <td>...</td>\n",
       "      <td>0</td>\n",
       "      <td>0</td>\n",
       "      <td>0</td>\n",
       "      <td>1</td>\n",
       "      <td>0</td>\n",
       "      <td>1</td>\n",
       "      <td>0</td>\n",
       "      <td>0</td>\n",
       "      <td>0</td>\n",
       "      <td>0</td>\n",
       "    </tr>\n",
       "  </tbody>\n",
       "</table>\n",
       "<p>5 rows × 30 columns</p>\n",
       "</div>"
      ],
      "text/plain": [
       "   CryoSleep  VIP  RoomService  FoodCourt  ShoppingMall       Spa    VRDeck  \\\n",
       "0          0    0    -0.349915  -0.284394     -0.310467 -0.271436 -0.259791   \n",
       "1          0    0    -0.176450  -0.278820     -0.266452  0.214954 -0.222217   \n",
       "2          0    1    -0.281484   1.930483     -0.310467  5.677764 -0.217947   \n",
       "3          0    0    -0.349915   0.510261      0.342711  2.677914 -0.094977   \n",
       "4          0    0     0.132286  -0.241038     -0.044619  0.229130 -0.258083   \n",
       "\n",
       "   Rich  HomePlanet_Earth  HomePlanet_Europa  ...  Deck_G  Deck_T  Side_P  \\\n",
       "0     0                 0                  1  ...       0       0       1   \n",
       "1     0                 1                  0  ...       0       0       0   \n",
       "2     1                 0                  1  ...       0       0       0   \n",
       "3     1                 0                  1  ...       0       0       0   \n",
       "4     0                 1                  0  ...       0       0       0   \n",
       "\n",
       "   Side_S  AgeBucket_0.0  AgeBucket_15.0  AgeBucket_30.0  AgeBucket_45.0  \\\n",
       "0       0              0               0               1               0   \n",
       "1       1              0               1               0               0   \n",
       "2       1              0               0               0               1   \n",
       "3       1              0               0               1               0   \n",
       "4       1              0               1               0               0   \n",
       "\n",
       "   AgeBucket_60.0  AgeBucket_75.0  \n",
       "0               0               0  \n",
       "1               0               0  \n",
       "2               0               0  \n",
       "3               0               0  \n",
       "4               0               0  \n",
       "\n",
       "[5 rows x 30 columns]"
      ]
     },
     "execution_count": 254,
     "metadata": {},
     "output_type": "execute_result"
    }
   ],
   "source": [
    "X = df_train_corr.drop(columns=[\"Transported\"], axis=1)\n",
    "y = df_train_corr[\"Transported\"]\n",
    "X.head()"
   ]
  },
  {
   "cell_type": "code",
   "execution_count": 255,
   "id": "265ee22c",
   "metadata": {},
   "outputs": [
    {
     "name": "stdout",
     "output_type": "stream",
     "text": [
      "<class 'pandas.core.frame.DataFrame'>\n",
      "Int64Index: 1322 entries, 8441 to 875\n",
      "Data columns (total 30 columns):\n",
      " #   Column                Non-Null Count  Dtype  \n",
      "---  ------                --------------  -----  \n",
      " 0   CryoSleep             1322 non-null   int64  \n",
      " 1   VIP                   1322 non-null   int64  \n",
      " 2   RoomService           1322 non-null   float64\n",
      " 3   FoodCourt             1322 non-null   float64\n",
      " 4   ShoppingMall          1322 non-null   float64\n",
      " 5   Spa                   1322 non-null   float64\n",
      " 6   VRDeck                1322 non-null   float64\n",
      " 7   Rich                  1322 non-null   int64  \n",
      " 8   HomePlanet_Earth      1322 non-null   uint8  \n",
      " 9   HomePlanet_Europa     1322 non-null   uint8  \n",
      " 10  HomePlanet_Mars       1322 non-null   uint8  \n",
      " 11  Destination_Cancri    1322 non-null   uint8  \n",
      " 12  Destination_PSO       1322 non-null   uint8  \n",
      " 13  Destination_TRAPPIST  1322 non-null   uint8  \n",
      " 14  Deck_A                1322 non-null   uint8  \n",
      " 15  Deck_B                1322 non-null   uint8  \n",
      " 16  Deck_C                1322 non-null   uint8  \n",
      " 17  Deck_D                1322 non-null   uint8  \n",
      " 18  Deck_E                1322 non-null   uint8  \n",
      " 19  Deck_F                1322 non-null   uint8  \n",
      " 20  Deck_G                1322 non-null   uint8  \n",
      " 21  Deck_T                1322 non-null   uint8  \n",
      " 22  Side_P                1322 non-null   uint8  \n",
      " 23  Side_S                1322 non-null   uint8  \n",
      " 24  AgeBucket_0.0         1322 non-null   uint8  \n",
      " 25  AgeBucket_15.0        1322 non-null   uint8  \n",
      " 26  AgeBucket_30.0        1322 non-null   uint8  \n",
      " 27  AgeBucket_45.0        1322 non-null   uint8  \n",
      " 28  AgeBucket_60.0        1322 non-null   uint8  \n",
      " 29  AgeBucket_75.0        1322 non-null   uint8  \n",
      "dtypes: float64(5), int64(3), uint8(22)\n",
      "memory usage: 121.4 KB\n"
     ]
    }
   ],
   "source": [
    "X_train, X_val, y_train, y_val = train_test_split(X, y, test_size=0.20, random_state=42)\n",
    "X_val.info()"
   ]
  },
  {
   "cell_type": "markdown",
   "id": "87c710d1",
   "metadata": {},
   "source": [
    "### First we try to use Logistic Classifier for the analysis"
   ]
  },
  {
   "cell_type": "code",
   "execution_count": 256,
   "id": "4b370a5b",
   "metadata": {},
   "outputs": [],
   "source": [
    "clf_log = LogisticRegression(random_state=42, max_iter=1500)"
   ]
  },
  {
   "cell_type": "code",
   "execution_count": 257,
   "id": "b88f5093",
   "metadata": {},
   "outputs": [
    {
     "name": "stdout",
     "output_type": "stream",
     "text": [
      "CPU times: user 247 ms, sys: 60.6 ms, total: 307 ms\n",
      "Wall time: 46.8 ms\n"
     ]
    },
    {
     "data": {
      "text/html": [
       "<style>#sk-container-id-4 {color: black;background-color: white;}#sk-container-id-4 pre{padding: 0;}#sk-container-id-4 div.sk-toggleable {background-color: white;}#sk-container-id-4 label.sk-toggleable__label {cursor: pointer;display: block;width: 100%;margin-bottom: 0;padding: 0.3em;box-sizing: border-box;text-align: center;}#sk-container-id-4 label.sk-toggleable__label-arrow:before {content: \"▸\";float: left;margin-right: 0.25em;color: #696969;}#sk-container-id-4 label.sk-toggleable__label-arrow:hover:before {color: black;}#sk-container-id-4 div.sk-estimator:hover label.sk-toggleable__label-arrow:before {color: black;}#sk-container-id-4 div.sk-toggleable__content {max-height: 0;max-width: 0;overflow: hidden;text-align: left;background-color: #f0f8ff;}#sk-container-id-4 div.sk-toggleable__content pre {margin: 0.2em;color: black;border-radius: 0.25em;background-color: #f0f8ff;}#sk-container-id-4 input.sk-toggleable__control:checked~div.sk-toggleable__content {max-height: 200px;max-width: 100%;overflow: auto;}#sk-container-id-4 input.sk-toggleable__control:checked~label.sk-toggleable__label-arrow:before {content: \"▾\";}#sk-container-id-4 div.sk-estimator input.sk-toggleable__control:checked~label.sk-toggleable__label {background-color: #d4ebff;}#sk-container-id-4 div.sk-label input.sk-toggleable__control:checked~label.sk-toggleable__label {background-color: #d4ebff;}#sk-container-id-4 input.sk-hidden--visually {border: 0;clip: rect(1px 1px 1px 1px);clip: rect(1px, 1px, 1px, 1px);height: 1px;margin: -1px;overflow: hidden;padding: 0;position: absolute;width: 1px;}#sk-container-id-4 div.sk-estimator {font-family: monospace;background-color: #f0f8ff;border: 1px dotted black;border-radius: 0.25em;box-sizing: border-box;margin-bottom: 0.5em;}#sk-container-id-4 div.sk-estimator:hover {background-color: #d4ebff;}#sk-container-id-4 div.sk-parallel-item::after {content: \"\";width: 100%;border-bottom: 1px solid gray;flex-grow: 1;}#sk-container-id-4 div.sk-label:hover label.sk-toggleable__label {background-color: #d4ebff;}#sk-container-id-4 div.sk-serial::before {content: \"\";position: absolute;border-left: 1px solid gray;box-sizing: border-box;top: 0;bottom: 0;left: 50%;z-index: 0;}#sk-container-id-4 div.sk-serial {display: flex;flex-direction: column;align-items: center;background-color: white;padding-right: 0.2em;padding-left: 0.2em;position: relative;}#sk-container-id-4 div.sk-item {position: relative;z-index: 1;}#sk-container-id-4 div.sk-parallel {display: flex;align-items: stretch;justify-content: center;background-color: white;position: relative;}#sk-container-id-4 div.sk-item::before, #sk-container-id-4 div.sk-parallel-item::before {content: \"\";position: absolute;border-left: 1px solid gray;box-sizing: border-box;top: 0;bottom: 0;left: 50%;z-index: -1;}#sk-container-id-4 div.sk-parallel-item {display: flex;flex-direction: column;z-index: 1;position: relative;background-color: white;}#sk-container-id-4 div.sk-parallel-item:first-child::after {align-self: flex-end;width: 50%;}#sk-container-id-4 div.sk-parallel-item:last-child::after {align-self: flex-start;width: 50%;}#sk-container-id-4 div.sk-parallel-item:only-child::after {width: 0;}#sk-container-id-4 div.sk-dashed-wrapped {border: 1px dashed gray;margin: 0 0.4em 0.5em 0.4em;box-sizing: border-box;padding-bottom: 0.4em;background-color: white;}#sk-container-id-4 div.sk-label label {font-family: monospace;font-weight: bold;display: inline-block;line-height: 1.2em;}#sk-container-id-4 div.sk-label-container {text-align: center;}#sk-container-id-4 div.sk-container {/* jupyter's `normalize.less` sets `[hidden] { display: none; }` but bootstrap.min.css set `[hidden] { display: none !important; }` so we also need the `!important` here to be able to override the default hidden behavior on the sphinx rendered scikit-learn.org. See: https://github.com/scikit-learn/scikit-learn/issues/21755 */display: inline-block !important;position: relative;}#sk-container-id-4 div.sk-text-repr-fallback {display: none;}</style><div id=\"sk-container-id-4\" class=\"sk-top-container\"><div class=\"sk-text-repr-fallback\"><pre>LogisticRegression(max_iter=1500, random_state=42)</pre><b>In a Jupyter environment, please rerun this cell to show the HTML representation or trust the notebook. <br />On GitHub, the HTML representation is unable to render, please try loading this page with nbviewer.org.</b></div><div class=\"sk-container\" hidden><div class=\"sk-item\"><div class=\"sk-estimator sk-toggleable\"><input class=\"sk-toggleable__control sk-hidden--visually\" id=\"sk-estimator-id-8\" type=\"checkbox\" checked><label for=\"sk-estimator-id-8\" class=\"sk-toggleable__label sk-toggleable__label-arrow\">LogisticRegression</label><div class=\"sk-toggleable__content\"><pre>LogisticRegression(max_iter=1500, random_state=42)</pre></div></div></div></div></div>"
      ],
      "text/plain": [
       "LogisticRegression(max_iter=1500, random_state=42)"
      ]
     },
     "execution_count": 257,
     "metadata": {},
     "output_type": "execute_result"
    }
   ],
   "source": [
    "%%time\n",
    "clf_log.fit(X_train, y_train)"
   ]
  },
  {
   "cell_type": "code",
   "execution_count": 258,
   "id": "5923aee3",
   "metadata": {},
   "outputs": [],
   "source": [
    "y_pred_log = clf_log.predict(X_val)"
   ]
  },
  {
   "cell_type": "code",
   "execution_count": 259,
   "id": "13aa0574",
   "metadata": {},
   "outputs": [
    {
     "data": {
      "image/png": "[encoded data removed]",
      "text/plain": [
       "<Figure size 640x480 with 2 Axes>"
      ]
     },
     "metadata": {},
     "output_type": "display_data"
    }
   ],
   "source": [
    "def plot_matrix(model, y_test, y_pred):\n",
    "    log_cm = confusion_matrix(y_test, y_pred, labels=model.classes_)\n",
    "\n",
    "    # Create display of confusion matrix\n",
    "    log_disp = ConfusionMatrixDisplay(confusion_matrix=log_cm, display_labels=model.classes_)\n",
    "\n",
    "    # Plot confusion matrix\n",
    "    log_disp.plot()\n",
    "\n",
    "    # Display plot\n",
    "    plt.show()\n",
    "    \n",
    "plot_matrix(clf_log, y_val, y_pred_log)"
   ]
  },
  {
   "cell_type": "code",
   "execution_count": 260,
   "id": "2d59501f",
   "metadata": {},
   "outputs": [
    {
     "data": {
      "text/html": [
       "<div>\n",
       "<style scoped>\n",
       "    .dataframe tbody tr th:only-of-type {\n",
       "        vertical-align: middle;\n",
       "    }\n",
       "\n",
       "    .dataframe tbody tr th {\n",
       "        vertical-align: top;\n",
       "    }\n",
       "\n",
       "    .dataframe thead th {\n",
       "        text-align: right;\n",
       "    }\n",
       "</style>\n",
       "<table border=\"1\" class=\"dataframe\">\n",
       "  <thead>\n",
       "    <tr style=\"text-align: right;\">\n",
       "      <th></th>\n",
       "      <th>model</th>\n",
       "      <th>AUC</th>\n",
       "      <th>precision</th>\n",
       "      <th>recall</th>\n",
       "      <th>f1</th>\n",
       "      <th>accuracy</th>\n",
       "    </tr>\n",
       "  </thead>\n",
       "  <tbody>\n",
       "    <tr>\n",
       "      <th>0</th>\n",
       "      <td>Logistic regression</td>\n",
       "      <td>0.79</td>\n",
       "      <td>0.783</td>\n",
       "      <td>0.81</td>\n",
       "      <td>0.796</td>\n",
       "      <td>0.79</td>\n",
       "    </tr>\n",
       "  </tbody>\n",
       "</table>\n",
       "</div>"
      ],
      "text/plain": [
       "                 model   AUC  precision  recall     f1  accuracy\n",
       "0  Logistic regression  0.79      0.783    0.81  0.796      0.79"
      ]
     },
     "execution_count": 260,
     "metadata": {},
     "output_type": "execute_result"
    }
   ],
   "source": [
    "preds = clf_log.predict(X_val)\n",
    "\n",
    "auc = round(roc_auc_score(y_val, preds), 3)\n",
    "accuracy = round(accuracy_score(y_val, preds), 3)\n",
    "precision = round(precision_score(y_val, preds), 3)\n",
    "recall = round(recall_score(y_val, preds), 3)\n",
    "f1 = round(f1_score(y_val, preds), 3)\n",
    "\n",
    "log_reg_table = pd.DataFrame({'model': \"Logistic regression\",\n",
    "                    'AUC': [auc],\n",
    "                    'precision': [precision], \n",
    "                    'recall': [recall],\n",
    "                    'f1': [f1],\n",
    "                    'accuracy': [accuracy]\n",
    "                    })\n",
    "log_reg_table  "
   ]
  },
  {
   "cell_type": "markdown",
   "id": "946dbbd9",
   "metadata": {},
   "source": [
    "This model present not bad results but let's try other options such as Random Forest"
   ]
  },
  {
   "cell_type": "markdown",
   "id": "21c563ba",
   "metadata": {},
   "source": [
    "### Random Forest Classifier"
   ]
  },
  {
   "cell_type": "code",
   "execution_count": 261,
   "id": "471156b6",
   "metadata": {},
   "outputs": [],
   "source": [
    "clf_rf = RandomForestClassifier(random_state=42)"
   ]
  },
  {
   "cell_type": "code",
   "execution_count": 266,
   "id": "793c1551",
   "metadata": {},
   "outputs": [],
   "source": [
    "cv_params = {'max_depth': [3,5, None], \n",
    "             'max_features': [9,22,32],\n",
    "             'max_samples': [0.05, 0.1, 0.3],\n",
    "             'min_samples_leaf': [3, 5, 7],\n",
    "             'min_samples_split': [2, 3, 4],\n",
    "             'n_estimators': [100, 300, 500],\n",
    "             }  \n",
    "\n",
    "scoring = {'accuracy', 'precision', 'recall', 'f1'}"
   ]
  },
  {
   "cell_type": "code",
   "execution_count": 267,
   "id": "bed40c85",
   "metadata": {},
   "outputs": [],
   "source": [
    "def make_results(model_name: str, model_object, metric: str):\n",
    "    '''\n",
    "    Arguments:\n",
    "        model_name (string): What you want the model to be called in the output table.\n",
    "        model_object: A fit GridSearchCV object.\n",
    "        metric (string): Precision, recall, f1, accuracy, or auc.\n",
    "  \n",
    "    Returns a pandas DataFrame with the F1, recall, precision, accuracy, and AUC scores\n",
    "    for the model with the best mean 'metric' score across all validation folds.  \n",
    "    '''\n",
    "\n",
    "    # Create dictionary that maps input metric to actual metric name in GridSearchCV\n",
    "    metric_dict = {\n",
    "        'precision': 'mean_test_precision',\n",
    "        'recall': 'mean_test_recall',\n",
    "        'f1': 'mean_test_f1',\n",
    "        'accuracy': 'mean_test_accuracy'\n",
    "    }\n",
    "\n",
    "    # Get all the results from the CV and put them in a DataFrame\n",
    "    cv_results = pd.DataFrame(model_object.cv_results_)\n",
    "\n",
    "    # Isolate the row of the DataFrame with the max(metric) score\n",
    "    best_estimator_results = cv_results.iloc[cv_results[metric_dict[metric]].idxmax(), :]\n",
    "\n",
    "    # Extract accuracy, precision, recall, and F1 score from that row\n",
    "    f1 = best_estimator_results['mean_test_f1']\n",
    "    recall = best_estimator_results['mean_test_recall']\n",
    "    precision = best_estimator_results['mean_test_precision']\n",
    "    accuracy = best_estimator_results['mean_test_accuracy']\n",
    "  \n",
    "    # Create DataFrame of results\n",
    "    table = pd.DataFrame({\n",
    "        'Model': [model_name],\n",
    "        'Precision': precision,\n",
    "        'Recall': recall,\n",
    "        'F1': f1,\n",
    "        'Accuracy': accuracy\n",
    "    })\n",
    "  \n",
    "    return table"
   ]
  },
  {
   "cell_type": "code",
   "execution_count": 268,
   "id": "4ad63d98",
   "metadata": {},
   "outputs": [],
   "source": [
    "def get_scores(model_name:str, model, X_test_data, y_test_data):\n",
    "    '''\n",
    "    Generate a table of test scores.\n",
    "\n",
    "    In: \n",
    "        model_name (string):  How you want your model to be named in the output table\n",
    "        model:                A fit GridSearchCV object\n",
    "        X_test_data:          numpy array of X_test data\n",
    "        y_test_data:          numpy array of y_test data\n",
    "\n",
    "    Out: pandas df of precision, recall, f1, accuracy, and AUC scores for your model\n",
    "    '''\n",
    "\n",
    "    preds = model.best_estimator_.predict(X_test_data)\n",
    "\n",
    "    auc = round(roc_auc_score(y_test_data, preds), 3)\n",
    "    accuracy = round(accuracy_score(y_test_data, preds), 3)\n",
    "    precision = round(precision_score(y_test_data, preds), 3)\n",
    "    recall = round(recall_score(y_test_data, preds), 3)\n",
    "    f1 = round(f1_score(y_test_data, preds), 3)\n",
    "\n",
    "    table = pd.DataFrame({'model': [model_name],\n",
    "                        'AUC': [auc],\n",
    "                        'precision': [precision], \n",
    "                        'recall': [recall],\n",
    "                        'f1': [f1],\n",
    "                        'accuracy': [accuracy]\n",
    "                        })\n",
    "  \n",
    "    return table"
   ]
  },
  {
   "cell_type": "code",
   "execution_count": null,
   "id": "15a946a1",
   "metadata": {},
   "outputs": [],
   "source": [
    "%%time\n",
    "rf_cv_acc = GridSearchCV(clf_rf, cv_params, scoring=scoring, cv=5, refit='accuracy')\n",
    "rf_cv_acc.fit(X_train, y_train)"
   ]
  },
  {
   "cell_type": "code",
   "execution_count": 91,
   "id": "8edb8f53",
   "metadata": {},
   "outputs": [
    {
     "data": {
      "text/plain": [
       "0.803934986095582"
      ]
     },
     "execution_count": 91,
     "metadata": {},
     "output_type": "execute_result"
    }
   ],
   "source": [
    "rf_cv_acc.best_score_"
   ]
  },
  {
   "cell_type": "code",
   "execution_count": 92,
   "id": "bd0a976e",
   "metadata": {},
   "outputs": [
    {
     "data": {
      "text/plain": [
       "{'max_depth': None,\n",
       " 'max_features': 22,\n",
       " 'max_samples': 0.3,\n",
       " 'min_samples_leaf': 5,\n",
       " 'min_samples_split': 2,\n",
       " 'n_estimators': 300}"
      ]
     },
     "execution_count": 92,
     "metadata": {},
     "output_type": "execute_result"
    }
   ],
   "source": [
    "rf_cv_acc.best_params_"
   ]
  },
  {
   "cell_type": "code",
   "execution_count": 93,
   "id": "aaf3873b",
   "metadata": {},
   "outputs": [
    {
     "data": {
      "text/html": [
       "<div>\n",
       "<style scoped>\n",
       "    .dataframe tbody tr th:only-of-type {\n",
       "        vertical-align: middle;\n",
       "    }\n",
       "\n",
       "    .dataframe tbody tr th {\n",
       "        vertical-align: top;\n",
       "    }\n",
       "\n",
       "    .dataframe thead th {\n",
       "        text-align: right;\n",
       "    }\n",
       "</style>\n",
       "<table border=\"1\" class=\"dataframe\">\n",
       "  <thead>\n",
       "    <tr style=\"text-align: right;\">\n",
       "      <th></th>\n",
       "      <th>Model</th>\n",
       "      <th>Precision</th>\n",
       "      <th>Recall</th>\n",
       "      <th>F1</th>\n",
       "      <th>Accuracy</th>\n",
       "    </tr>\n",
       "  </thead>\n",
       "  <tbody>\n",
       "    <tr>\n",
       "      <th>0</th>\n",
       "      <td>Random Forest Classifier accuracy</td>\n",
       "      <td>0.814004</td>\n",
       "      <td>0.791198</td>\n",
       "      <td>0.802412</td>\n",
       "      <td>0.803935</td>\n",
       "    </tr>\n",
       "  </tbody>\n",
       "</table>\n",
       "</div>"
      ],
      "text/plain": [
       "                               Model  Precision    Recall        F1  Accuracy\n",
       "0  Random Forest Classifier accuracy   0.814004  0.791198  0.802412  0.803935"
      ]
     },
     "execution_count": 93,
     "metadata": {},
     "output_type": "execute_result"
    }
   ],
   "source": [
    "rf_table_acc = make_results(\"Random Forest Classifier accuracy\", rf_cv_acc, \"accuracy\")\n",
    "rf_table_acc"
   ]
  },
  {
   "cell_type": "code",
   "execution_count": 94,
   "id": "f1a22d0a",
   "metadata": {},
   "outputs": [
    {
     "data": {
      "text/html": [
       "<div>\n",
       "<style scoped>\n",
       "    .dataframe tbody tr th:only-of-type {\n",
       "        vertical-align: middle;\n",
       "    }\n",
       "\n",
       "    .dataframe tbody tr th {\n",
       "        vertical-align: top;\n",
       "    }\n",
       "\n",
       "    .dataframe thead th {\n",
       "        text-align: right;\n",
       "    }\n",
       "</style>\n",
       "<table border=\"1\" class=\"dataframe\">\n",
       "  <thead>\n",
       "    <tr style=\"text-align: right;\">\n",
       "      <th></th>\n",
       "      <th>model</th>\n",
       "      <th>AUC</th>\n",
       "      <th>precision</th>\n",
       "      <th>recall</th>\n",
       "      <th>f1</th>\n",
       "      <th>accuracy</th>\n",
       "    </tr>\n",
       "  </thead>\n",
       "  <tbody>\n",
       "    <tr>\n",
       "      <th>0</th>\n",
       "      <td>Random Forest Classifier accuracy</td>\n",
       "      <td>0.822</td>\n",
       "      <td>0.829</td>\n",
       "      <td>0.816</td>\n",
       "      <td>0.822</td>\n",
       "      <td>0.821</td>\n",
       "    </tr>\n",
       "  </tbody>\n",
       "</table>\n",
       "</div>"
      ],
      "text/plain": [
       "                               model    AUC  precision  recall     f1  \\\n",
       "0  Random Forest Classifier accuracy  0.822      0.829   0.816  0.822   \n",
       "\n",
       "   accuracy  \n",
       "0     0.821  "
      ]
     },
     "execution_count": 94,
     "metadata": {},
     "output_type": "execute_result"
    }
   ],
   "source": [
    "rf_score_acc = get_scores(\"Random Forest Classifier accuracy\", rf_cv_acc, X_val, y_val)\n",
    "rf_score_acc"
   ]
  },
  {
   "cell_type": "code",
   "execution_count": 95,
   "id": "881d91ef",
   "metadata": {},
   "outputs": [
    {
     "data": {
      "image/png": "[encoded data removed]",
      "text/plain": [
       "<Figure size 640x480 with 2 Axes>"
      ]
     },
     "metadata": {},
     "output_type": "display_data"
    }
   ],
   "source": [
    "plot_matrix(rf_cv_acc.best_estimator_, y_val, rf_cv_acc.best_estimator_.predict(X_val))"
   ]
  },
  {
   "cell_type": "markdown",
   "id": "7591f3d0",
   "metadata": {},
   "source": [
    "## XGBoost Classifier "
   ]
  },
  {
   "cell_type": "code",
   "execution_count": 96,
   "id": "c928930c",
   "metadata": {},
   "outputs": [],
   "source": [
    "clf_xgb = XGBClassifier(objective=\"binary:logistic\", random_state=42)\n",
    "\n",
    "cv_params = {\n",
    "    \"max_depth\": [3, 6, 9, 12],\n",
    "    \"min_child_weight\": [3, 5, 7, 9],\n",
    "    \"learning_rate\": [0.001, 0.01, 0.1],\n",
    "    \"n_estimators\": [100, 300, 500]\n",
    "}\n",
    "\n",
    "scoring = {'accuracy', 'precision', 'recall', 'f1'}\n",
    "\n",
    "xgb_cv = GridSearchCV(clf_xgb, cv_params, scoring=scoring, cv=5, refit=\"accuracy\")"
   ]
  },
  {
   "cell_type": "code",
   "execution_count": 97,
   "id": "8cbba3a6",
   "metadata": {},
   "outputs": [
    {
     "name": "stdout",
     "output_type": "stream",
     "text": [
      "CPU times: user 53min 11s, sys: 4min 59s, total: 58min 10s\n",
      "Wall time: 6min 7s\n"
     ]
    },
    {
     "data": {
      "text/html": [
       "<style>#sk-container-id-3 {color: black;background-color: white;}#sk-container-id-3 pre{padding: 0;}#sk-container-id-3 div.sk-toggleable {background-color: white;}#sk-container-id-3 label.sk-toggleable__label {cursor: pointer;display: block;width: 100%;margin-bottom: 0;padding: 0.3em;box-sizing: border-box;text-align: center;}#sk-container-id-3 label.sk-toggleable__label-arrow:before {content: \"▸\";float: left;margin-right: 0.25em;color: #696969;}#sk-container-id-3 label.sk-toggleable__label-arrow:hover:before {color: black;}#sk-container-id-3 div.sk-estimator:hover label.sk-toggleable__label-arrow:before {color: black;}#sk-container-id-3 div.sk-toggleable__content {max-height: 0;max-width: 0;overflow: hidden;text-align: left;background-color: #f0f8ff;}#sk-container-id-3 div.sk-toggleable__content pre {margin: 0.2em;color: black;border-radius: 0.25em;background-color: #f0f8ff;}#sk-container-id-3 input.sk-toggleable__control:checked~div.sk-toggleable__content {max-height: 200px;max-width: 100%;overflow: auto;}#sk-container-id-3 input.sk-toggleable__control:checked~label.sk-toggleable__label-arrow:before {content: \"▾\";}#sk-container-id-3 div.sk-estimator input.sk-toggleable__control:checked~label.sk-toggleable__label {background-color: #d4ebff;}#sk-container-id-3 div.sk-label input.sk-toggleable__control:checked~label.sk-toggleable__label {background-color: #d4ebff;}#sk-container-id-3 input.sk-hidden--visually {border: 0;clip: rect(1px 1px 1px 1px);clip: rect(1px, 1px, 1px, 1px);height: 1px;margin: -1px;overflow: hidden;padding: 0;position: absolute;width: 1px;}#sk-container-id-3 div.sk-estimator {font-family: monospace;background-color: #f0f8ff;border: 1px dotted black;border-radius: 0.25em;box-sizing: border-box;margin-bottom: 0.5em;}#sk-container-id-3 div.sk-estimator:hover {background-color: #d4ebff;}#sk-container-id-3 div.sk-parallel-item::after {content: \"\";width: 100%;border-bottom: 1px solid gray;flex-grow: 1;}#sk-container-id-3 div.sk-label:hover label.sk-toggleable__label {background-color: #d4ebff;}#sk-container-id-3 div.sk-serial::before {content: \"\";position: absolute;border-left: 1px solid gray;box-sizing: border-box;top: 0;bottom: 0;left: 50%;z-index: 0;}#sk-container-id-3 div.sk-serial {display: flex;flex-direction: column;align-items: center;background-color: white;padding-right: 0.2em;padding-left: 0.2em;position: relative;}#sk-container-id-3 div.sk-item {position: relative;z-index: 1;}#sk-container-id-3 div.sk-parallel {display: flex;align-items: stretch;justify-content: center;background-color: white;position: relative;}#sk-container-id-3 div.sk-item::before, #sk-container-id-3 div.sk-parallel-item::before {content: \"\";position: absolute;border-left: 1px solid gray;box-sizing: border-box;top: 0;bottom: 0;left: 50%;z-index: -1;}#sk-container-id-3 div.sk-parallel-item {display: flex;flex-direction: column;z-index: 1;position: relative;background-color: white;}#sk-container-id-3 div.sk-parallel-item:first-child::after {align-self: flex-end;width: 50%;}#sk-container-id-3 div.sk-parallel-item:last-child::after {align-self: flex-start;width: 50%;}#sk-container-id-3 div.sk-parallel-item:only-child::after {width: 0;}#sk-container-id-3 div.sk-dashed-wrapped {border: 1px dashed gray;margin: 0 0.4em 0.5em 0.4em;box-sizing: border-box;padding-bottom: 0.4em;background-color: white;}#sk-container-id-3 div.sk-label label {font-family: monospace;font-weight: bold;display: inline-block;line-height: 1.2em;}#sk-container-id-3 div.sk-label-container {text-align: center;}#sk-container-id-3 div.sk-container {/* jupyter's `normalize.less` sets `[hidden] { display: none; }` but bootstrap.min.css set `[hidden] { display: none !important; }` so we also need the `!important` here to be able to override the default hidden behavior on the sphinx rendered scikit-learn.org. See: https://github.com/scikit-learn/scikit-learn/issues/21755 */display: inline-block !important;position: relative;}#sk-container-id-3 div.sk-text-repr-fallback {display: none;}</style><div id=\"sk-container-id-3\" class=\"sk-top-container\"><div class=\"sk-text-repr-fallback\"><pre>GridSearchCV(cv=5,\n",
       "             estimator=XGBClassifier(base_score=None, booster=None,\n",
       "                                     callbacks=None, colsample_bylevel=None,\n",
       "                                     colsample_bynode=None,\n",
       "                                     colsample_bytree=None,\n",
       "                                     early_stopping_rounds=None,\n",
       "                                     enable_categorical=False, eval_metric=None,\n",
       "                                     gamma=None, gpu_id=None, grow_policy=None,\n",
       "                                     importance_type=None,\n",
       "                                     interaction_constraints=None,\n",
       "                                     learning_rate=None, max_bin=None,\n",
       "                                     max_ca...\n",
       "                                     max_leaves=None, min_child_weight=None,\n",
       "                                     missing=nan, monotone_constraints=None,\n",
       "                                     n_estimators=100, n_jobs=None,\n",
       "                                     num_parallel_tree=None, predictor=None,\n",
       "                                     random_state=42, reg_alpha=None,\n",
       "                                     reg_lambda=None, ...),\n",
       "             param_grid={&#x27;learning_rate&#x27;: [0.001, 0.01, 0.1],\n",
       "                         &#x27;max_depth&#x27;: [3, 6, 9, 12],\n",
       "                         &#x27;min_child_weight&#x27;: [3, 5, 7, 9],\n",
       "                         &#x27;n_estimators&#x27;: [100, 300, 500]},\n",
       "             refit=&#x27;accuracy&#x27;,\n",
       "             scoring={&#x27;accuracy&#x27;, &#x27;recall&#x27;, &#x27;f1&#x27;, &#x27;precision&#x27;})</pre><b>In a Jupyter environment, please rerun this cell to show the HTML representation or trust the notebook. <br />On GitHub, the HTML representation is unable to render, please try loading this page with nbviewer.org.</b></div><div class=\"sk-container\" hidden><div class=\"sk-item sk-dashed-wrapped\"><div class=\"sk-label-container\"><div class=\"sk-label sk-toggleable\"><input class=\"sk-toggleable__control sk-hidden--visually\" id=\"sk-estimator-id-5\" type=\"checkbox\" ><label for=\"sk-estimator-id-5\" class=\"sk-toggleable__label sk-toggleable__label-arrow\">GridSearchCV</label><div class=\"sk-toggleable__content\"><pre>GridSearchCV(cv=5,\n",
       "             estimator=XGBClassifier(base_score=None, booster=None,\n",
       "                                     callbacks=None, colsample_bylevel=None,\n",
       "                                     colsample_bynode=None,\n",
       "                                     colsample_bytree=None,\n",
       "                                     early_stopping_rounds=None,\n",
       "                                     enable_categorical=False, eval_metric=None,\n",
       "                                     gamma=None, gpu_id=None, grow_policy=None,\n",
       "                                     importance_type=None,\n",
       "                                     interaction_constraints=None,\n",
       "                                     learning_rate=None, max_bin=None,\n",
       "                                     max_ca...\n",
       "                                     max_leaves=None, min_child_weight=None,\n",
       "                                     missing=nan, monotone_constraints=None,\n",
       "                                     n_estimators=100, n_jobs=None,\n",
       "                                     num_parallel_tree=None, predictor=None,\n",
       "                                     random_state=42, reg_alpha=None,\n",
       "                                     reg_lambda=None, ...),\n",
       "             param_grid={&#x27;learning_rate&#x27;: [0.001, 0.01, 0.1],\n",
       "                         &#x27;max_depth&#x27;: [3, 6, 9, 12],\n",
       "                         &#x27;min_child_weight&#x27;: [3, 5, 7, 9],\n",
       "                         &#x27;n_estimators&#x27;: [100, 300, 500]},\n",
       "             refit=&#x27;accuracy&#x27;,\n",
       "             scoring={&#x27;accuracy&#x27;, &#x27;recall&#x27;, &#x27;f1&#x27;, &#x27;precision&#x27;})</pre></div></div></div><div class=\"sk-parallel\"><div class=\"sk-parallel-item\"><div class=\"sk-item\"><div class=\"sk-label-container\"><div class=\"sk-label sk-toggleable\"><input class=\"sk-toggleable__control sk-hidden--visually\" id=\"sk-estimator-id-6\" type=\"checkbox\" ><label for=\"sk-estimator-id-6\" class=\"sk-toggleable__label sk-toggleable__label-arrow\">estimator: XGBClassifier</label><div class=\"sk-toggleable__content\"><pre>XGBClassifier(base_score=None, booster=None, callbacks=None,\n",
       "              colsample_bylevel=None, colsample_bynode=None,\n",
       "              colsample_bytree=None, early_stopping_rounds=None,\n",
       "              enable_categorical=False, eval_metric=None, gamma=None,\n",
       "              gpu_id=None, grow_policy=None, importance_type=None,\n",
       "              interaction_constraints=None, learning_rate=None, max_bin=None,\n",
       "              max_cat_to_onehot=None, max_delta_step=None, max_depth=None,\n",
       "              max_leaves=None, min_child_weight=None, missing=nan,\n",
       "              monotone_constraints=None, n_estimators=100, n_jobs=None,\n",
       "              num_parallel_tree=None, predictor=None, random_state=42,\n",
       "              reg_alpha=None, reg_lambda=None, ...)</pre></div></div></div><div class=\"sk-serial\"><div class=\"sk-item\"><div class=\"sk-estimator sk-toggleable\"><input class=\"sk-toggleable__control sk-hidden--visually\" id=\"sk-estimator-id-7\" type=\"checkbox\" ><label for=\"sk-estimator-id-7\" class=\"sk-toggleable__label sk-toggleable__label-arrow\">XGBClassifier</label><div class=\"sk-toggleable__content\"><pre>XGBClassifier(base_score=None, booster=None, callbacks=None,\n",
       "              colsample_bylevel=None, colsample_bynode=None,\n",
       "              colsample_bytree=None, early_stopping_rounds=None,\n",
       "              enable_categorical=False, eval_metric=None, gamma=None,\n",
       "              gpu_id=None, grow_policy=None, importance_type=None,\n",
       "              interaction_constraints=None, learning_rate=None, max_bin=None,\n",
       "              max_cat_to_onehot=None, max_delta_step=None, max_depth=None,\n",
       "              max_leaves=None, min_child_weight=None, missing=nan,\n",
       "              monotone_constraints=None, n_estimators=100, n_jobs=None,\n",
       "              num_parallel_tree=None, predictor=None, random_state=42,\n",
       "              reg_alpha=None, reg_lambda=None, ...)</pre></div></div></div></div></div></div></div></div></div></div>"
      ],
      "text/plain": [
       "GridSearchCV(cv=5,\n",
       "             estimator=XGBClassifier(base_score=None, booster=None,\n",
       "                                     callbacks=None, colsample_bylevel=None,\n",
       "                                     colsample_bynode=None,\n",
       "                                     colsample_bytree=None,\n",
       "                                     early_stopping_rounds=None,\n",
       "                                     enable_categorical=False, eval_metric=None,\n",
       "                                     gamma=None, gpu_id=None, grow_policy=None,\n",
       "                                     importance_type=None,\n",
       "                                     interaction_constraints=None,\n",
       "                                     learning_rate=None, max_bin=None,\n",
       "                                     max_ca...\n",
       "                                     max_leaves=None, min_child_weight=None,\n",
       "                                     missing=nan, monotone_constraints=None,\n",
       "                                     n_estimators=100, n_jobs=None,\n",
       "                                     num_parallel_tree=None, predictor=None,\n",
       "                                     random_state=42, reg_alpha=None,\n",
       "                                     reg_lambda=None, ...),\n",
       "             param_grid={'learning_rate': [0.001, 0.01, 0.1],\n",
       "                         'max_depth': [3, 6, 9, 12],\n",
       "                         'min_child_weight': [3, 5, 7, 9],\n",
       "                         'n_estimators': [100, 300, 500]},\n",
       "             refit='accuracy',\n",
       "             scoring={'accuracy', 'recall', 'f1', 'precision'})"
      ]
     },
     "execution_count": 97,
     "metadata": {},
     "output_type": "execute_result"
    }
   ],
   "source": [
    "%%time\n",
    "xgb_cv.fit(X_train, y_train)"
   ]
  },
  {
   "cell_type": "code",
   "execution_count": 98,
   "id": "280fa6d5",
   "metadata": {},
   "outputs": [
    {
     "data": {
      "text/plain": [
       "0.8071537871620654"
      ]
     },
     "execution_count": 98,
     "metadata": {},
     "output_type": "execute_result"
    }
   ],
   "source": [
    "xgb_cv.best_score_"
   ]
  },
  {
   "cell_type": "code",
   "execution_count": 99,
   "id": "225ae5d3",
   "metadata": {},
   "outputs": [
    {
     "data": {
      "text/html": [
       "<div>\n",
       "<style scoped>\n",
       "    .dataframe tbody tr th:only-of-type {\n",
       "        vertical-align: middle;\n",
       "    }\n",
       "\n",
       "    .dataframe tbody tr th {\n",
       "        vertical-align: top;\n",
       "    }\n",
       "\n",
       "    .dataframe thead th {\n",
       "        text-align: right;\n",
       "    }\n",
       "</style>\n",
       "<table border=\"1\" class=\"dataframe\">\n",
       "  <thead>\n",
       "    <tr style=\"text-align: right;\">\n",
       "      <th></th>\n",
       "      <th>Model</th>\n",
       "      <th>Precision</th>\n",
       "      <th>Recall</th>\n",
       "      <th>F1</th>\n",
       "      <th>Accuracy</th>\n",
       "    </tr>\n",
       "  </thead>\n",
       "  <tbody>\n",
       "    <tr>\n",
       "      <th>0</th>\n",
       "      <td>XGBoost Classifier</td>\n",
       "      <td>0.809072</td>\n",
       "      <td>0.807753</td>\n",
       "      <td>0.808254</td>\n",
       "      <td>0.807154</td>\n",
       "    </tr>\n",
       "  </tbody>\n",
       "</table>\n",
       "</div>"
      ],
      "text/plain": [
       "                Model  Precision    Recall        F1  Accuracy\n",
       "0  XGBoost Classifier   0.809072  0.807753  0.808254  0.807154"
      ]
     },
     "execution_count": 99,
     "metadata": {},
     "output_type": "execute_result"
    }
   ],
   "source": [
    "xgb_table_acc = make_results(\"XGBoost Classifier\", xgb_cv, \"accuracy\")\n",
    "xgb_table_acc"
   ]
  },
  {
   "cell_type": "code",
   "execution_count": 100,
   "id": "81f60c63",
   "metadata": {},
   "outputs": [
    {
     "data": {
      "text/plain": [
       "{'learning_rate': 0.01,\n",
       " 'max_depth': 12,\n",
       " 'min_child_weight': 5,\n",
       " 'n_estimators': 500}"
      ]
     },
     "execution_count": 100,
     "metadata": {},
     "output_type": "execute_result"
    }
   ],
   "source": [
    "xgb_cv.best_params_"
   ]
  },
  {
   "cell_type": "code",
   "execution_count": 101,
   "id": "affe683a",
   "metadata": {},
   "outputs": [
    {
     "data": {
      "text/html": [
       "<div>\n",
       "<style scoped>\n",
       "    .dataframe tbody tr th:only-of-type {\n",
       "        vertical-align: middle;\n",
       "    }\n",
       "\n",
       "    .dataframe tbody tr th {\n",
       "        vertical-align: top;\n",
       "    }\n",
       "\n",
       "    .dataframe thead th {\n",
       "        text-align: right;\n",
       "    }\n",
       "</style>\n",
       "<table border=\"1\" class=\"dataframe\">\n",
       "  <thead>\n",
       "    <tr style=\"text-align: right;\">\n",
       "      <th></th>\n",
       "      <th>model</th>\n",
       "      <th>AUC</th>\n",
       "      <th>precision</th>\n",
       "      <th>recall</th>\n",
       "      <th>f1</th>\n",
       "      <th>accuracy</th>\n",
       "    </tr>\n",
       "  </thead>\n",
       "  <tbody>\n",
       "    <tr>\n",
       "      <th>0</th>\n",
       "      <td>XGBoost Classifier</td>\n",
       "      <td>0.818</td>\n",
       "      <td>0.817</td>\n",
       "      <td>0.825</td>\n",
       "      <td>0.821</td>\n",
       "      <td>0.818</td>\n",
       "    </tr>\n",
       "  </tbody>\n",
       "</table>\n",
       "</div>"
      ],
      "text/plain": [
       "                model    AUC  precision  recall     f1  accuracy\n",
       "0  XGBoost Classifier  0.818      0.817   0.825  0.821     0.818"
      ]
     },
     "execution_count": 101,
     "metadata": {},
     "output_type": "execute_result"
    }
   ],
   "source": [
    "xgb_score_acc = get_scores(\"XGBoost Classifier\", xgb_cv, X_val, y_val)\n",
    "xgb_score_acc"
   ]
  },
  {
   "cell_type": "code",
   "execution_count": 102,
   "id": "801ea05f",
   "metadata": {},
   "outputs": [
    {
     "data": {
      "image/png": "[encoded data removed]",
      "text/plain": [
       "<Figure size 640x480 with 2 Axes>"
      ]
     },
     "metadata": {},
     "output_type": "display_data"
    }
   ],
   "source": [
    "plot_matrix(xgb_cv.best_estimator_, y_val, xgb_cv.best_estimator_.predict(X_val))"
   ]
  },
  {
   "cell_type": "code",
   "execution_count": 105,
   "id": "45d4cae3",
   "metadata": {},
   "outputs": [
    {
     "data": {
      "text/html": [
       "<div>\n",
       "<style scoped>\n",
       "    .dataframe tbody tr th:only-of-type {\n",
       "        vertical-align: middle;\n",
       "    }\n",
       "\n",
       "    .dataframe tbody tr th {\n",
       "        vertical-align: top;\n",
       "    }\n",
       "\n",
       "    .dataframe thead th {\n",
       "        text-align: right;\n",
       "    }\n",
       "</style>\n",
       "<table border=\"1\" class=\"dataframe\">\n",
       "  <thead>\n",
       "    <tr style=\"text-align: right;\">\n",
       "      <th></th>\n",
       "      <th>model</th>\n",
       "      <th>AUC</th>\n",
       "      <th>precision</th>\n",
       "      <th>recall</th>\n",
       "      <th>f1</th>\n",
       "      <th>accuracy</th>\n",
       "    </tr>\n",
       "  </thead>\n",
       "  <tbody>\n",
       "    <tr>\n",
       "      <th>0</th>\n",
       "      <td>XGBoost Classifier</td>\n",
       "      <td>0.818</td>\n",
       "      <td>0.817</td>\n",
       "      <td>0.825</td>\n",
       "      <td>0.821</td>\n",
       "      <td>0.818</td>\n",
       "    </tr>\n",
       "    <tr>\n",
       "      <th>0</th>\n",
       "      <td>Random Forest Classifier accuracy</td>\n",
       "      <td>0.822</td>\n",
       "      <td>0.829</td>\n",
       "      <td>0.816</td>\n",
       "      <td>0.822</td>\n",
       "      <td>0.821</td>\n",
       "    </tr>\n",
       "    <tr>\n",
       "      <th>0</th>\n",
       "      <td>Logistic regression</td>\n",
       "      <td>0.793</td>\n",
       "      <td>0.786</td>\n",
       "      <td>0.813</td>\n",
       "      <td>0.799</td>\n",
       "      <td>0.793</td>\n",
       "    </tr>\n",
       "  </tbody>\n",
       "</table>\n",
       "</div>"
      ],
      "text/plain": [
       "                               model    AUC  precision  recall     f1  \\\n",
       "0                 XGBoost Classifier  0.818      0.817   0.825  0.821   \n",
       "0  Random Forest Classifier accuracy  0.822      0.829   0.816  0.822   \n",
       "0                Logistic regression  0.793      0.786   0.813  0.799   \n",
       "\n",
       "   accuracy  \n",
       "0     0.818  \n",
       "0     0.821  \n",
       "0     0.793  "
      ]
     },
     "execution_count": 105,
     "metadata": {},
     "output_type": "execute_result"
    }
   ],
   "source": [
    "table_score = pd.concat([xgb_score_acc, rf_score_acc, log_reg_table])\n",
    "table_score"
   ]
  },
  {
   "cell_type": "markdown",
   "id": "796e0391",
   "metadata": {},
   "source": [
    "We see that two last model present almost the same result and slightly better than Logistic regression model. Let's look at the feature importance in this prediction"
   ]
  },
  {
   "cell_type": "code",
   "execution_count": 106,
   "id": "356d3728",
   "metadata": {},
   "outputs": [
    {
     "data": {
      "image/png": "[encoded data removed]",
      "text/plain": [
       "<Figure size 640x480 with 1 Axes>"
      ]
     },
     "metadata": {},
     "output_type": "display_data"
    }
   ],
   "source": [
    "plot_importance(xgb_cv.best_estimator_)\n",
    "plt.show()"
   ]
  },
  {
   "cell_type": "markdown",
   "id": "3ab1d82a",
   "metadata": {},
   "source": []
  },
  {
   "cell_type": "markdown",
   "id": "5bbf1050",
   "metadata": {},
   "source": [
    "### Considering the values we will stick with Random Forest Classifier"
   ]
  },
  {
   "cell_type": "code",
   "execution_count": 197,
   "id": "ed632b86",
   "metadata": {},
   "outputs": [],
   "source": [
    "model = rf_cv_acc.best_estimator_"
   ]
  },
  {
   "cell_type": "code",
   "execution_count": 198,
   "id": "1fbd4424",
   "metadata": {},
   "outputs": [],
   "source": [
    "predictions = model.predict(df_test_corr)"
   ]
  },
  {
   "cell_type": "code",
   "execution_count": 210,
   "id": "ebf3cda8",
   "metadata": {},
   "outputs": [],
   "source": [
    "output = pd.DataFrame({'PassengerId': df_test.PassengerId, 'Transported': predictions})\n",
    "output[\"Transported\"] = output[\"Transported\"].astype(bool)\n",
    "output.to_csv('submission.csv', index=False)"
   ]
  },
  {
   "cell_type": "markdown",
   "id": "13ea3b21",
   "metadata": {},
   "source": [
    "### On the validation set we did get 82.1 accuracy score which was good comapare even to grid serch. Let's see what test data will show us. "
   ]
  },
  {
   "cell_type": "markdown",
   "id": "c913ed3b",
   "metadata": {},
   "source": [
    "So get best score 0.79144 and place in a queue is 1456. Could be better, so let's look and some improve"
   ]
  },
  {
   "cell_type": "code",
   "execution_count": 204,
   "id": "ee7bd118",
   "metadata": {},
   "outputs": [
    {
     "data": {
      "text/html": [
       "<div>\n",
       "<style scoped>\n",
       "    .dataframe tbody tr th:only-of-type {\n",
       "        vertical-align: middle;\n",
       "    }\n",
       "\n",
       "    .dataframe tbody tr th {\n",
       "        vertical-align: top;\n",
       "    }\n",
       "\n",
       "    .dataframe thead th {\n",
       "        text-align: right;\n",
       "    }\n",
       "</style>\n",
       "<table border=\"1\" class=\"dataframe\">\n",
       "  <thead>\n",
       "    <tr style=\"text-align: right;\">\n",
       "      <th></th>\n",
       "      <th>CryoSleep</th>\n",
       "      <th>Age</th>\n",
       "      <th>VIP</th>\n",
       "      <th>RoomService</th>\n",
       "      <th>FoodCourt</th>\n",
       "      <th>ShoppingMall</th>\n",
       "      <th>Spa</th>\n",
       "      <th>VRDeck</th>\n",
       "      <th>Rich</th>\n",
       "      <th>HomePlanet_Earth</th>\n",
       "      <th>...</th>\n",
       "      <th>Deck_A</th>\n",
       "      <th>Deck_B</th>\n",
       "      <th>Deck_C</th>\n",
       "      <th>Deck_D</th>\n",
       "      <th>Deck_E</th>\n",
       "      <th>Deck_F</th>\n",
       "      <th>Deck_G</th>\n",
       "      <th>Deck_T</th>\n",
       "      <th>Side_P</th>\n",
       "      <th>Side_S</th>\n",
       "    </tr>\n",
       "  </thead>\n",
       "  <tbody>\n",
       "    <tr>\n",
       "      <th>0</th>\n",
       "      <td>1</td>\n",
       "      <td>27.0</td>\n",
       "      <td>0</td>\n",
       "      <td>0.0</td>\n",
       "      <td>0.0</td>\n",
       "      <td>0.0</td>\n",
       "      <td>0.0</td>\n",
       "      <td>0.0</td>\n",
       "      <td>0</td>\n",
       "      <td>1</td>\n",
       "      <td>...</td>\n",
       "      <td>0</td>\n",
       "      <td>0</td>\n",
       "      <td>0</td>\n",
       "      <td>0</td>\n",
       "      <td>0</td>\n",
       "      <td>0</td>\n",
       "      <td>1</td>\n",
       "      <td>0</td>\n",
       "      <td>0</td>\n",
       "      <td>1</td>\n",
       "    </tr>\n",
       "    <tr>\n",
       "      <th>1</th>\n",
       "      <td>0</td>\n",
       "      <td>19.0</td>\n",
       "      <td>0</td>\n",
       "      <td>0.0</td>\n",
       "      <td>9.0</td>\n",
       "      <td>0.0</td>\n",
       "      <td>2823.0</td>\n",
       "      <td>0.0</td>\n",
       "      <td>0</td>\n",
       "      <td>1</td>\n",
       "      <td>...</td>\n",
       "      <td>0</td>\n",
       "      <td>0</td>\n",
       "      <td>0</td>\n",
       "      <td>0</td>\n",
       "      <td>0</td>\n",
       "      <td>1</td>\n",
       "      <td>0</td>\n",
       "      <td>0</td>\n",
       "      <td>0</td>\n",
       "      <td>1</td>\n",
       "    </tr>\n",
       "    <tr>\n",
       "      <th>2</th>\n",
       "      <td>1</td>\n",
       "      <td>31.0</td>\n",
       "      <td>0</td>\n",
       "      <td>0.0</td>\n",
       "      <td>0.0</td>\n",
       "      <td>0.0</td>\n",
       "      <td>0.0</td>\n",
       "      <td>0.0</td>\n",
       "      <td>0</td>\n",
       "      <td>0</td>\n",
       "      <td>...</td>\n",
       "      <td>0</td>\n",
       "      <td>0</td>\n",
       "      <td>1</td>\n",
       "      <td>0</td>\n",
       "      <td>0</td>\n",
       "      <td>0</td>\n",
       "      <td>0</td>\n",
       "      <td>0</td>\n",
       "      <td>0</td>\n",
       "      <td>1</td>\n",
       "    </tr>\n",
       "    <tr>\n",
       "      <th>3</th>\n",
       "      <td>0</td>\n",
       "      <td>38.0</td>\n",
       "      <td>0</td>\n",
       "      <td>0.0</td>\n",
       "      <td>6652.0</td>\n",
       "      <td>0.0</td>\n",
       "      <td>181.0</td>\n",
       "      <td>585.0</td>\n",
       "      <td>1</td>\n",
       "      <td>0</td>\n",
       "      <td>...</td>\n",
       "      <td>0</td>\n",
       "      <td>0</td>\n",
       "      <td>1</td>\n",
       "      <td>0</td>\n",
       "      <td>0</td>\n",
       "      <td>0</td>\n",
       "      <td>0</td>\n",
       "      <td>0</td>\n",
       "      <td>0</td>\n",
       "      <td>1</td>\n",
       "    </tr>\n",
       "    <tr>\n",
       "      <th>4</th>\n",
       "      <td>0</td>\n",
       "      <td>20.0</td>\n",
       "      <td>0</td>\n",
       "      <td>10.0</td>\n",
       "      <td>0.0</td>\n",
       "      <td>635.0</td>\n",
       "      <td>0.0</td>\n",
       "      <td>0.0</td>\n",
       "      <td>0</td>\n",
       "      <td>1</td>\n",
       "      <td>...</td>\n",
       "      <td>0</td>\n",
       "      <td>0</td>\n",
       "      <td>0</td>\n",
       "      <td>0</td>\n",
       "      <td>0</td>\n",
       "      <td>1</td>\n",
       "      <td>0</td>\n",
       "      <td>0</td>\n",
       "      <td>0</td>\n",
       "      <td>1</td>\n",
       "    </tr>\n",
       "  </tbody>\n",
       "</table>\n",
       "<p>5 rows × 25 columns</p>\n",
       "</div>"
      ],
      "text/plain": [
       "   CryoSleep   Age  VIP  RoomService  FoodCourt  ShoppingMall     Spa  VRDeck  \\\n",
       "0          1  27.0    0          0.0        0.0           0.0     0.0     0.0   \n",
       "1          0  19.0    0          0.0        9.0           0.0  2823.0     0.0   \n",
       "2          1  31.0    0          0.0        0.0           0.0     0.0     0.0   \n",
       "3          0  38.0    0          0.0     6652.0           0.0   181.0   585.0   \n",
       "4          0  20.0    0         10.0        0.0         635.0     0.0     0.0   \n",
       "\n",
       "   Rich  HomePlanet_Earth  ...  Deck_A  Deck_B  Deck_C  Deck_D  Deck_E  \\\n",
       "0     0                 1  ...       0       0       0       0       0   \n",
       "1     0                 1  ...       0       0       0       0       0   \n",
       "2     0                 0  ...       0       0       1       0       0   \n",
       "3     1                 0  ...       0       0       1       0       0   \n",
       "4     0                 1  ...       0       0       0       0       0   \n",
       "\n",
       "   Deck_F  Deck_G  Deck_T  Side_P  Side_S  \n",
       "0       0       1       0       0       1  \n",
       "1       1       0       0       0       1  \n",
       "2       0       0       0       0       1  \n",
       "3       0       0       0       0       1  \n",
       "4       1       0       0       0       1  \n",
       "\n",
       "[5 rows x 25 columns]"
      ]
     },
     "execution_count": 204,
     "metadata": {},
     "output_type": "execute_result"
    }
   ],
   "source": []
  },
  {
   "cell_type": "code",
   "execution_count": 208,
   "id": "252ed7b3",
   "metadata": {},
   "outputs": [
    {
     "data": {
      "text/plain": [
       "0    2209\n",
       "1    2068\n",
       "Name: Transported, dtype: int64"
      ]
     },
     "execution_count": 208,
     "metadata": {},
     "output_type": "execute_result"
    }
   ],
   "source": []
  },
  {
   "cell_type": "code",
   "execution_count": 209,
   "id": "f1d30d8e",
   "metadata": {},
   "outputs": [
    {
     "data": {
      "text/html": [
       "<div>\n",
       "<style scoped>\n",
       "    .dataframe tbody tr th:only-of-type {\n",
       "        vertical-align: middle;\n",
       "    }\n",
       "\n",
       "    .dataframe tbody tr th {\n",
       "        vertical-align: top;\n",
       "    }\n",
       "\n",
       "    .dataframe thead th {\n",
       "        text-align: right;\n",
       "    }\n",
       "</style>\n",
       "<table border=\"1\" class=\"dataframe\">\n",
       "  <thead>\n",
       "    <tr style=\"text-align: right;\">\n",
       "      <th></th>\n",
       "      <th>PassengerId</th>\n",
       "      <th>Transported</th>\n",
       "    </tr>\n",
       "  </thead>\n",
       "  <tbody>\n",
       "    <tr>\n",
       "      <th>0</th>\n",
       "      <td>0013_01</td>\n",
       "      <td>1</td>\n",
       "    </tr>\n",
       "    <tr>\n",
       "      <th>1</th>\n",
       "      <td>0018_01</td>\n",
       "      <td>0</td>\n",
       "    </tr>\n",
       "    <tr>\n",
       "      <th>2</th>\n",
       "      <td>0019_01</td>\n",
       "      <td>1</td>\n",
       "    </tr>\n",
       "    <tr>\n",
       "      <th>3</th>\n",
       "      <td>0021_01</td>\n",
       "      <td>1</td>\n",
       "    </tr>\n",
       "    <tr>\n",
       "      <th>4</th>\n",
       "      <td>0023_01</td>\n",
       "      <td>1</td>\n",
       "    </tr>\n",
       "  </tbody>\n",
       "</table>\n",
       "</div>"
      ],
      "text/plain": [
       "  PassengerId  Transported\n",
       "0     0013_01            1\n",
       "1     0018_01            0\n",
       "2     0019_01            1\n",
       "3     0021_01            1\n",
       "4     0023_01            1"
      ]
     },
     "execution_count": 209,
     "metadata": {},
     "output_type": "execute_result"
    }
   ],
   "source": []
  },
  {
   "cell_type": "code",
   "execution_count": null,
   "id": "bae77430",
   "metadata": {},
   "outputs": [],
   "source": []
  }
 ],
 "metadata": {
  "kernelspec": {
   "display_name": "Python 3 (ipykernel)",
   "language": "python",
   "name": "python3"
  },
  "language_info": {
   "codemirror_mode": {
    "name": "ipython",
    "version": 3
   },
   "file_extension": ".py",
   "mimetype": "text/x-python",
   "name": "python",
   "nbconvert_exporter": "python",
   "pygments_lexer": "ipython3",
   "version": "3.10.9"
  }
 },
 "nbformat": 4,
 "nbformat_minor": 5
}
